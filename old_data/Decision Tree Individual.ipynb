{
 "cells": [
  {
   "cell_type": "markdown",
   "id": "21fd420f",
   "metadata": {},
   "source": [
    "## Imports"
   ]
  },
  {
   "cell_type": "code",
   "execution_count": 1,
   "id": "0a05fcd1",
   "metadata": {},
   "outputs": [],
   "source": [
    "import glob\n",
    "import json\n",
    "import pandas as pd\n",
    "import numpy as np\n",
    "from pprint import pprint\n",
    "from collections import OrderedDict"
   ]
  },
  {
   "cell_type": "markdown",
   "id": "4be2f3f1",
   "metadata": {},
   "source": [
    "## Constants"
   ]
  },
  {
   "cell_type": "code",
   "execution_count": 2,
   "id": "18226ba7",
   "metadata": {},
   "outputs": [],
   "source": [
    "data_path = \"data/\"\n",
    "models_path = \"models/\""
   ]
  },
  {
   "cell_type": "markdown",
   "id": "ffdf1113",
   "metadata": {},
   "source": [
    "## List Files in Data Folder"
   ]
  },
  {
   "cell_type": "code",
   "execution_count": 3,
   "id": "080aa285",
   "metadata": {},
   "outputs": [
    {
     "data": {
      "text/plain": [
       "['data\\\\W_YFA0002_UID_198D94B1-7CD8-4D3C-BCD3-14C9374A1F3D_TS_12-07-2022-GMT%200530-04-41-14-PM.csv',\n",
       " 'data\\\\W_YFA0003_UID_198D94B1-7CD8-4D3C-BCD3-14C9374A1F3D_TS_12-07-2022-GMT%200530-04-52-03-PM.csv',\n",
       " 'data\\\\W_YFA0004_UID_198D94B1-7CD8-4D3C-BCD3-14C9374A1F3D_TS_12-07-2022-GMT%200530-04-52-49-PM.csv']"
      ]
     },
     "execution_count": 3,
     "metadata": {},
     "output_type": "execute_result"
    }
   ],
   "source": [
    "file_list = glob.glob(data_path+\"*.csv\")\n",
    "file_list"
   ]
  },
  {
   "cell_type": "markdown",
   "id": "45a1abcd",
   "metadata": {},
   "source": [
    "## Combine the data to single CSV"
   ]
  },
  {
   "cell_type": "code",
   "execution_count": 4,
   "id": "c06ed72f",
   "metadata": {},
   "outputs": [
    {
     "data": {
      "text/html": [
       "<div>\n",
       "<style scoped>\n",
       "    .dataframe tbody tr th:only-of-type {\n",
       "        vertical-align: middle;\n",
       "    }\n",
       "\n",
       "    .dataframe tbody tr th {\n",
       "        vertical-align: top;\n",
       "    }\n",
       "\n",
       "    .dataframe thead th {\n",
       "        text-align: right;\n",
       "    }\n",
       "</style>\n",
       "<table border=\"1\" class=\"dataframe\">\n",
       "  <thead>\n",
       "    <tr style=\"text-align: right;\">\n",
       "      <th></th>\n",
       "      <th>Pitch</th>\n",
       "      <th>Yaw</th>\n",
       "      <th>Roll</th>\n",
       "      <th>Label</th>\n",
       "    </tr>\n",
       "  </thead>\n",
       "  <tbody>\n",
       "    <tr>\n",
       "      <th>0</th>\n",
       "      <td>-0.176710</td>\n",
       "      <td>-0.015289</td>\n",
       "      <td>-0.172170</td>\n",
       "      <td>YFA0002</td>\n",
       "    </tr>\n",
       "    <tr>\n",
       "      <th>1</th>\n",
       "      <td>-0.184059</td>\n",
       "      <td>-0.006228</td>\n",
       "      <td>-0.179977</td>\n",
       "      <td>YFA0002</td>\n",
       "    </tr>\n",
       "    <tr>\n",
       "      <th>2</th>\n",
       "      <td>-0.177588</td>\n",
       "      <td>-0.006947</td>\n",
       "      <td>-0.174225</td>\n",
       "      <td>YFA0002</td>\n",
       "    </tr>\n",
       "    <tr>\n",
       "      <th>3</th>\n",
       "      <td>-0.163639</td>\n",
       "      <td>-0.013477</td>\n",
       "      <td>-0.171067</td>\n",
       "      <td>YFA0002</td>\n",
       "    </tr>\n",
       "    <tr>\n",
       "      <th>4</th>\n",
       "      <td>-0.161429</td>\n",
       "      <td>-0.016017</td>\n",
       "      <td>-0.167205</td>\n",
       "      <td>YFA0002</td>\n",
       "    </tr>\n",
       "    <tr>\n",
       "      <th>...</th>\n",
       "      <td>...</td>\n",
       "      <td>...</td>\n",
       "      <td>...</td>\n",
       "      <td>...</td>\n",
       "    </tr>\n",
       "    <tr>\n",
       "      <th>87</th>\n",
       "      <td>-0.189604</td>\n",
       "      <td>0.146176</td>\n",
       "      <td>1.268635</td>\n",
       "      <td>YFA0004</td>\n",
       "    </tr>\n",
       "    <tr>\n",
       "      <th>88</th>\n",
       "      <td>-0.190246</td>\n",
       "      <td>0.148044</td>\n",
       "      <td>1.269392</td>\n",
       "      <td>YFA0004</td>\n",
       "    </tr>\n",
       "    <tr>\n",
       "      <th>89</th>\n",
       "      <td>-0.190909</td>\n",
       "      <td>0.146365</td>\n",
       "      <td>1.269509</td>\n",
       "      <td>YFA0004</td>\n",
       "    </tr>\n",
       "    <tr>\n",
       "      <th>90</th>\n",
       "      <td>-0.191233</td>\n",
       "      <td>0.142468</td>\n",
       "      <td>1.269482</td>\n",
       "      <td>YFA0004</td>\n",
       "    </tr>\n",
       "    <tr>\n",
       "      <th>91</th>\n",
       "      <td>-0.191971</td>\n",
       "      <td>0.144888</td>\n",
       "      <td>1.270769</td>\n",
       "      <td>YFA0004</td>\n",
       "    </tr>\n",
       "  </tbody>\n",
       "</table>\n",
       "<p>288 rows × 4 columns</p>\n",
       "</div>"
      ],
      "text/plain": [
       "       Pitch       Yaw      Roll    Label\n",
       "0  -0.176710 -0.015289 -0.172170  YFA0002\n",
       "1  -0.184059 -0.006228 -0.179977  YFA0002\n",
       "2  -0.177588 -0.006947 -0.174225  YFA0002\n",
       "3  -0.163639 -0.013477 -0.171067  YFA0002\n",
       "4  -0.161429 -0.016017 -0.167205  YFA0002\n",
       "..       ...       ...       ...      ...\n",
       "87 -0.189604  0.146176  1.268635  YFA0004\n",
       "88 -0.190246  0.148044  1.269392  YFA0004\n",
       "89 -0.190909  0.146365  1.269509  YFA0004\n",
       "90 -0.191233  0.142468  1.269482  YFA0004\n",
       "91 -0.191971  0.144888  1.270769  YFA0004\n",
       "\n",
       "[288 rows x 4 columns]"
      ]
     },
     "execution_count": 4,
     "metadata": {},
     "output_type": "execute_result"
    }
   ],
   "source": [
    "df_total = pd.DataFrame()\n",
    "for i in file_list:\n",
    "    fname = i.split(\"\\\\\")[-1]\n",
    "    asanaId = fname.split(\"_\")[1]\n",
    "    userId = fname.split(\"_\")[3]\n",
    "    timestamp = fname.split(\"_\")[5]\n",
    "    \n",
    "    df = pd.read_csv(i)\n",
    "    df[\"Label\"] = asanaId\n",
    "    df_total = pd.concat([df_total, df])\n",
    "df_total.to_csv(models_path+\"combined.csv\", index=False)\n",
    "df_total"
   ]
  },
  {
   "cell_type": "markdown",
   "id": "7b9930fe",
   "metadata": {},
   "source": [
    "## Read Combined CSV"
   ]
  },
  {
   "cell_type": "code",
   "execution_count": 5,
   "id": "eb2a883f",
   "metadata": {},
   "outputs": [
    {
     "data": {
      "text/html": [
       "<div>\n",
       "<style scoped>\n",
       "    .dataframe tbody tr th:only-of-type {\n",
       "        vertical-align: middle;\n",
       "    }\n",
       "\n",
       "    .dataframe tbody tr th {\n",
       "        vertical-align: top;\n",
       "    }\n",
       "\n",
       "    .dataframe thead th {\n",
       "        text-align: right;\n",
       "    }\n",
       "</style>\n",
       "<table border=\"1\" class=\"dataframe\">\n",
       "  <thead>\n",
       "    <tr style=\"text-align: right;\">\n",
       "      <th></th>\n",
       "      <th>Pitch</th>\n",
       "      <th>Yaw</th>\n",
       "      <th>Roll</th>\n",
       "      <th>Label</th>\n",
       "    </tr>\n",
       "  </thead>\n",
       "  <tbody>\n",
       "    <tr>\n",
       "      <th>0</th>\n",
       "      <td>-0.176710</td>\n",
       "      <td>-0.015289</td>\n",
       "      <td>-0.172170</td>\n",
       "      <td>YFA0002</td>\n",
       "    </tr>\n",
       "    <tr>\n",
       "      <th>1</th>\n",
       "      <td>-0.184059</td>\n",
       "      <td>-0.006228</td>\n",
       "      <td>-0.179977</td>\n",
       "      <td>YFA0002</td>\n",
       "    </tr>\n",
       "    <tr>\n",
       "      <th>2</th>\n",
       "      <td>-0.177588</td>\n",
       "      <td>-0.006947</td>\n",
       "      <td>-0.174225</td>\n",
       "      <td>YFA0002</td>\n",
       "    </tr>\n",
       "    <tr>\n",
       "      <th>3</th>\n",
       "      <td>-0.163639</td>\n",
       "      <td>-0.013477</td>\n",
       "      <td>-0.171067</td>\n",
       "      <td>YFA0002</td>\n",
       "    </tr>\n",
       "    <tr>\n",
       "      <th>4</th>\n",
       "      <td>-0.161429</td>\n",
       "      <td>-0.016017</td>\n",
       "      <td>-0.167205</td>\n",
       "      <td>YFA0002</td>\n",
       "    </tr>\n",
       "    <tr>\n",
       "      <th>...</th>\n",
       "      <td>...</td>\n",
       "      <td>...</td>\n",
       "      <td>...</td>\n",
       "      <td>...</td>\n",
       "    </tr>\n",
       "    <tr>\n",
       "      <th>283</th>\n",
       "      <td>-0.189604</td>\n",
       "      <td>0.146176</td>\n",
       "      <td>1.268635</td>\n",
       "      <td>YFA0004</td>\n",
       "    </tr>\n",
       "    <tr>\n",
       "      <th>284</th>\n",
       "      <td>-0.190246</td>\n",
       "      <td>0.148044</td>\n",
       "      <td>1.269392</td>\n",
       "      <td>YFA0004</td>\n",
       "    </tr>\n",
       "    <tr>\n",
       "      <th>285</th>\n",
       "      <td>-0.190909</td>\n",
       "      <td>0.146365</td>\n",
       "      <td>1.269509</td>\n",
       "      <td>YFA0004</td>\n",
       "    </tr>\n",
       "    <tr>\n",
       "      <th>286</th>\n",
       "      <td>-0.191233</td>\n",
       "      <td>0.142468</td>\n",
       "      <td>1.269482</td>\n",
       "      <td>YFA0004</td>\n",
       "    </tr>\n",
       "    <tr>\n",
       "      <th>287</th>\n",
       "      <td>-0.191971</td>\n",
       "      <td>0.144888</td>\n",
       "      <td>1.270769</td>\n",
       "      <td>YFA0004</td>\n",
       "    </tr>\n",
       "  </tbody>\n",
       "</table>\n",
       "<p>288 rows × 4 columns</p>\n",
       "</div>"
      ],
      "text/plain": [
       "        Pitch       Yaw      Roll    Label\n",
       "0   -0.176710 -0.015289 -0.172170  YFA0002\n",
       "1   -0.184059 -0.006228 -0.179977  YFA0002\n",
       "2   -0.177588 -0.006947 -0.174225  YFA0002\n",
       "3   -0.163639 -0.013477 -0.171067  YFA0002\n",
       "4   -0.161429 -0.016017 -0.167205  YFA0002\n",
       "..        ...       ...       ...      ...\n",
       "283 -0.189604  0.146176  1.268635  YFA0004\n",
       "284 -0.190246  0.148044  1.269392  YFA0004\n",
       "285 -0.190909  0.146365  1.269509  YFA0004\n",
       "286 -0.191233  0.142468  1.269482  YFA0004\n",
       "287 -0.191971  0.144888  1.270769  YFA0004\n",
       "\n",
       "[288 rows x 4 columns]"
      ]
     },
     "execution_count": 5,
     "metadata": {},
     "output_type": "execute_result"
    }
   ],
   "source": [
    "df = pd.read_csv(models_path+\"combined.csv\")\n",
    "df"
   ]
  },
  {
   "cell_type": "code",
   "execution_count": 6,
   "id": "96a63355",
   "metadata": {},
   "outputs": [
    {
     "name": "stdout",
     "output_type": "stream",
     "text": [
      "{'labelmap': [{'asana_id': 'YFA0002', 'label': 0},\n",
      "              {'asana_id': 'YFA0003', 'label': 1},\n",
      "              {'asana_id': 'YFA0004', 'label': 2}],\n",
      " 'model': '12-07-2022-GMT%200530-04-52-49-PM.csv',\n",
      " 'name': 'Yogifi'}\n"
     ]
    }
   ],
   "source": [
    "#\n",
    "# create a JSON map and save a file locally\n",
    "#\n",
    "pred_label = []\n",
    "org_label = list(df_total[\"Label\"].unique())\n",
    "for i in range(len(org_label)):\n",
    "    pred_label.append(i)\n",
    "\n",
    "#dict_file = {}\n",
    "dict_file = OrderedDict()\n",
    "for a in range(len(org_label)):\n",
    "    dict_file[org_label[a]] = pred_label[a]\n",
    "    \n",
    "#d = {\"name\":\"Yogifi\",\"model_date\": str(timestamp) ,\"labels\":[{'id':key,'label':value } for key,value in dict_file.items()]}\n",
    "d = {\"name\":\"Yogifi\",\"model\": str(timestamp) ,\"labelmap\":[{'asana_id':key,'label':value } for key,value in dict_file.items()]}\n",
    "# d = {\"name\":\"Yogifi\",\"model\": str(timestamp) ,\"labelmap\":[{key:value } for key,value in dict_file.items()]}\n",
    "r = json.dumps(d)\n",
    "loaded_r = json.loads(r)\n",
    "pprint(loaded_r)\n",
    "file_name = models_path+\"labels\"\n",
    "with open(file_name+'.json', 'w') as outfile:\n",
    "    #json.dump(r, outfile)\n",
    "    print(r,file=outfile)"
   ]
  },
  {
   "cell_type": "markdown",
   "id": "8273788d",
   "metadata": {},
   "source": [
    "## Factorize the Data"
   ]
  },
  {
   "cell_type": "code",
   "execution_count": 7,
   "id": "0486e0ff",
   "metadata": {},
   "outputs": [
    {
     "data": {
      "text/html": [
       "<div>\n",
       "<style scoped>\n",
       "    .dataframe tbody tr th:only-of-type {\n",
       "        vertical-align: middle;\n",
       "    }\n",
       "\n",
       "    .dataframe tbody tr th {\n",
       "        vertical-align: top;\n",
       "    }\n",
       "\n",
       "    .dataframe thead th {\n",
       "        text-align: right;\n",
       "    }\n",
       "</style>\n",
       "<table border=\"1\" class=\"dataframe\">\n",
       "  <thead>\n",
       "    <tr style=\"text-align: right;\">\n",
       "      <th></th>\n",
       "      <th>0</th>\n",
       "      <th>1</th>\n",
       "      <th>2</th>\n",
       "      <th>3</th>\n",
       "    </tr>\n",
       "  </thead>\n",
       "  <tbody>\n",
       "    <tr>\n",
       "      <th>0</th>\n",
       "      <td>-0.176710</td>\n",
       "      <td>-0.015289</td>\n",
       "      <td>-0.172170</td>\n",
       "      <td>0</td>\n",
       "    </tr>\n",
       "    <tr>\n",
       "      <th>1</th>\n",
       "      <td>-0.184059</td>\n",
       "      <td>-0.006228</td>\n",
       "      <td>-0.179977</td>\n",
       "      <td>0</td>\n",
       "    </tr>\n",
       "    <tr>\n",
       "      <th>2</th>\n",
       "      <td>-0.177588</td>\n",
       "      <td>-0.006947</td>\n",
       "      <td>-0.174225</td>\n",
       "      <td>0</td>\n",
       "    </tr>\n",
       "    <tr>\n",
       "      <th>3</th>\n",
       "      <td>-0.163639</td>\n",
       "      <td>-0.013477</td>\n",
       "      <td>-0.171067</td>\n",
       "      <td>0</td>\n",
       "    </tr>\n",
       "    <tr>\n",
       "      <th>4</th>\n",
       "      <td>-0.161429</td>\n",
       "      <td>-0.016017</td>\n",
       "      <td>-0.167205</td>\n",
       "      <td>0</td>\n",
       "    </tr>\n",
       "    <tr>\n",
       "      <th>...</th>\n",
       "      <td>...</td>\n",
       "      <td>...</td>\n",
       "      <td>...</td>\n",
       "      <td>...</td>\n",
       "    </tr>\n",
       "    <tr>\n",
       "      <th>283</th>\n",
       "      <td>-0.189604</td>\n",
       "      <td>0.146176</td>\n",
       "      <td>1.268635</td>\n",
       "      <td>2</td>\n",
       "    </tr>\n",
       "    <tr>\n",
       "      <th>284</th>\n",
       "      <td>-0.190246</td>\n",
       "      <td>0.148044</td>\n",
       "      <td>1.269392</td>\n",
       "      <td>2</td>\n",
       "    </tr>\n",
       "    <tr>\n",
       "      <th>285</th>\n",
       "      <td>-0.190909</td>\n",
       "      <td>0.146365</td>\n",
       "      <td>1.269509</td>\n",
       "      <td>2</td>\n",
       "    </tr>\n",
       "    <tr>\n",
       "      <th>286</th>\n",
       "      <td>-0.191233</td>\n",
       "      <td>0.142468</td>\n",
       "      <td>1.269482</td>\n",
       "      <td>2</td>\n",
       "    </tr>\n",
       "    <tr>\n",
       "      <th>287</th>\n",
       "      <td>-0.191971</td>\n",
       "      <td>0.144888</td>\n",
       "      <td>1.270769</td>\n",
       "      <td>2</td>\n",
       "    </tr>\n",
       "  </tbody>\n",
       "</table>\n",
       "<p>288 rows × 4 columns</p>\n",
       "</div>"
      ],
      "text/plain": [
       "            0         1         2  3\n",
       "0   -0.176710 -0.015289 -0.172170  0\n",
       "1   -0.184059 -0.006228 -0.179977  0\n",
       "2   -0.177588 -0.006947 -0.174225  0\n",
       "3   -0.163639 -0.013477 -0.171067  0\n",
       "4   -0.161429 -0.016017 -0.167205  0\n",
       "..        ...       ...       ... ..\n",
       "283 -0.189604  0.146176  1.268635  2\n",
       "284 -0.190246  0.148044  1.269392  2\n",
       "285 -0.190909  0.146365  1.269509  2\n",
       "286 -0.191233  0.142468  1.269482  2\n",
       "287 -0.191971  0.144888  1.270769  2\n",
       "\n",
       "[288 rows x 4 columns]"
      ]
     },
     "execution_count": 7,
     "metadata": {},
     "output_type": "execute_result"
    }
   ],
   "source": [
    "df[\"Label\"] = pd.factorize(df[\"Label\"])[0]\n",
    "df[\"Label\"] = df[\"Label\"].astype(\"category\")\n",
    "df.columns = range(df.shape[1])\n",
    "df.to_csv(models_path+\"train.csv\", header = None, index=False)\n",
    "df"
   ]
  },
  {
   "cell_type": "markdown",
   "id": "a56309bc",
   "metadata": {},
   "source": [
    "## Read Train Data"
   ]
  },
  {
   "cell_type": "code",
   "execution_count": 8,
   "id": "4224a31f",
   "metadata": {},
   "outputs": [
    {
     "data": {
      "text/html": [
       "<div>\n",
       "<style scoped>\n",
       "    .dataframe tbody tr th:only-of-type {\n",
       "        vertical-align: middle;\n",
       "    }\n",
       "\n",
       "    .dataframe tbody tr th {\n",
       "        vertical-align: top;\n",
       "    }\n",
       "\n",
       "    .dataframe thead th {\n",
       "        text-align: right;\n",
       "    }\n",
       "</style>\n",
       "<table border=\"1\" class=\"dataframe\">\n",
       "  <thead>\n",
       "    <tr style=\"text-align: right;\">\n",
       "      <th></th>\n",
       "      <th>0</th>\n",
       "      <th>1</th>\n",
       "      <th>2</th>\n",
       "      <th>3</th>\n",
       "    </tr>\n",
       "  </thead>\n",
       "  <tbody>\n",
       "    <tr>\n",
       "      <th>0</th>\n",
       "      <td>-0.176710</td>\n",
       "      <td>-0.015289</td>\n",
       "      <td>-0.172170</td>\n",
       "      <td>0</td>\n",
       "    </tr>\n",
       "    <tr>\n",
       "      <th>1</th>\n",
       "      <td>-0.184059</td>\n",
       "      <td>-0.006228</td>\n",
       "      <td>-0.179977</td>\n",
       "      <td>0</td>\n",
       "    </tr>\n",
       "    <tr>\n",
       "      <th>2</th>\n",
       "      <td>-0.177588</td>\n",
       "      <td>-0.006947</td>\n",
       "      <td>-0.174225</td>\n",
       "      <td>0</td>\n",
       "    </tr>\n",
       "    <tr>\n",
       "      <th>3</th>\n",
       "      <td>-0.163639</td>\n",
       "      <td>-0.013477</td>\n",
       "      <td>-0.171067</td>\n",
       "      <td>0</td>\n",
       "    </tr>\n",
       "    <tr>\n",
       "      <th>4</th>\n",
       "      <td>-0.161429</td>\n",
       "      <td>-0.016017</td>\n",
       "      <td>-0.167205</td>\n",
       "      <td>0</td>\n",
       "    </tr>\n",
       "    <tr>\n",
       "      <th>...</th>\n",
       "      <td>...</td>\n",
       "      <td>...</td>\n",
       "      <td>...</td>\n",
       "      <td>...</td>\n",
       "    </tr>\n",
       "    <tr>\n",
       "      <th>283</th>\n",
       "      <td>-0.189604</td>\n",
       "      <td>0.146176</td>\n",
       "      <td>1.268635</td>\n",
       "      <td>2</td>\n",
       "    </tr>\n",
       "    <tr>\n",
       "      <th>284</th>\n",
       "      <td>-0.190246</td>\n",
       "      <td>0.148044</td>\n",
       "      <td>1.269392</td>\n",
       "      <td>2</td>\n",
       "    </tr>\n",
       "    <tr>\n",
       "      <th>285</th>\n",
       "      <td>-0.190909</td>\n",
       "      <td>0.146365</td>\n",
       "      <td>1.269509</td>\n",
       "      <td>2</td>\n",
       "    </tr>\n",
       "    <tr>\n",
       "      <th>286</th>\n",
       "      <td>-0.191233</td>\n",
       "      <td>0.142468</td>\n",
       "      <td>1.269482</td>\n",
       "      <td>2</td>\n",
       "    </tr>\n",
       "    <tr>\n",
       "      <th>287</th>\n",
       "      <td>-0.191971</td>\n",
       "      <td>0.144888</td>\n",
       "      <td>1.270769</td>\n",
       "      <td>2</td>\n",
       "    </tr>\n",
       "  </tbody>\n",
       "</table>\n",
       "<p>288 rows × 4 columns</p>\n",
       "</div>"
      ],
      "text/plain": [
       "            0         1         2  3\n",
       "0   -0.176710 -0.015289 -0.172170  0\n",
       "1   -0.184059 -0.006228 -0.179977  0\n",
       "2   -0.177588 -0.006947 -0.174225  0\n",
       "3   -0.163639 -0.013477 -0.171067  0\n",
       "4   -0.161429 -0.016017 -0.167205  0\n",
       "..        ...       ...       ... ..\n",
       "283 -0.189604  0.146176  1.268635  2\n",
       "284 -0.190246  0.148044  1.269392  2\n",
       "285 -0.190909  0.146365  1.269509  2\n",
       "286 -0.191233  0.142468  1.269482  2\n",
       "287 -0.191971  0.144888  1.270769  2\n",
       "\n",
       "[288 rows x 4 columns]"
      ]
     },
     "execution_count": 8,
     "metadata": {},
     "output_type": "execute_result"
    }
   ],
   "source": [
    "df = pd.read_csv(models_path+\"train.csv\", header = None)\n",
    "df"
   ]
  },
  {
   "cell_type": "markdown",
   "id": "8ac74cf6",
   "metadata": {},
   "source": [
    "## Train a Decision Tree Classifier"
   ]
  },
  {
   "cell_type": "code",
   "execution_count": 9,
   "id": "a2668e78",
   "metadata": {},
   "outputs": [],
   "source": [
    "from sklearn.tree import DecisionTreeClassifier # Import Decision Tree Classifier\n",
    "from sklearn.model_selection import train_test_split # Import train_test_split function\n",
    "from sklearn import metrics #Import scikit-learn metrics module for accuracy calculation"
   ]
  },
  {
   "cell_type": "code",
   "execution_count": 10,
   "id": "8537b59e",
   "metadata": {},
   "outputs": [
    {
     "name": "stderr",
     "output_type": "stream",
     "text": [
      "C:\\Users\\Shashank\\anaconda3\\envs\\coremltools\\lib\\site-packages\\ipykernel_launcher.py:1: FutureWarning: In a future version of pandas all arguments of DataFrame.drop except for the argument 'labels' will be keyword-only\n",
      "  \"\"\"Entry point for launching an IPython kernel.\n"
     ]
    }
   ],
   "source": [
    "X = df.drop(3,1)\n",
    "y = df[3]"
   ]
  },
  {
   "cell_type": "code",
   "execution_count": 11,
   "id": "48a61196",
   "metadata": {},
   "outputs": [],
   "source": [
    "X_train, X_test, y_train, y_test = train_test_split(X, y, test_size=0.3, random_state=1)"
   ]
  },
  {
   "cell_type": "code",
   "execution_count": 12,
   "id": "0fa9a688",
   "metadata": {},
   "outputs": [],
   "source": [
    "clf = DecisionTreeClassifier()\n",
    "# clf = DecisionTreeClassifier(criterion=\"entropy\", max_depth=3)"
   ]
  },
  {
   "cell_type": "code",
   "execution_count": 13,
   "id": "7b415489",
   "metadata": {},
   "outputs": [
    {
     "name": "stderr",
     "output_type": "stream",
     "text": [
      "C:\\Users\\Shashank\\anaconda3\\envs\\coremltools\\lib\\site-packages\\sklearn\\tree\\tree.py:149: DeprecationWarning: `np.int` is a deprecated alias for the builtin `int`. To silence this warning, use `int` by itself. Doing this will not modify any behavior and is safe. When replacing `np.int`, you may wish to use e.g. `np.int64` or `np.int32` to specify the precision. If you wish to review your current use, check the release note link for additional information.\n",
      "Deprecated in NumPy 1.20; for more details and guidance: https://numpy.org/devdocs/release/1.20.0-notes.html#deprecations\n",
      "  y_encoded = np.zeros(y.shape, dtype=np.int)\n"
     ]
    }
   ],
   "source": [
    "clf = clf.fit(X_train,y_train)"
   ]
  },
  {
   "cell_type": "code",
   "execution_count": 14,
   "id": "6500cea7",
   "metadata": {},
   "outputs": [],
   "source": [
    "y_pred = clf.predict(X_test)"
   ]
  },
  {
   "cell_type": "code",
   "execution_count": 15,
   "id": "1c84df90",
   "metadata": {},
   "outputs": [
    {
     "name": "stdout",
     "output_type": "stream",
     "text": [
      "Accuracy: 1.0\n"
     ]
    }
   ],
   "source": [
    "print(\"Accuracy:\",metrics.accuracy_score(y_test, y_pred))"
   ]
  },
  {
   "cell_type": "markdown",
   "id": "8b427d81",
   "metadata": {},
   "source": [
    "## Saving the Model"
   ]
  },
  {
   "cell_type": "code",
   "execution_count": 16,
   "id": "17a3b014",
   "metadata": {},
   "outputs": [],
   "source": [
    "import pickle"
   ]
  },
  {
   "cell_type": "code",
   "execution_count": 17,
   "id": "0055f68a",
   "metadata": {},
   "outputs": [],
   "source": [
    "with open(models_path+'model.pkl','wb') as f:\n",
    "    pickle.dump(clf,f)"
   ]
  },
  {
   "cell_type": "code",
   "execution_count": 18,
   "id": "f4c11f98",
   "metadata": {},
   "outputs": [],
   "source": [
    "with open(models_path+'model.pkl', 'rb') as f:\n",
    "    clf2 = pickle.load(f)"
   ]
  },
  {
   "cell_type": "code",
   "execution_count": 19,
   "id": "64c20c08",
   "metadata": {},
   "outputs": [],
   "source": [
    "y_pred = clf2.predict(X_test)"
   ]
  },
  {
   "cell_type": "code",
   "execution_count": 20,
   "id": "9c7f1725",
   "metadata": {},
   "outputs": [
    {
     "name": "stdout",
     "output_type": "stream",
     "text": [
      "Accuracy: 1.0\n"
     ]
    }
   ],
   "source": [
    "print(\"Accuracy:\",metrics.accuracy_score(y_test, y_pred))"
   ]
  },
  {
   "cell_type": "markdown",
   "id": "7949dcb1",
   "metadata": {},
   "source": [
    "## Converting the Model to ML Model"
   ]
  },
  {
   "cell_type": "code",
   "execution_count": 21,
   "id": "f6f99d3a",
   "metadata": {},
   "outputs": [
    {
     "name": "stderr",
     "output_type": "stream",
     "text": [
      "WARNING:root:TensorFlow version 2.9.1 has not been tested with coremltools. You may run into unexpected errors. TensorFlow 2.6.2 is the most recent version that has been tested.\n",
      "WARNING:root:Keras version 2.9.0 has not been tested with coremltools. You may run into unexpected errors. Keras 2.6.0 is the most recent version that has been tested.\n"
     ]
    }
   ],
   "source": [
    "import coremltools"
   ]
  },
  {
   "cell_type": "code",
   "execution_count": 22,
   "id": "b7354dd2",
   "metadata": {
    "scrolled": true
   },
   "outputs": [
    {
     "name": "stderr",
     "output_type": "stream",
     "text": [
      "C:\\Users\\Shashank\\anaconda3\\envs\\coremltools\\lib\\site-packages\\sklearn\\feature_extraction\\image.py:167: DeprecationWarning: `np.int` is a deprecated alias for the builtin `int`. To silence this warning, use `int` by itself. Doing this will not modify any behavior and is safe. When replacing `np.int`, you may wish to use e.g. `np.int64` or `np.int32` to specify the precision. If you wish to review your current use, check the release note link for additional information.\n",
      "Deprecated in NumPy 1.20; for more details and guidance: https://numpy.org/devdocs/release/1.20.0-notes.html#deprecations\n",
      "  dtype=np.int):\n",
      "C:\\Users\\Shashank\\anaconda3\\envs\\coremltools\\lib\\site-packages\\sklearn\\feature_extraction\\text.py:17: DeprecationWarning: Using or importing the ABCs from 'collections' instead of from 'collections.abc' is deprecated since Python 3.3,and in 3.9 it will stop working\n",
      "  from collections import Mapping, defaultdict\n",
      "C:\\Users\\Shashank\\anaconda3\\envs\\coremltools\\lib\\site-packages\\sklearn\\linear_model\\least_angle.py:35: DeprecationWarning: `np.float` is a deprecated alias for the builtin `float`. To silence this warning, use `float` by itself. Doing this will not modify any behavior and is safe. If you specifically wanted the numpy scalar type, use `np.float64` here.\n",
      "Deprecated in NumPy 1.20; for more details and guidance: https://numpy.org/devdocs/release/1.20.0-notes.html#deprecations\n",
      "  eps=np.finfo(np.float).eps,\n",
      "C:\\Users\\Shashank\\anaconda3\\envs\\coremltools\\lib\\site-packages\\sklearn\\linear_model\\least_angle.py:597: DeprecationWarning: `np.float` is a deprecated alias for the builtin `float`. To silence this warning, use `float` by itself. Doing this will not modify any behavior and is safe. If you specifically wanted the numpy scalar type, use `np.float64` here.\n",
      "Deprecated in NumPy 1.20; for more details and guidance: https://numpy.org/devdocs/release/1.20.0-notes.html#deprecations\n",
      "  eps=np.finfo(np.float).eps, copy_X=True, fit_path=True,\n",
      "C:\\Users\\Shashank\\anaconda3\\envs\\coremltools\\lib\\site-packages\\sklearn\\linear_model\\least_angle.py:836: DeprecationWarning: `np.float` is a deprecated alias for the builtin `float`. To silence this warning, use `float` by itself. Doing this will not modify any behavior and is safe. If you specifically wanted the numpy scalar type, use `np.float64` here.\n",
      "Deprecated in NumPy 1.20; for more details and guidance: https://numpy.org/devdocs/release/1.20.0-notes.html#deprecations\n",
      "  eps=np.finfo(np.float).eps, copy_X=True, fit_path=True,\n",
      "C:\\Users\\Shashank\\anaconda3\\envs\\coremltools\\lib\\site-packages\\sklearn\\linear_model\\least_angle.py:862: DeprecationWarning: `np.float` is a deprecated alias for the builtin `float`. To silence this warning, use `float` by itself. Doing this will not modify any behavior and is safe. If you specifically wanted the numpy scalar type, use `np.float64` here.\n",
      "Deprecated in NumPy 1.20; for more details and guidance: https://numpy.org/devdocs/release/1.20.0-notes.html#deprecations\n",
      "  eps=np.finfo(np.float).eps, positive=False):\n",
      "C:\\Users\\Shashank\\anaconda3\\envs\\coremltools\\lib\\site-packages\\sklearn\\linear_model\\least_angle.py:1074: DeprecationWarning: `np.float` is a deprecated alias for the builtin `float`. To silence this warning, use `float` by itself. Doing this will not modify any behavior and is safe. If you specifically wanted the numpy scalar type, use `np.float64` here.\n",
      "Deprecated in NumPy 1.20; for more details and guidance: https://numpy.org/devdocs/release/1.20.0-notes.html#deprecations\n",
      "  max_n_alphas=1000, n_jobs=1, eps=np.finfo(np.float).eps,\n",
      "C:\\Users\\Shashank\\anaconda3\\envs\\coremltools\\lib\\site-packages\\sklearn\\linear_model\\least_angle.py:1306: DeprecationWarning: `np.float` is a deprecated alias for the builtin `float`. To silence this warning, use `float` by itself. Doing this will not modify any behavior and is safe. If you specifically wanted the numpy scalar type, use `np.float64` here.\n",
      "Deprecated in NumPy 1.20; for more details and guidance: https://numpy.org/devdocs/release/1.20.0-notes.html#deprecations\n",
      "  max_n_alphas=1000, n_jobs=1, eps=np.finfo(np.float).eps,\n",
      "C:\\Users\\Shashank\\anaconda3\\envs\\coremltools\\lib\\site-packages\\sklearn\\linear_model\\least_angle.py:1442: DeprecationWarning: `np.float` is a deprecated alias for the builtin `float`. To silence this warning, use `float` by itself. Doing this will not modify any behavior and is safe. If you specifically wanted the numpy scalar type, use `np.float64` here.\n",
      "Deprecated in NumPy 1.20; for more details and guidance: https://numpy.org/devdocs/release/1.20.0-notes.html#deprecations\n",
      "  eps=np.finfo(np.float).eps, copy_X=True, positive=False):\n",
      "C:\\Users\\Shashank\\anaconda3\\envs\\coremltools\\lib\\site-packages\\sklearn\\linear_model\\randomized_l1.py:152: DeprecationWarning: `np.float` is a deprecated alias for the builtin `float`. To silence this warning, use `float` by itself. Doing this will not modify any behavior and is safe. If you specifically wanted the numpy scalar type, use `np.float64` here.\n",
      "Deprecated in NumPy 1.20; for more details and guidance: https://numpy.org/devdocs/release/1.20.0-notes.html#deprecations\n",
      "  precompute=False, eps=np.finfo(np.float).eps,\n",
      "C:\\Users\\Shashank\\anaconda3\\envs\\coremltools\\lib\\site-packages\\sklearn\\linear_model\\randomized_l1.py:318: DeprecationWarning: `np.float` is a deprecated alias for the builtin `float`. To silence this warning, use `float` by itself. Doing this will not modify any behavior and is safe. If you specifically wanted the numpy scalar type, use `np.float64` here.\n",
      "Deprecated in NumPy 1.20; for more details and guidance: https://numpy.org/devdocs/release/1.20.0-notes.html#deprecations\n",
      "  eps=np.finfo(np.float).eps, random_state=None,\n",
      "C:\\Users\\Shashank\\anaconda3\\envs\\coremltools\\lib\\site-packages\\sklearn\\linear_model\\randomized_l1.py:575: DeprecationWarning: `np.float` is a deprecated alias for the builtin `float`. To silence this warning, use `float` by itself. Doing this will not modify any behavior and is safe. If you specifically wanted the numpy scalar type, use `np.float64` here.\n",
      "Deprecated in NumPy 1.20; for more details and guidance: https://numpy.org/devdocs/release/1.20.0-notes.html#deprecations\n",
      "  eps=4 * np.finfo(np.float).eps, n_jobs=1,\n",
      "C:\\Users\\Shashank\\anaconda3\\envs\\coremltools\\lib\\site-packages\\sklearn\\ensemble\\weight_boosting.py:29: DeprecationWarning: numpy.core.umath_tests is an internal NumPy module and should not be imported. It will be removed in a future NumPy release.\n",
      "  from numpy.core.umath_tests import inner1d\n",
      "C:\\Users\\Shashank\\anaconda3\\envs\\coremltools\\lib\\site-packages\\sklearn\\ensemble\\gradient_boosting.py:34: DeprecationWarning: `np.bool` is a deprecated alias for the builtin `bool`. To silence this warning, use `bool` by itself. Doing this will not modify any behavior and is safe. If you specifically wanted the numpy scalar type, use `np.bool_` here.\n",
      "Deprecated in NumPy 1.20; for more details and guidance: https://numpy.org/devdocs/release/1.20.0-notes.html#deprecations\n",
      "  from ._gradient_boosting import predict_stages\n",
      "C:\\Users\\Shashank\\anaconda3\\envs\\coremltools\\lib\\site-packages\\sklearn\\ensemble\\gradient_boosting.py:34: DeprecationWarning: `np.bool` is a deprecated alias for the builtin `bool`. To silence this warning, use `bool` by itself. Doing this will not modify any behavior and is safe. If you specifically wanted the numpy scalar type, use `np.bool_` here.\n",
      "Deprecated in NumPy 1.20; for more details and guidance: https://numpy.org/devdocs/release/1.20.0-notes.html#deprecations\n",
      "  from ._gradient_boosting import predict_stages\n"
     ]
    },
    {
     "ename": "Exception",
     "evalue": "Unable to load libmodelpackage. Cannot make save spec.",
     "output_type": "error",
     "traceback": [
      "\u001b[1;31m---------------------------------------------------------------------------\u001b[0m",
      "\u001b[1;31mException\u001b[0m                                 Traceback (most recent call last)",
      "\u001b[1;32m~\\AppData\\Local\\Temp\\ipykernel_16952\\868875899.py\u001b[0m in \u001b[0;36m<module>\u001b[1;34m\u001b[0m\n\u001b[1;32m----> 1\u001b[1;33m \u001b[0mcoreml_model\u001b[0m \u001b[1;33m=\u001b[0m \u001b[0mcoremltools\u001b[0m\u001b[1;33m.\u001b[0m\u001b[0mconverters\u001b[0m\u001b[1;33m.\u001b[0m\u001b[0msklearn\u001b[0m\u001b[1;33m.\u001b[0m\u001b[0mconvert\u001b[0m\u001b[1;33m(\u001b[0m\u001b[0mclf\u001b[0m\u001b[1;33m)\u001b[0m\u001b[1;33m\u001b[0m\u001b[1;33m\u001b[0m\u001b[0m\n\u001b[0m",
      "\u001b[1;32m~\\anaconda3\\envs\\coremltools\\lib\\site-packages\\coremltools\\converters\\sklearn\\_converter.py\u001b[0m in \u001b[0;36mconvert\u001b[1;34m(sk_obj, input_features, output_feature_names)\u001b[0m\n\u001b[0;32m    149\u001b[0m \u001b[1;33m\u001b[0m\u001b[0m\n\u001b[0;32m    150\u001b[0m     spec = _convert_sklearn_model(\n\u001b[1;32m--> 151\u001b[1;33m         \u001b[0msk_obj\u001b[0m\u001b[1;33m,\u001b[0m \u001b[0minput_features\u001b[0m\u001b[1;33m,\u001b[0m \u001b[0moutput_feature_names\u001b[0m\u001b[1;33m,\u001b[0m \u001b[0mclass_labels\u001b[0m\u001b[1;33m=\u001b[0m\u001b[1;32mNone\u001b[0m\u001b[1;33m\u001b[0m\u001b[1;33m\u001b[0m\u001b[0m\n\u001b[0m\u001b[0;32m    152\u001b[0m     )\n\u001b[0;32m    153\u001b[0m \u001b[1;33m\u001b[0m\u001b[0m\n",
      "\u001b[1;32m~\\anaconda3\\envs\\coremltools\\lib\\site-packages\\coremltools\\converters\\sklearn\\_converter_internal.py\u001b[0m in \u001b[0;36m_convert_sklearn_model\u001b[1;34m(input_sk_obj, input_features, output_feature_names, class_labels)\u001b[0m\n\u001b[0;32m    334\u001b[0m \u001b[1;33m\u001b[0m\u001b[0m\n\u001b[0;32m    335\u001b[0m     last_spec = last_sk_m.convert(\n\u001b[1;32m--> 336\u001b[1;33m         \u001b[0mlast_sk_obj\u001b[0m\u001b[1;33m,\u001b[0m \u001b[0mcurrent_input_features\u001b[0m\u001b[1;33m,\u001b[0m \u001b[0moutput_features\u001b[0m\u001b[1;33m\u001b[0m\u001b[1;33m\u001b[0m\u001b[0m\n\u001b[0m\u001b[0;32m    337\u001b[0m     )._spec\n\u001b[0;32m    338\u001b[0m \u001b[1;33m\u001b[0m\u001b[0m\n",
      "\u001b[1;32m~\\anaconda3\\envs\\coremltools\\lib\\site-packages\\coremltools\\converters\\sklearn\\_decision_tree_classifier.py\u001b[0m in \u001b[0;36mconvert\u001b[1;34m(model, input_name, output_features)\u001b[0m\n\u001b[0;32m     52\u001b[0m             \u001b[0moutput_features\u001b[0m\u001b[1;33m,\u001b[0m\u001b[1;33m\u001b[0m\u001b[1;33m\u001b[0m\u001b[0m\n\u001b[0;32m     53\u001b[0m             \u001b[0mmode\u001b[0m\u001b[1;33m=\u001b[0m\u001b[1;34m\"classifier\"\u001b[0m\u001b[1;33m,\u001b[0m\u001b[1;33m\u001b[0m\u001b[1;33m\u001b[0m\u001b[0m\n\u001b[1;32m---> 54\u001b[1;33m             \u001b[0mclass_labels\u001b[0m\u001b[1;33m=\u001b[0m\u001b[0mmodel\u001b[0m\u001b[1;33m.\u001b[0m\u001b[0mclasses_\u001b[0m\u001b[1;33m,\u001b[0m\u001b[1;33m\u001b[0m\u001b[1;33m\u001b[0m\u001b[0m\n\u001b[0m\u001b[0;32m     55\u001b[0m         )\n\u001b[0;32m     56\u001b[0m     )\n",
      "\u001b[1;32m~\\anaconda3\\envs\\coremltools\\lib\\site-packages\\coremltools\\models\\model.py\u001b[0m in \u001b[0;36m__init__\u001b[1;34m(self, model, useCPUOnly, is_temp_package, mil_program, skip_model_load, compute_units, weights_dir)\u001b[0m\n\u001b[0;32m    345\u001b[0m \u001b[1;33m\u001b[0m\u001b[0m\n\u001b[0;32m    346\u001b[0m             self.__proxy__, self._spec, self._framework_error = _get_proxy_and_spec(\n\u001b[1;32m--> 347\u001b[1;33m                 \u001b[0mfilename\u001b[0m\u001b[1;33m,\u001b[0m \u001b[0mcompute_units\u001b[0m\u001b[1;33m,\u001b[0m \u001b[0mskip_model_load\u001b[0m\u001b[1;33m=\u001b[0m\u001b[0mskip_model_load\u001b[0m\u001b[1;33m,\u001b[0m\u001b[1;33m\u001b[0m\u001b[1;33m\u001b[0m\u001b[0m\n\u001b[0m\u001b[0;32m    348\u001b[0m             )\n\u001b[0;32m    349\u001b[0m             \u001b[1;32mtry\u001b[0m\u001b[1;33m:\u001b[0m\u001b[1;33m\u001b[0m\u001b[1;33m\u001b[0m\u001b[0m\n",
      "\u001b[1;32m~\\anaconda3\\envs\\coremltools\\lib\\site-packages\\coremltools\\models\\model.py\u001b[0m in \u001b[0;36m_get_proxy_and_spec\u001b[1;34m(filename, compute_units, skip_model_load)\u001b[0m\n\u001b[0;32m    121\u001b[0m \u001b[1;33m\u001b[0m\u001b[0m\n\u001b[0;32m    122\u001b[0m     \u001b[0mfilename\u001b[0m \u001b[1;33m=\u001b[0m \u001b[0m_os\u001b[0m\u001b[1;33m.\u001b[0m\u001b[0mpath\u001b[0m\u001b[1;33m.\u001b[0m\u001b[0mexpanduser\u001b[0m\u001b[1;33m(\u001b[0m\u001b[0mfilename\u001b[0m\u001b[1;33m)\u001b[0m\u001b[1;33m\u001b[0m\u001b[1;33m\u001b[0m\u001b[0m\n\u001b[1;32m--> 123\u001b[1;33m     \u001b[0mspecification\u001b[0m \u001b[1;33m=\u001b[0m \u001b[0m_load_spec\u001b[0m\u001b[1;33m(\u001b[0m\u001b[0mfilename\u001b[0m\u001b[1;33m)\u001b[0m\u001b[1;33m\u001b[0m\u001b[1;33m\u001b[0m\u001b[0m\n\u001b[0m\u001b[0;32m    124\u001b[0m \u001b[1;33m\u001b[0m\u001b[0m\n\u001b[0;32m    125\u001b[0m     \u001b[1;32mif\u001b[0m \u001b[0m_MLModelProxy\u001b[0m \u001b[1;32mand\u001b[0m \u001b[1;32mnot\u001b[0m \u001b[0mskip_model_load\u001b[0m\u001b[1;33m:\u001b[0m\u001b[1;33m\u001b[0m\u001b[1;33m\u001b[0m\u001b[0m\n",
      "\u001b[1;32m~\\anaconda3\\envs\\coremltools\\lib\\site-packages\\coremltools\\models\\utils.py\u001b[0m in \u001b[0;36mload_spec\u001b[1;34m(filename)\u001b[0m\n\u001b[0;32m    209\u001b[0m     \u001b[1;32mif\u001b[0m \u001b[0m_ModelPackage\u001b[0m \u001b[1;32mis\u001b[0m \u001b[1;32mNone\u001b[0m\u001b[1;33m:\u001b[0m\u001b[1;33m\u001b[0m\u001b[1;33m\u001b[0m\u001b[0m\n\u001b[0;32m    210\u001b[0m         raise Exception(\n\u001b[1;32m--> 211\u001b[1;33m             \u001b[1;34m\"Unable to load libmodelpackage. Cannot make save spec.\"\u001b[0m\u001b[1;33m\u001b[0m\u001b[1;33m\u001b[0m\u001b[0m\n\u001b[0m\u001b[0;32m    212\u001b[0m         )\n\u001b[0;32m    213\u001b[0m \u001b[1;33m\u001b[0m\u001b[0m\n",
      "\u001b[1;31mException\u001b[0m: Unable to load libmodelpackage. Cannot make save spec."
     ]
    }
   ],
   "source": [
    "coreml_model = coremltools.converters.sklearn.convert(clf)"
   ]
  },
  {
   "cell_type": "code",
   "execution_count": null,
   "id": "624a5e9b",
   "metadata": {},
   "outputs": [],
   "source": [
    "coreml_model.save('wearable.mlmodel')"
   ]
  },
  {
   "cell_type": "code",
   "execution_count": null,
   "id": "6d119865",
   "metadata": {},
   "outputs": [],
   "source": []
  }
 ],
 "metadata": {
  "kernelspec": {
   "display_name": "Python 3 (ipykernel)",
   "language": "python",
   "name": "python3"
  },
  "language_info": {
   "codemirror_mode": {
    "name": "ipython",
    "version": 3
   },
   "file_extension": ".py",
   "mimetype": "text/x-python",
   "name": "python",
   "nbconvert_exporter": "python",
   "pygments_lexer": "ipython3",
   "version": "3.10.9"
  }
 },
 "nbformat": 4,
 "nbformat_minor": 5
}
