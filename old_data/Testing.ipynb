{
 "cells": [
  {
   "cell_type": "code",
   "execution_count": 13,
   "id": "10b11536",
   "metadata": {},
   "outputs": [],
   "source": [
    "# This Notebook describe the test results for watch ML Model with asana data\n",
    "import pickle\n",
    "import pandas as pd\n",
    "import warnings\n",
    "import matplotlib.pyplot as plt\n",
    "warnings.filterwarnings(\"ignore\")\n",
    "with open('data/svc_model.pkl', 'rb') as f:\n",
    "    model = pickle.load(f)"
   ]
  },
  {
   "cell_type": "code",
   "execution_count": 14,
   "id": "7c68a4cb",
   "metadata": {},
   "outputs": [
    {
     "data": {
      "text/html": [
       "<style>#sk-container-id-4 {color: black;background-color: white;}#sk-container-id-4 pre{padding: 0;}#sk-container-id-4 div.sk-toggleable {background-color: white;}#sk-container-id-4 label.sk-toggleable__label {cursor: pointer;display: block;width: 100%;margin-bottom: 0;padding: 0.3em;box-sizing: border-box;text-align: center;}#sk-container-id-4 label.sk-toggleable__label-arrow:before {content: \"▸\";float: left;margin-right: 0.25em;color: #696969;}#sk-container-id-4 label.sk-toggleable__label-arrow:hover:before {color: black;}#sk-container-id-4 div.sk-estimator:hover label.sk-toggleable__label-arrow:before {color: black;}#sk-container-id-4 div.sk-toggleable__content {max-height: 0;max-width: 0;overflow: hidden;text-align: left;background-color: #f0f8ff;}#sk-container-id-4 div.sk-toggleable__content pre {margin: 0.2em;color: black;border-radius: 0.25em;background-color: #f0f8ff;}#sk-container-id-4 input.sk-toggleable__control:checked~div.sk-toggleable__content {max-height: 200px;max-width: 100%;overflow: auto;}#sk-container-id-4 input.sk-toggleable__control:checked~label.sk-toggleable__label-arrow:before {content: \"▾\";}#sk-container-id-4 div.sk-estimator input.sk-toggleable__control:checked~label.sk-toggleable__label {background-color: #d4ebff;}#sk-container-id-4 div.sk-label input.sk-toggleable__control:checked~label.sk-toggleable__label {background-color: #d4ebff;}#sk-container-id-4 input.sk-hidden--visually {border: 0;clip: rect(1px 1px 1px 1px);clip: rect(1px, 1px, 1px, 1px);height: 1px;margin: -1px;overflow: hidden;padding: 0;position: absolute;width: 1px;}#sk-container-id-4 div.sk-estimator {font-family: monospace;background-color: #f0f8ff;border: 1px dotted black;border-radius: 0.25em;box-sizing: border-box;margin-bottom: 0.5em;}#sk-container-id-4 div.sk-estimator:hover {background-color: #d4ebff;}#sk-container-id-4 div.sk-parallel-item::after {content: \"\";width: 100%;border-bottom: 1px solid gray;flex-grow: 1;}#sk-container-id-4 div.sk-label:hover label.sk-toggleable__label {background-color: #d4ebff;}#sk-container-id-4 div.sk-serial::before {content: \"\";position: absolute;border-left: 1px solid gray;box-sizing: border-box;top: 0;bottom: 0;left: 50%;z-index: 0;}#sk-container-id-4 div.sk-serial {display: flex;flex-direction: column;align-items: center;background-color: white;padding-right: 0.2em;padding-left: 0.2em;position: relative;}#sk-container-id-4 div.sk-item {position: relative;z-index: 1;}#sk-container-id-4 div.sk-parallel {display: flex;align-items: stretch;justify-content: center;background-color: white;position: relative;}#sk-container-id-4 div.sk-item::before, #sk-container-id-4 div.sk-parallel-item::before {content: \"\";position: absolute;border-left: 1px solid gray;box-sizing: border-box;top: 0;bottom: 0;left: 50%;z-index: -1;}#sk-container-id-4 div.sk-parallel-item {display: flex;flex-direction: column;z-index: 1;position: relative;background-color: white;}#sk-container-id-4 div.sk-parallel-item:first-child::after {align-self: flex-end;width: 50%;}#sk-container-id-4 div.sk-parallel-item:last-child::after {align-self: flex-start;width: 50%;}#sk-container-id-4 div.sk-parallel-item:only-child::after {width: 0;}#sk-container-id-4 div.sk-dashed-wrapped {border: 1px dashed gray;margin: 0 0.4em 0.5em 0.4em;box-sizing: border-box;padding-bottom: 0.4em;background-color: white;}#sk-container-id-4 div.sk-label label {font-family: monospace;font-weight: bold;display: inline-block;line-height: 1.2em;}#sk-container-id-4 div.sk-label-container {text-align: center;}#sk-container-id-4 div.sk-container {/* jupyter's `normalize.less` sets `[hidden] { display: none; }` but bootstrap.min.css set `[hidden] { display: none !important; }` so we also need the `!important` here to be able to override the default hidden behavior on the sphinx rendered scikit-learn.org. See: https://github.com/scikit-learn/scikit-learn/issues/21755 */display: inline-block !important;position: relative;}#sk-container-id-4 div.sk-text-repr-fallback {display: none;}</style><div id=\"sk-container-id-4\" class=\"sk-top-container\"><div class=\"sk-text-repr-fallback\"><pre>SVC()</pre><b>In a Jupyter environment, please rerun this cell to show the HTML representation or trust the notebook. <br />On GitHub, the HTML representation is unable to render, please try loading this page with nbviewer.org.</b></div><div class=\"sk-container\" hidden><div class=\"sk-item\"><div class=\"sk-estimator sk-toggleable\"><input class=\"sk-toggleable__control sk-hidden--visually\" id=\"sk-estimator-id-4\" type=\"checkbox\" checked><label for=\"sk-estimator-id-4\" class=\"sk-toggleable__label sk-toggleable__label-arrow\">SVC</label><div class=\"sk-toggleable__content\"><pre>SVC()</pre></div></div></div></div></div>"
      ],
      "text/plain": [
       "SVC()"
      ]
     },
     "execution_count": 14,
     "metadata": {},
     "output_type": "execute_result"
    }
   ],
   "source": [
    "model"
   ]
  },
  {
   "cell_type": "code",
   "execution_count": 39,
   "id": "9c349657",
   "metadata": {},
   "outputs": [
    {
     "data": {
      "image/png": "[encoded data removed]",
      "text/plain": [
       "<Figure size 640x480 with 1 Axes>"
      ]
     },
     "metadata": {},
     "output_type": "display_data"
    }
   ],
   "source": [
    "data = pd.read_csv(\"data/test_data/YFA0023.csv\")\n",
    "data.plot()\n",
    "plt.show()"
   ]
  },
  {
   "cell_type": "markdown",
   "id": "cad03d09",
   "metadata": {},
   "source": [
    "# 0 for 'Warrior 1' and 1 for 'Warrior 2'"
   ]
  },
  {
   "cell_type": "code",
   "execution_count": 40,
   "id": "9df1b01f",
   "metadata": {
    "scrolled": false
   },
   "outputs": [
    {
     "name": "stdout",
     "output_type": "stream",
     "text": [
      "YFA0023 - Warrior 1\n",
      "YFA0023 - Warrior 1\n",
      "YFA0023 - Warrior 1\n",
      "YFA0023 - Warrior 1\n",
      "YFA0023 - Warrior 1\n",
      "YFA0023 - Warrior 1\n",
      "YFA0023 - Warrior 1\n",
      "YFA0023 - Warrior 1\n",
      "YFA0023 - Warrior 1\n",
      "YFA0023 - Warrior 1\n",
      "YFA0023 - Warrior 1\n",
      "YFA0023 - Warrior 1\n",
      "YFA0023 - Warrior 1\n",
      "YFA0023 - Warrior 1\n",
      "YFA0023 - Warrior 1\n",
      "YFA0023 - Warrior 1\n",
      "YFA0023 - Warrior 1\n",
      "YFA0023 - Warrior 1\n",
      "YFA0023 - Warrior 1\n",
      "YFA0023 - Warrior 1\n",
      "YFA0023 - Warrior 1\n",
      "YFA0023 - Warrior 1\n",
      "YFA0023 - Warrior 1\n",
      "YFA0023 - Warrior 1\n",
      "YFA0023 - Warrior 1\n",
      "YFA0023 - Warrior 1\n",
      "YFA0023 - Warrior 1\n",
      "YFA0023 - Warrior 1\n",
      "YFA0023 - Warrior 1\n",
      "YFA0023 - Warrior 1\n",
      "YFA0023 - Warrior 1\n",
      "YFA0023 - Warrior 1\n",
      "YFA0023 - Warrior 1\n",
      "YFA0023 - Warrior 1\n",
      "YFA0023 - Warrior 1\n",
      "YFA0023 - Warrior 1\n",
      "YFA0023 - Warrior 1\n",
      "YFA0023 - Warrior 1\n",
      "YFA0023 - Warrior 1\n",
      "YFA0023 - Warrior 1\n",
      "YFA0023 - Warrior 1\n",
      "YFA0023 - Warrior 1\n",
      "YFA0023 - Warrior 1\n",
      "YFA0023 - Warrior 1\n",
      "YFA0023 - Warrior 1\n",
      "YFA0023 - Warrior 1\n",
      "YFA0023 - Warrior 1\n",
      "YFA0023 - Warrior 1\n",
      "YFA0023 - Warrior 1\n",
      "YFA0023 - Warrior 1\n",
      "YFA0023 - Warrior 1\n",
      "YFA0023 - Warrior 1\n",
      "YFA0023 - Warrior 1\n",
      "YFA0023 - Warrior 1\n",
      "YFA0023 - Warrior 1\n",
      "YFA0023 - Warrior 1\n",
      "YFA0023 - Warrior 1\n",
      "YFA0023 - Warrior 1\n",
      "YFA0023 - Warrior 1\n",
      "YFA0023 - Warrior 1\n",
      "YFA0023 - Warrior 1\n",
      "YFA0023 - Warrior 1\n",
      "YFA0023 - Warrior 1\n",
      "YFA0023 - Warrior 1\n",
      "YFA0023 - Warrior 1\n",
      "YFA0023 - Warrior 1\n",
      "YFA0023 - Warrior 1\n",
      "YFA0023 - Warrior 1\n",
      "YFA0023 - Warrior 1\n",
      "YFA0023 - Warrior 1\n",
      "YFA0023 - Warrior 1\n",
      "YFA0023 - Warrior 1\n",
      "YFA0023 - Warrior 1\n",
      "YFA0023 - Warrior 1\n",
      "YFA0023 - Warrior 1\n",
      "YFA0023 - Warrior 1\n",
      "YFA0023 - Warrior 1\n",
      "YFA0023 - Warrior 1\n",
      "YFA0023 - Warrior 1\n",
      "YFA0023 - Warrior 1\n",
      "YFA0023 - Warrior 1\n",
      "YFA0023 - Warrior 1\n",
      "YFA0023 - Warrior 1\n",
      "YFA0023 - Warrior 1\n",
      "YFA0023 - Warrior 1\n",
      "YFA0023 - Warrior 1\n",
      "YFA0023 - Warrior 1\n",
      "YFA0023 - Warrior 1\n",
      "YFA0023 - Warrior 1\n",
      "YFA0023 - Warrior 1\n",
      "YFA0023 - Warrior 1\n",
      "YFA0023 - Warrior 1\n",
      "YFA0023 - Warrior 1\n",
      "YFA0023 - Warrior 1\n",
      "YFA0023 - Warrior 1\n",
      "YFA0023 - Warrior 1\n",
      "YFA0023 - Warrior 1\n",
      "YFA0023 - Warrior 1\n"
     ]
    }
   ],
   "source": [
    "# 0 for 'warrior 1' and 1 for 'Warrior 2'\n",
    "pred = model.predict(data[:])\n",
    "for i in pred:\n",
    "    if i == 0:\n",
    "        print(\"YFA0023 - Warrior 1\")\n",
    "    else:\n",
    "        print(\"YFA0024 - Warrior 2\")\n"
   ]
  },
  {
   "cell_type": "code",
   "execution_count": 51,
   "id": "be62eaf4",
   "metadata": {},
   "outputs": [],
   "source": [
    "import tensorflow as tf\n",
    "import pandas as pd\n",
    "import numpy as np\n",
    "import matplotlib.pyplot as plt\n",
    "# keras.models.load_model()"
   ]
  },
  {
   "cell_type": "code",
   "execution_count": 90,
   "id": "a62fcc67",
   "metadata": {},
   "outputs": [],
   "source": [
    "model = tf.keras.models.load_model(\"C:/Users/ranak/OneDrive/Desktop/my_desk/watch_notebooks/data/model_5.h5\")"
   ]
  },
  {
   "cell_type": "code",
   "execution_count": 91,
   "id": "ec21bdcb",
   "metadata": {},
   "outputs": [
    {
     "data": {
      "text/plain": [
       "<keras.src.engine.sequential.Sequential at 0x1c7385a2830>"
      ]
     },
     "execution_count": 91,
     "metadata": {},
     "output_type": "execute_result"
    }
   ],
   "source": [
    "model"
   ]
  },
  {
   "cell_type": "code",
   "execution_count": 92,
   "id": "d71b2e21",
   "metadata": {},
   "outputs": [
    {
     "data": {
      "image/png": "[encoded data removed]",
      "text/plain": [
       "<Figure size 640x480 with 1 Axes>"
      ]
     },
     "metadata": {},
     "output_type": "display_data"
    }
   ],
   "source": [
    "data = pd.read_csv(\"data/test_data/tested/w12023-07-21_11-52-37_rhea.csv\")\n",
    "data.plot()\n",
    "plt.show()"
   ]
  },
  {
   "cell_type": "code",
   "execution_count": 93,
   "id": "f7d8ce24",
   "metadata": {
    "scrolled": true
   },
   "outputs": [
    {
     "name": "stdout",
     "output_type": "stream",
     "text": [
      "4/4 [==============================] - 0s 2ms/step\n"
     ]
    }
   ],
   "source": [
    "pred = model.predict(data[:])\n",
    "# print(\"%s: %.2f%%\" % (model.metrics_names[1], pred[1]*100))\n",
    "# print(pred)"
   ]
  },
  {
   "cell_type": "code",
   "execution_count": 94,
   "id": "dd77c1a2",
   "metadata": {
    "scrolled": true
   },
   "outputs": [
    {
     "name": "stdout",
     "output_type": "stream",
     "text": [
      "This Asana most likely belongs to YFA0004 with a 97.54 percent confidence.\n",
      "This Asana most likely belongs to YFA0004 with a 97.64 percent confidence.\n",
      "This Asana most likely belongs to YFA0004 with a 97.68 percent confidence.\n",
      "This Asana most likely belongs to YFA0004 with a 97.72 percent confidence.\n",
      "This Asana most likely belongs to YFA0004 with a 97.75 percent confidence.\n",
      "This Asana most likely belongs to YFA0004 with a 97.71 percent confidence.\n",
      "This Asana most likely belongs to YFA0004 with a 97.80 percent confidence.\n",
      "This Asana most likely belongs to YFA0004 with a 97.85 percent confidence.\n",
      "This Asana most likely belongs to YFA0004 with a 97.85 percent confidence.\n",
      "This Asana most likely belongs to YFA0004 with a 97.84 percent confidence.\n",
      "This Asana most likely belongs to YFA0004 with a 97.79 percent confidence.\n",
      "This Asana most likely belongs to YFA0004 with a 97.80 percent confidence.\n",
      "This Asana most likely belongs to YFA0004 with a 97.82 percent confidence.\n",
      "This Asana most likely belongs to YFA0004 with a 97.88 percent confidence.\n",
      "This Asana most likely belongs to YFA0004 with a 97.94 percent confidence.\n",
      "This Asana most likely belongs to YFA0004 with a 97.97 percent confidence.\n",
      "This Asana most likely belongs to YFA0004 with a 97.98 percent confidence.\n",
      "This Asana most likely belongs to YFA0004 with a 97.99 percent confidence.\n",
      "This Asana most likely belongs to YFA0004 with a 97.99 percent confidence.\n",
      "This Asana most likely belongs to YFA0004 with a 97.98 percent confidence.\n",
      "This Asana most likely belongs to YFA0004 with a 97.96 percent confidence.\n",
      "This Asana most likely belongs to YFA0004 with a 98.01 percent confidence.\n",
      "This Asana most likely belongs to YFA0004 with a 98.02 percent confidence.\n",
      "This Asana most likely belongs to YFA0004 with a 98.01 percent confidence.\n",
      "This Asana most likely belongs to YFA0004 with a 98.02 percent confidence.\n",
      "This Asana most likely belongs to YFA0004 with a 98.02 percent confidence.\n",
      "This Asana most likely belongs to YFA0004 with a 98.00 percent confidence.\n",
      "This Asana most likely belongs to YFA0004 with a 97.96 percent confidence.\n",
      "This Asana most likely belongs to YFA0004 with a 97.91 percent confidence.\n",
      "This Asana most likely belongs to YFA0004 with a 98.01 percent confidence.\n",
      "This Asana most likely belongs to YFA0004 with a 98.04 percent confidence.\n",
      "This Asana most likely belongs to YFA0004 with a 98.01 percent confidence.\n",
      "This Asana most likely belongs to YFA0004 with a 97.98 percent confidence.\n",
      "This Asana most likely belongs to YFA0004 with a 98.00 percent confidence.\n",
      "This Asana most likely belongs to YFA0004 with a 98.01 percent confidence.\n",
      "This Asana most likely belongs to YFA0004 with a 98.00 percent confidence.\n",
      "This Asana most likely belongs to YFA0004 with a 98.06 percent confidence.\n",
      "This Asana most likely belongs to YFA0004 with a 98.04 percent confidence.\n",
      "This Asana most likely belongs to YFA0004 with a 98.01 percent confidence.\n",
      "This Asana most likely belongs to YFA0004 with a 97.98 percent confidence.\n",
      "This Asana most likely belongs to YFA0004 with a 97.98 percent confidence.\n",
      "This Asana most likely belongs to YFA0004 with a 97.99 percent confidence.\n",
      "This Asana most likely belongs to YFA0004 with a 98.04 percent confidence.\n",
      "This Asana most likely belongs to YFA0004 with a 98.06 percent confidence.\n",
      "This Asana most likely belongs to YFA0004 with a 98.03 percent confidence.\n",
      "This Asana most likely belongs to YFA0004 with a 97.97 percent confidence.\n",
      "This Asana most likely belongs to YFA0004 with a 97.92 percent confidence.\n",
      "This Asana most likely belongs to YFA0004 with a 97.94 percent confidence.\n",
      "This Asana most likely belongs to YFA0004 with a 97.92 percent confidence.\n",
      "This Asana most likely belongs to YFA0004 with a 97.90 percent confidence.\n",
      "This Asana most likely belongs to YFA0004 with a 97.91 percent confidence.\n",
      "This Asana most likely belongs to YFA0004 with a 97.96 percent confidence.\n",
      "This Asana most likely belongs to YFA0004 with a 97.95 percent confidence.\n",
      "This Asana most likely belongs to YFA0004 with a 97.86 percent confidence.\n",
      "This Asana most likely belongs to YFA0004 with a 97.79 percent confidence.\n",
      "This Asana most likely belongs to YFA0004 with a 97.78 percent confidence.\n",
      "This Asana most likely belongs to YFA0004 with a 97.76 percent confidence.\n",
      "This Asana most likely belongs to YFA0004 with a 97.74 percent confidence.\n",
      "This Asana most likely belongs to YFA0004 with a 97.72 percent confidence.\n",
      "This Asana most likely belongs to YFA0004 with a 97.76 percent confidence.\n",
      "This Asana most likely belongs to YFA0004 with a 97.80 percent confidence.\n",
      "This Asana most likely belongs to YFA0004 with a 97.81 percent confidence.\n",
      "This Asana most likely belongs to YFA0004 with a 97.79 percent confidence.\n",
      "This Asana most likely belongs to YFA0004 with a 97.79 percent confidence.\n",
      "This Asana most likely belongs to YFA0004 with a 97.81 percent confidence.\n",
      "This Asana most likely belongs to YFA0004 with a 97.75 percent confidence.\n",
      "This Asana most likely belongs to YFA0004 with a 97.72 percent confidence.\n",
      "This Asana most likely belongs to YFA0004 with a 97.69 percent confidence.\n",
      "This Asana most likely belongs to YFA0004 with a 97.64 percent confidence.\n",
      "This Asana most likely belongs to YFA0004 with a 97.67 percent confidence.\n",
      "This Asana most likely belongs to YFA0004 with a 97.67 percent confidence.\n",
      "This Asana most likely belongs to YFA0004 with a 97.68 percent confidence.\n",
      "This Asana most likely belongs to YFA0004 with a 97.69 percent confidence.\n",
      "This Asana most likely belongs to YFA0004 with a 97.68 percent confidence.\n",
      "This Asana most likely belongs to YFA0004 with a 97.69 percent confidence.\n",
      "This Asana most likely belongs to YFA0004 with a 97.69 percent confidence.\n",
      "This Asana most likely belongs to YFA0004 with a 97.75 percent confidence.\n",
      "This Asana most likely belongs to YFA0004 with a 97.77 percent confidence.\n",
      "This Asana most likely belongs to YFA0004 with a 97.72 percent confidence.\n",
      "This Asana most likely belongs to YFA0004 with a 97.64 percent confidence.\n",
      "This Asana most likely belongs to YFA0004 with a 97.59 percent confidence.\n",
      "This Asana most likely belongs to YFA0004 with a 97.61 percent confidence.\n",
      "This Asana most likely belongs to YFA0004 with a 97.60 percent confidence.\n",
      "This Asana most likely belongs to YFA0004 with a 97.52 percent confidence.\n",
      "This Asana most likely belongs to YFA0004 with a 97.60 percent confidence.\n",
      "This Asana most likely belongs to YFA0004 with a 97.63 percent confidence.\n",
      "This Asana most likely belongs to YFA0004 with a 97.65 percent confidence.\n",
      "This Asana most likely belongs to YFA0004 with a 97.71 percent confidence.\n",
      "This Asana most likely belongs to YFA0004 with a 97.71 percent confidence.\n",
      "This Asana most likely belongs to YFA0004 with a 97.66 percent confidence.\n",
      "This Asana most likely belongs to YFA0004 with a 97.60 percent confidence.\n",
      "This Asana most likely belongs to YFA0004 with a 97.60 percent confidence.\n",
      "This Asana most likely belongs to YFA0004 with a 97.61 percent confidence.\n",
      "This Asana most likely belongs to YFA0004 with a 97.63 percent confidence.\n",
      "This Asana most likely belongs to YFA0004 with a 97.69 percent confidence.\n",
      "This Asana most likely belongs to YFA0004 with a 97.70 percent confidence.\n",
      "This Asana most likely belongs to YFA0004 with a 97.72 percent confidence.\n",
      "This Asana most likely belongs to YFA0004 with a 97.68 percent confidence.\n",
      "This Asana most likely belongs to YFA0004 with a 97.63 percent confidence.\n",
      "This Asana most likely belongs to YFA0004 with a 97.63 percent confidence.\n",
      "This Asana most likely belongs to YFA0004 with a 97.65 percent confidence.\n",
      "This Asana most likely belongs to YFA0004 with a 97.61 percent confidence.\n"
     ]
    }
   ],
   "source": [
    "import numpy as np\n",
    "class_names = [\"YFA0002\",\"YFA0003\", \"YFA0004\", \"YFA0023\", \"YFA0024\"]\n",
    "\n",
    "for i in pred:\n",
    "    score = tf.nn.softmax(i)\n",
    "    print(\n",
    "    \"This Asana most likely belongs to {} with a {:.2f} percent confidence.\"\n",
    "    .format(class_names[np.argmax(score)], 100 * np.max(i))\n",
    ")\n"
   ]
  },
  {
   "cell_type": "code",
   "execution_count": null,
   "id": "7347e231",
   "metadata": {},
   "outputs": [],
   "source": []
  }
 ],
 "metadata": {
  "kernelspec": {
   "display_name": "Python 3 (ipykernel)",
   "language": "python",
   "name": "python3"
  },
  "language_info": {
   "codemirror_mode": {
    "name": "ipython",
    "version": 3
   },
   "file_extension": ".py",
   "mimetype": "text/x-python",
   "name": "python",
   "nbconvert_exporter": "python",
   "pygments_lexer": "ipython3",
   "version": "3.10.9"
  }
 },
 "nbformat": 4,
 "nbformat_minor": 5
}
