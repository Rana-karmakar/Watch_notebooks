{
 "cells": [
  {
   "cell_type": "markdown",
   "id": "509cef30",
   "metadata": {},
   "source": [
    "# Data Analysis and Model Building for Warrior 1 & 2 Pose"
   ]
  },
  {
   "cell_type": "code",
   "execution_count": 6,
   "id": "776aa5a9",
   "metadata": {},
   "outputs": [],
   "source": [
    "import pandas as pd \n",
    "import numpy as np\n",
    "import matplotlib.pyplot as plt"
   ]
  },
  {
   "cell_type": "markdown",
   "id": "f63ddae5",
   "metadata": {},
   "source": [
    "### Warrior 1 Pose from # member"
   ]
  },
  {
   "cell_type": "markdown",
   "id": "0ddff90e",
   "metadata": {},
   "source": [
    "# Rana W1"
   ]
  },
  {
   "cell_type": "code",
   "execution_count": 27,
   "id": "5a1699ef",
   "metadata": {},
   "outputs": [
    {
     "data": {
      "text/html": [
       "<div>\n",
       "<style scoped>\n",
       "    .dataframe tbody tr th:only-of-type {\n",
       "        vertical-align: middle;\n",
       "    }\n",
       "\n",
       "    .dataframe tbody tr th {\n",
       "        vertical-align: top;\n",
       "    }\n",
       "\n",
       "    .dataframe thead th {\n",
       "        text-align: right;\n",
       "    }\n",
       "</style>\n",
       "<table border=\"1\" class=\"dataframe\">\n",
       "  <thead>\n",
       "    <tr style=\"text-align: right;\">\n",
       "      <th></th>\n",
       "      <th>Pitch</th>\n",
       "      <th>Yaw</th>\n",
       "      <th>Roll</th>\n",
       "    </tr>\n",
       "  </thead>\n",
       "  <tbody>\n",
       "    <tr>\n",
       "      <th>0</th>\n",
       "      <td>0.154916</td>\n",
       "      <td>0.090692</td>\n",
       "      <td>-1.058127</td>\n",
       "    </tr>\n",
       "    <tr>\n",
       "      <th>1</th>\n",
       "      <td>0.146494</td>\n",
       "      <td>0.090977</td>\n",
       "      <td>-1.054079</td>\n",
       "    </tr>\n",
       "    <tr>\n",
       "      <th>2</th>\n",
       "      <td>0.151879</td>\n",
       "      <td>0.086945</td>\n",
       "      <td>-1.046679</td>\n",
       "    </tr>\n",
       "    <tr>\n",
       "      <th>3</th>\n",
       "      <td>0.148956</td>\n",
       "      <td>0.086839</td>\n",
       "      <td>-1.042859</td>\n",
       "    </tr>\n",
       "    <tr>\n",
       "      <th>4</th>\n",
       "      <td>0.145258</td>\n",
       "      <td>0.090223</td>\n",
       "      <td>-1.040074</td>\n",
       "    </tr>\n",
       "  </tbody>\n",
       "</table>\n",
       "</div>"
      ],
      "text/plain": [
       "      Pitch       Yaw      Roll\n",
       "0  0.154916  0.090692 -1.058127\n",
       "1  0.146494  0.090977 -1.054079\n",
       "2  0.151879  0.086945 -1.046679\n",
       "3  0.148956  0.086839 -1.042859\n",
       "4  0.145258  0.090223 -1.040074"
      ]
     },
     "execution_count": 27,
     "metadata": {},
     "output_type": "execute_result"
    }
   ],
   "source": [
    "df1=pd.read_csv(\"C:/Users/ranak/OneDrive/Desktop/my_desk/python_server/watchdata/final/w1/2023-07-21_11-52-37_rana.csv\")\n",
    "df1.head()"
   ]
  },
  {
   "cell_type": "code",
   "execution_count": 28,
   "id": "0fc9ce66",
   "metadata": {},
   "outputs": [
    {
     "data": {
      "text/plain": [
       "(110, 3)"
      ]
     },
     "execution_count": 28,
     "metadata": {},
     "output_type": "execute_result"
    }
   ],
   "source": [
    "df1.shape"
   ]
  },
  {
   "cell_type": "code",
   "execution_count": 29,
   "id": "550a32e0",
   "metadata": {},
   "outputs": [
    {
     "data": {
      "text/html": [
       "<div>\n",
       "<style scoped>\n",
       "    .dataframe tbody tr th:only-of-type {\n",
       "        vertical-align: middle;\n",
       "    }\n",
       "\n",
       "    .dataframe tbody tr th {\n",
       "        vertical-align: top;\n",
       "    }\n",
       "\n",
       "    .dataframe thead th {\n",
       "        text-align: right;\n",
       "    }\n",
       "</style>\n",
       "<table border=\"1\" class=\"dataframe\">\n",
       "  <thead>\n",
       "    <tr style=\"text-align: right;\">\n",
       "      <th></th>\n",
       "      <th>Pitch</th>\n",
       "      <th>Yaw</th>\n",
       "      <th>Roll</th>\n",
       "    </tr>\n",
       "  </thead>\n",
       "  <tbody>\n",
       "    <tr>\n",
       "      <th>count</th>\n",
       "      <td>110.000000</td>\n",
       "      <td>110.000000</td>\n",
       "      <td>110.000000</td>\n",
       "    </tr>\n",
       "    <tr>\n",
       "      <th>mean</th>\n",
       "      <td>0.107460</td>\n",
       "      <td>0.098188</td>\n",
       "      <td>-1.026248</td>\n",
       "    </tr>\n",
       "    <tr>\n",
       "      <th>std</th>\n",
       "      <td>0.021110</td>\n",
       "      <td>0.006226</td>\n",
       "      <td>0.010714</td>\n",
       "    </tr>\n",
       "    <tr>\n",
       "      <th>min</th>\n",
       "      <td>0.069389</td>\n",
       "      <td>0.086839</td>\n",
       "      <td>-1.058127</td>\n",
       "    </tr>\n",
       "    <tr>\n",
       "      <th>25%</th>\n",
       "      <td>0.092165</td>\n",
       "      <td>0.093876</td>\n",
       "      <td>-1.033492</td>\n",
       "    </tr>\n",
       "    <tr>\n",
       "      <th>50%</th>\n",
       "      <td>0.108719</td>\n",
       "      <td>0.096393</td>\n",
       "      <td>-1.029601</td>\n",
       "    </tr>\n",
       "    <tr>\n",
       "      <th>75%</th>\n",
       "      <td>0.122577</td>\n",
       "      <td>0.101718</td>\n",
       "      <td>-1.020072</td>\n",
       "    </tr>\n",
       "    <tr>\n",
       "      <th>max</th>\n",
       "      <td>0.154916</td>\n",
       "      <td>0.118256</td>\n",
       "      <td>-1.005337</td>\n",
       "    </tr>\n",
       "  </tbody>\n",
       "</table>\n",
       "</div>"
      ],
      "text/plain": [
       "            Pitch         Yaw        Roll\n",
       "count  110.000000  110.000000  110.000000\n",
       "mean     0.107460    0.098188   -1.026248\n",
       "std      0.021110    0.006226    0.010714\n",
       "min      0.069389    0.086839   -1.058127\n",
       "25%      0.092165    0.093876   -1.033492\n",
       "50%      0.108719    0.096393   -1.029601\n",
       "75%      0.122577    0.101718   -1.020072\n",
       "max      0.154916    0.118256   -1.005337"
      ]
     },
     "execution_count": 29,
     "metadata": {},
     "output_type": "execute_result"
    }
   ],
   "source": [
    "df1.describe()"
   ]
  },
  {
   "cell_type": "code",
   "execution_count": 30,
   "id": "b0d88319",
   "metadata": {},
   "outputs": [
    {
     "data": {
      "image/png": "[encoded data removed]",
      "text/plain": [
       "<Figure size 640x480 with 1 Axes>"
      ]
     },
     "metadata": {},
     "output_type": "display_data"
    }
   ],
   "source": [
    "pitch = df1['Pitch']\n",
    "yaw = df1['Yaw']\n",
    "roll = df1['Roll']\n",
    "fig, ax = plt.subplots()\n",
    "ax.plot(pitch, label='Pitch')\n",
    "ax.plot(yaw, label='Yaw')\n",
    "ax.plot(roll, label='Roll')\n",
    "ax.set_xlabel('Time')\n",
    "ax.set_ylabel('Values')\n",
    "ax.set_title('Apple Watch Sensor Data')\n",
    "ax.legend()\n",
    "plt.show()"
   ]
  },
  {
   "cell_type": "code",
   "execution_count": 22,
   "id": "6e2b4a2b",
   "metadata": {
    "scrolled": false
   },
   "outputs": [
    {
     "data": {
      "image/png": "[encoded data removed]",
      "text/plain": [
       "<Figure size 640x480 with 1 Axes>"
      ]
     },
     "metadata": {},
     "output_type": "display_data"
    }
   ],
   "source": [
    "labels = ['Pitch', 'Yaw', 'Roll']\n",
    "\n",
    "# Create a list of data values\n",
    "values = [pitch.mean(), yaw.mean(), roll.mean()]  # You can change 'mean()' to any other statistical function\n",
    "\n",
    "# Create a bar plot\n",
    "plt.bar(labels, values)\n",
    "\n",
    "# Set labels and title\n",
    "plt.xlabel('Measurements')\n",
    "plt.ylabel('Average Values')\n",
    "plt.title('Average Apple Watch Sensor Data - W1')\n",
    "\n",
    "# Show the plot\n",
    "plt.show()"
   ]
  },
  {
   "cell_type": "markdown",
   "id": "121df55d",
   "metadata": {},
   "source": [
    "# Rhea W1"
   ]
  },
  {
   "cell_type": "code",
   "execution_count": 31,
   "id": "d71eff06",
   "metadata": {},
   "outputs": [
    {
     "data": {
      "text/html": [
       "<div>\n",
       "<style scoped>\n",
       "    .dataframe tbody tr th:only-of-type {\n",
       "        vertical-align: middle;\n",
       "    }\n",
       "\n",
       "    .dataframe tbody tr th {\n",
       "        vertical-align: top;\n",
       "    }\n",
       "\n",
       "    .dataframe thead th {\n",
       "        text-align: right;\n",
       "    }\n",
       "</style>\n",
       "<table border=\"1\" class=\"dataframe\">\n",
       "  <thead>\n",
       "    <tr style=\"text-align: right;\">\n",
       "      <th></th>\n",
       "      <th>Pitch</th>\n",
       "      <th>Yaw</th>\n",
       "      <th>Roll</th>\n",
       "    </tr>\n",
       "  </thead>\n",
       "  <tbody>\n",
       "    <tr>\n",
       "      <th>0</th>\n",
       "      <td>-0.031258</td>\n",
       "      <td>0.020832</td>\n",
       "      <td>1.175676</td>\n",
       "    </tr>\n",
       "    <tr>\n",
       "      <th>1</th>\n",
       "      <td>-0.031930</td>\n",
       "      <td>0.027957</td>\n",
       "      <td>1.176068</td>\n",
       "    </tr>\n",
       "    <tr>\n",
       "      <th>2</th>\n",
       "      <td>-0.032515</td>\n",
       "      <td>0.028512</td>\n",
       "      <td>1.177545</td>\n",
       "    </tr>\n",
       "    <tr>\n",
       "      <th>3</th>\n",
       "      <td>-0.033011</td>\n",
       "      <td>0.027943</td>\n",
       "      <td>1.180947</td>\n",
       "    </tr>\n",
       "    <tr>\n",
       "      <th>4</th>\n",
       "      <td>-0.033376</td>\n",
       "      <td>0.028598</td>\n",
       "      <td>1.182115</td>\n",
       "    </tr>\n",
       "  </tbody>\n",
       "</table>\n",
       "</div>"
      ],
      "text/plain": [
       "      Pitch       Yaw      Roll\n",
       "0 -0.031258  0.020832  1.175676\n",
       "1 -0.031930  0.027957  1.176068\n",
       "2 -0.032515  0.028512  1.177545\n",
       "3 -0.033011  0.027943  1.180947\n",
       "4 -0.033376  0.028598  1.182115"
      ]
     },
     "execution_count": 31,
     "metadata": {},
     "output_type": "execute_result"
    }
   ],
   "source": [
    "df2=pd.read_csv(\"C:/Users/ranak/OneDrive/Desktop/my_desk/python_server/watchdata/final/w1/2023-07-21_11-52-37_rhea.csv\")\n",
    "df2.head()"
   ]
  },
  {
   "cell_type": "code",
   "execution_count": 32,
   "id": "9975ac89",
   "metadata": {},
   "outputs": [
    {
     "data": {
      "text/plain": [
       "(102, 3)"
      ]
     },
     "execution_count": 32,
     "metadata": {},
     "output_type": "execute_result"
    }
   ],
   "source": [
    "df2.shape"
   ]
  },
  {
   "cell_type": "code",
   "execution_count": 33,
   "id": "c723ec26",
   "metadata": {},
   "outputs": [
    {
     "data": {
      "text/html": [
       "<div>\n",
       "<style scoped>\n",
       "    .dataframe tbody tr th:only-of-type {\n",
       "        vertical-align: middle;\n",
       "    }\n",
       "\n",
       "    .dataframe tbody tr th {\n",
       "        vertical-align: top;\n",
       "    }\n",
       "\n",
       "    .dataframe thead th {\n",
       "        text-align: right;\n",
       "    }\n",
       "</style>\n",
       "<table border=\"1\" class=\"dataframe\">\n",
       "  <thead>\n",
       "    <tr style=\"text-align: right;\">\n",
       "      <th></th>\n",
       "      <th>Pitch</th>\n",
       "      <th>Yaw</th>\n",
       "      <th>Roll</th>\n",
       "    </tr>\n",
       "  </thead>\n",
       "  <tbody>\n",
       "    <tr>\n",
       "      <th>count</th>\n",
       "      <td>102.000000</td>\n",
       "      <td>102.000000</td>\n",
       "      <td>102.000000</td>\n",
       "    </tr>\n",
       "    <tr>\n",
       "      <th>mean</th>\n",
       "      <td>-0.023989</td>\n",
       "      <td>0.048667</td>\n",
       "      <td>1.181693</td>\n",
       "    </tr>\n",
       "    <tr>\n",
       "      <th>std</th>\n",
       "      <td>0.012582</td>\n",
       "      <td>0.011765</td>\n",
       "      <td>0.004361</td>\n",
       "    </tr>\n",
       "    <tr>\n",
       "      <th>min</th>\n",
       "      <td>-0.046063</td>\n",
       "      <td>0.020832</td>\n",
       "      <td>1.173174</td>\n",
       "    </tr>\n",
       "    <tr>\n",
       "      <th>25%</th>\n",
       "      <td>-0.035351</td>\n",
       "      <td>0.042120</td>\n",
       "      <td>1.179386</td>\n",
       "    </tr>\n",
       "    <tr>\n",
       "      <th>50%</th>\n",
       "      <td>-0.024687</td>\n",
       "      <td>0.051366</td>\n",
       "      <td>1.181721</td>\n",
       "    </tr>\n",
       "    <tr>\n",
       "      <th>75%</th>\n",
       "      <td>-0.014353</td>\n",
       "      <td>0.055591</td>\n",
       "      <td>1.184599</td>\n",
       "    </tr>\n",
       "    <tr>\n",
       "      <th>max</th>\n",
       "      <td>-0.001985</td>\n",
       "      <td>0.072608</td>\n",
       "      <td>1.190219</td>\n",
       "    </tr>\n",
       "  </tbody>\n",
       "</table>\n",
       "</div>"
      ],
      "text/plain": [
       "            Pitch         Yaw        Roll\n",
       "count  102.000000  102.000000  102.000000\n",
       "mean    -0.023989    0.048667    1.181693\n",
       "std      0.012582    0.011765    0.004361\n",
       "min     -0.046063    0.020832    1.173174\n",
       "25%     -0.035351    0.042120    1.179386\n",
       "50%     -0.024687    0.051366    1.181721\n",
       "75%     -0.014353    0.055591    1.184599\n",
       "max     -0.001985    0.072608    1.190219"
      ]
     },
     "execution_count": 33,
     "metadata": {},
     "output_type": "execute_result"
    }
   ],
   "source": [
    "df2.describe()"
   ]
  },
  {
   "cell_type": "code",
   "execution_count": 34,
   "id": "ece3bf6d",
   "metadata": {},
   "outputs": [
    {
     "data": {
      "image/png": "[encoded data removed]",
      "text/plain": [
       "<Figure size 640x480 with 1 Axes>"
      ]
     },
     "metadata": {},
     "output_type": "display_data"
    }
   ],
   "source": [
    "pitch = df2['Pitch']\n",
    "yaw = df2['Yaw']\n",
    "roll = df2['Roll']\n",
    "fig, ax = plt.subplots()\n",
    "ax.plot(pitch, label='Pitch')\n",
    "ax.plot(yaw, label='Yaw')\n",
    "ax.plot(roll, label='Roll')\n",
    "ax.set_xlabel('Time')\n",
    "ax.set_ylabel('Values')\n",
    "ax.set_title('Apple Watch Sensor Data')\n",
    "ax.legend()\n",
    "plt.show()"
   ]
  },
  {
   "cell_type": "code",
   "execution_count": 35,
   "id": "bff5451a",
   "metadata": {},
   "outputs": [
    {
     "data": {
      "image/png": "[encoded data removed]",
      "text/plain": [
       "<Figure size 640x480 with 1 Axes>"
      ]
     },
     "metadata": {},
     "output_type": "display_data"
    }
   ],
   "source": [
    "labels = ['Pitch', 'Yaw', 'Roll']\n",
    "\n",
    "# Create a list of data values\n",
    "values = [pitch.mean(), yaw.mean(), roll.mean()]  # You can change 'mean()' to any other statistical function\n",
    "\n",
    "# Create a bar plot\n",
    "plt.bar(labels, values)\n",
    "\n",
    "# Set labels and title\n",
    "plt.xlabel('Measurements')\n",
    "plt.ylabel('Average Values')\n",
    "plt.title('Average Apple Watch Sensor Data')\n",
    "\n",
    "# Show the plot\n",
    "plt.show()"
   ]
  },
  {
   "cell_type": "markdown",
   "id": "2e2a9e4a",
   "metadata": {},
   "source": [
    "# Nagalaxmi W1"
   ]
  },
  {
   "cell_type": "code",
   "execution_count": 36,
   "id": "da9ea3d6",
   "metadata": {},
   "outputs": [
    {
     "data": {
      "text/html": [
       "<div>\n",
       "<style scoped>\n",
       "    .dataframe tbody tr th:only-of-type {\n",
       "        vertical-align: middle;\n",
       "    }\n",
       "\n",
       "    .dataframe tbody tr th {\n",
       "        vertical-align: top;\n",
       "    }\n",
       "\n",
       "    .dataframe thead th {\n",
       "        text-align: right;\n",
       "    }\n",
       "</style>\n",
       "<table border=\"1\" class=\"dataframe\">\n",
       "  <thead>\n",
       "    <tr style=\"text-align: right;\">\n",
       "      <th></th>\n",
       "      <th>Pitch</th>\n",
       "      <th>Yaw</th>\n",
       "      <th>Roll</th>\n",
       "    </tr>\n",
       "  </thead>\n",
       "  <tbody>\n",
       "    <tr>\n",
       "      <th>0</th>\n",
       "      <td>0.237859</td>\n",
       "      <td>0.081897</td>\n",
       "      <td>-0.660630</td>\n",
       "    </tr>\n",
       "    <tr>\n",
       "      <th>1</th>\n",
       "      <td>0.223750</td>\n",
       "      <td>0.077935</td>\n",
       "      <td>-0.678536</td>\n",
       "    </tr>\n",
       "    <tr>\n",
       "      <th>2</th>\n",
       "      <td>0.225325</td>\n",
       "      <td>0.074186</td>\n",
       "      <td>-0.669362</td>\n",
       "    </tr>\n",
       "    <tr>\n",
       "      <th>3</th>\n",
       "      <td>0.210987</td>\n",
       "      <td>0.072631</td>\n",
       "      <td>-0.669490</td>\n",
       "    </tr>\n",
       "    <tr>\n",
       "      <th>4</th>\n",
       "      <td>0.198619</td>\n",
       "      <td>0.075810</td>\n",
       "      <td>-0.671017</td>\n",
       "    </tr>\n",
       "  </tbody>\n",
       "</table>\n",
       "</div>"
      ],
      "text/plain": [
       "      Pitch       Yaw      Roll\n",
       "0  0.237859  0.081897 -0.660630\n",
       "1  0.223750  0.077935 -0.678536\n",
       "2  0.225325  0.074186 -0.669362\n",
       "3  0.210987  0.072631 -0.669490\n",
       "4  0.198619  0.075810 -0.671017"
      ]
     },
     "execution_count": 36,
     "metadata": {},
     "output_type": "execute_result"
    }
   ],
   "source": [
    "df3=pd.read_csv(\"C:/Users/ranak/OneDrive/Desktop/my_desk/python_server/watchdata/final/w1/2023-07-21_11-52-37_nagalaxmi.csv\")\n",
    "df3.head()"
   ]
  },
  {
   "cell_type": "code",
   "execution_count": 37,
   "id": "205d972b",
   "metadata": {},
   "outputs": [
    {
     "data": {
      "text/plain": [
       "(97, 3)"
      ]
     },
     "execution_count": 37,
     "metadata": {},
     "output_type": "execute_result"
    }
   ],
   "source": [
    "df3.shape"
   ]
  },
  {
   "cell_type": "code",
   "execution_count": 38,
   "id": "0b6a7258",
   "metadata": {},
   "outputs": [
    {
     "data": {
      "text/html": [
       "<div>\n",
       "<style scoped>\n",
       "    .dataframe tbody tr th:only-of-type {\n",
       "        vertical-align: middle;\n",
       "    }\n",
       "\n",
       "    .dataframe tbody tr th {\n",
       "        vertical-align: top;\n",
       "    }\n",
       "\n",
       "    .dataframe thead th {\n",
       "        text-align: right;\n",
       "    }\n",
       "</style>\n",
       "<table border=\"1\" class=\"dataframe\">\n",
       "  <thead>\n",
       "    <tr style=\"text-align: right;\">\n",
       "      <th></th>\n",
       "      <th>Pitch</th>\n",
       "      <th>Yaw</th>\n",
       "      <th>Roll</th>\n",
       "    </tr>\n",
       "  </thead>\n",
       "  <tbody>\n",
       "    <tr>\n",
       "      <th>count</th>\n",
       "      <td>97.000000</td>\n",
       "      <td>97.000000</td>\n",
       "      <td>97.000000</td>\n",
       "    </tr>\n",
       "    <tr>\n",
       "      <th>mean</th>\n",
       "      <td>0.154019</td>\n",
       "      <td>0.077543</td>\n",
       "      <td>-0.684226</td>\n",
       "    </tr>\n",
       "    <tr>\n",
       "      <th>std</th>\n",
       "      <td>0.027596</td>\n",
       "      <td>0.020661</td>\n",
       "      <td>0.008430</td>\n",
       "    </tr>\n",
       "    <tr>\n",
       "      <th>min</th>\n",
       "      <td>0.112160</td>\n",
       "      <td>0.028742</td>\n",
       "      <td>-0.703224</td>\n",
       "    </tr>\n",
       "    <tr>\n",
       "      <th>25%</th>\n",
       "      <td>0.134564</td>\n",
       "      <td>0.057817</td>\n",
       "      <td>-0.690504</td>\n",
       "    </tr>\n",
       "    <tr>\n",
       "      <th>50%</th>\n",
       "      <td>0.154143</td>\n",
       "      <td>0.087362</td>\n",
       "      <td>-0.682201</td>\n",
       "    </tr>\n",
       "    <tr>\n",
       "      <th>75%</th>\n",
       "      <td>0.170028</td>\n",
       "      <td>0.092326</td>\n",
       "      <td>-0.678442</td>\n",
       "    </tr>\n",
       "    <tr>\n",
       "      <th>max</th>\n",
       "      <td>0.237859</td>\n",
       "      <td>0.100095</td>\n",
       "      <td>-0.660630</td>\n",
       "    </tr>\n",
       "  </tbody>\n",
       "</table>\n",
       "</div>"
      ],
      "text/plain": [
       "           Pitch        Yaw       Roll\n",
       "count  97.000000  97.000000  97.000000\n",
       "mean    0.154019   0.077543  -0.684226\n",
       "std     0.027596   0.020661   0.008430\n",
       "min     0.112160   0.028742  -0.703224\n",
       "25%     0.134564   0.057817  -0.690504\n",
       "50%     0.154143   0.087362  -0.682201\n",
       "75%     0.170028   0.092326  -0.678442\n",
       "max     0.237859   0.100095  -0.660630"
      ]
     },
     "execution_count": 38,
     "metadata": {},
     "output_type": "execute_result"
    }
   ],
   "source": [
    "df3.describe()"
   ]
  },
  {
   "cell_type": "code",
   "execution_count": 39,
   "id": "f1211dc6",
   "metadata": {},
   "outputs": [
    {
     "data": {
      "image/png": "[encoded data removed]",
      "text/plain": [
       "<Figure size 640x480 with 1 Axes>"
      ]
     },
     "metadata": {},
     "output_type": "display_data"
    }
   ],
   "source": [
    "pitch = df3['Pitch']\n",
    "yaw = df3['Yaw']\n",
    "roll = df3['Roll']\n",
    "fig, ax = plt.subplots()\n",
    "ax.plot(pitch, label='Pitch')\n",
    "ax.plot(yaw, label='Yaw')\n",
    "ax.plot(roll, label='Roll')\n",
    "ax.set_xlabel('Time')\n",
    "ax.set_ylabel('Values')\n",
    "ax.set_title('Apple Watch Sensor Data')\n",
    "ax.legend()\n",
    "plt.show()"
   ]
  },
  {
   "cell_type": "code",
   "execution_count": 40,
   "id": "196bf438",
   "metadata": {},
   "outputs": [
    {
     "data": {
      "image/png": "[encoded data removed]",
      "text/plain": [
       "<Figure size 640x480 with 1 Axes>"
      ]
     },
     "metadata": {},
     "output_type": "display_data"
    }
   ],
   "source": [
    "labels = ['Pitch', 'Yaw', 'Roll']\n",
    "\n",
    "# Create a list of data values\n",
    "values = [pitch.mean(), yaw.mean(), roll.mean()]  # You can change 'mean()' to any other statistical function\n",
    "\n",
    "# Create a bar plot\n",
    "plt.bar(labels, values)\n",
    "\n",
    "# Set labels and title\n",
    "plt.xlabel('Measurements')\n",
    "plt.ylabel('Average Values')\n",
    "plt.title('Average Apple Watch Sensor Data')\n",
    "\n",
    "# Show the plot\n",
    "plt.show()"
   ]
  },
  {
   "cell_type": "markdown",
   "id": "b78f55e5",
   "metadata": {},
   "source": [
    "# Warrior 2"
   ]
  },
  {
   "cell_type": "markdown",
   "id": "a2bc130a",
   "metadata": {},
   "source": [
    "# Rana W2"
   ]
  },
  {
   "cell_type": "code",
   "execution_count": 41,
   "id": "fa37ff13",
   "metadata": {},
   "outputs": [
    {
     "data": {
      "text/html": [
       "<div>\n",
       "<style scoped>\n",
       "    .dataframe tbody tr th:only-of-type {\n",
       "        vertical-align: middle;\n",
       "    }\n",
       "\n",
       "    .dataframe tbody tr th {\n",
       "        vertical-align: top;\n",
       "    }\n",
       "\n",
       "    .dataframe thead th {\n",
       "        text-align: right;\n",
       "    }\n",
       "</style>\n",
       "<table border=\"1\" class=\"dataframe\">\n",
       "  <thead>\n",
       "    <tr style=\"text-align: right;\">\n",
       "      <th></th>\n",
       "      <th>Pitch</th>\n",
       "      <th>Yaw</th>\n",
       "      <th>Roll</th>\n",
       "    </tr>\n",
       "  </thead>\n",
       "  <tbody>\n",
       "    <tr>\n",
       "      <th>0</th>\n",
       "      <td>0.336046</td>\n",
       "      <td>-0.018657</td>\n",
       "      <td>0.109886</td>\n",
       "    </tr>\n",
       "    <tr>\n",
       "      <th>1</th>\n",
       "      <td>0.335833</td>\n",
       "      <td>-0.019417</td>\n",
       "      <td>0.110264</td>\n",
       "    </tr>\n",
       "    <tr>\n",
       "      <th>2</th>\n",
       "      <td>0.331324</td>\n",
       "      <td>-0.019412</td>\n",
       "      <td>0.109859</td>\n",
       "    </tr>\n",
       "    <tr>\n",
       "      <th>3</th>\n",
       "      <td>0.335338</td>\n",
       "      <td>-0.022365</td>\n",
       "      <td>0.113691</td>\n",
       "    </tr>\n",
       "    <tr>\n",
       "      <th>4</th>\n",
       "      <td>0.335210</td>\n",
       "      <td>-0.022740</td>\n",
       "      <td>0.112079</td>\n",
       "    </tr>\n",
       "  </tbody>\n",
       "</table>\n",
       "</div>"
      ],
      "text/plain": [
       "      Pitch       Yaw      Roll\n",
       "0  0.336046 -0.018657  0.109886\n",
       "1  0.335833 -0.019417  0.110264\n",
       "2  0.331324 -0.019412  0.109859\n",
       "3  0.335338 -0.022365  0.113691\n",
       "4  0.335210 -0.022740  0.112079"
      ]
     },
     "execution_count": 41,
     "metadata": {},
     "output_type": "execute_result"
    }
   ],
   "source": [
    "df4=pd.read_csv(\"C:/Users/ranak/OneDrive/Desktop/my_desk/python_server/watchdata/final/w2/2023-07-21_11-52-37_rana.csv\")\n",
    "df4.head()"
   ]
  },
  {
   "cell_type": "code",
   "execution_count": 43,
   "id": "5fef66b0",
   "metadata": {},
   "outputs": [
    {
     "data": {
      "text/plain": [
       "(105, 3)"
      ]
     },
     "execution_count": 43,
     "metadata": {},
     "output_type": "execute_result"
    }
   ],
   "source": [
    "df4.shape"
   ]
  },
  {
   "cell_type": "code",
   "execution_count": 44,
   "id": "af39801c",
   "metadata": {},
   "outputs": [
    {
     "data": {
      "text/html": [
       "<div>\n",
       "<style scoped>\n",
       "    .dataframe tbody tr th:only-of-type {\n",
       "        vertical-align: middle;\n",
       "    }\n",
       "\n",
       "    .dataframe tbody tr th {\n",
       "        vertical-align: top;\n",
       "    }\n",
       "\n",
       "    .dataframe thead th {\n",
       "        text-align: right;\n",
       "    }\n",
       "</style>\n",
       "<table border=\"1\" class=\"dataframe\">\n",
       "  <thead>\n",
       "    <tr style=\"text-align: right;\">\n",
       "      <th></th>\n",
       "      <th>Pitch</th>\n",
       "      <th>Yaw</th>\n",
       "      <th>Roll</th>\n",
       "    </tr>\n",
       "  </thead>\n",
       "  <tbody>\n",
       "    <tr>\n",
       "      <th>count</th>\n",
       "      <td>105.000000</td>\n",
       "      <td>105.000000</td>\n",
       "      <td>105.000000</td>\n",
       "    </tr>\n",
       "    <tr>\n",
       "      <th>mean</th>\n",
       "      <td>0.328676</td>\n",
       "      <td>-0.039455</td>\n",
       "      <td>0.107621</td>\n",
       "    </tr>\n",
       "    <tr>\n",
       "      <th>std</th>\n",
       "      <td>0.006471</td>\n",
       "      <td>0.007925</td>\n",
       "      <td>0.005750</td>\n",
       "    </tr>\n",
       "    <tr>\n",
       "      <th>min</th>\n",
       "      <td>0.311115</td>\n",
       "      <td>-0.056183</td>\n",
       "      <td>0.094729</td>\n",
       "    </tr>\n",
       "    <tr>\n",
       "      <th>25%</th>\n",
       "      <td>0.323429</td>\n",
       "      <td>-0.045047</td>\n",
       "      <td>0.102570</td>\n",
       "    </tr>\n",
       "    <tr>\n",
       "      <th>50%</th>\n",
       "      <td>0.330504</td>\n",
       "      <td>-0.041495</td>\n",
       "      <td>0.108783</td>\n",
       "    </tr>\n",
       "    <tr>\n",
       "      <th>75%</th>\n",
       "      <td>0.333638</td>\n",
       "      <td>-0.036405</td>\n",
       "      <td>0.112732</td>\n",
       "    </tr>\n",
       "    <tr>\n",
       "      <th>max</th>\n",
       "      <td>0.340355</td>\n",
       "      <td>-0.018657</td>\n",
       "      <td>0.119446</td>\n",
       "    </tr>\n",
       "  </tbody>\n",
       "</table>\n",
       "</div>"
      ],
      "text/plain": [
       "            Pitch         Yaw        Roll\n",
       "count  105.000000  105.000000  105.000000\n",
       "mean     0.328676   -0.039455    0.107621\n",
       "std      0.006471    0.007925    0.005750\n",
       "min      0.311115   -0.056183    0.094729\n",
       "25%      0.323429   -0.045047    0.102570\n",
       "50%      0.330504   -0.041495    0.108783\n",
       "75%      0.333638   -0.036405    0.112732\n",
       "max      0.340355   -0.018657    0.119446"
      ]
     },
     "execution_count": 44,
     "metadata": {},
     "output_type": "execute_result"
    }
   ],
   "source": [
    "df4.describe()"
   ]
  },
  {
   "cell_type": "code",
   "execution_count": 45,
   "id": "1bd472a1",
   "metadata": {},
   "outputs": [
    {
     "data": {
      "image/png": "[encoded data removed]",
      "text/plain": [
       "<Figure size 640x480 with 1 Axes>"
      ]
     },
     "metadata": {},
     "output_type": "display_data"
    }
   ],
   "source": [
    "pitch = df4['Pitch']\n",
    "yaw = df4['Yaw']\n",
    "roll = df4['Roll']\n",
    "fig, ax = plt.subplots()\n",
    "ax.plot(pitch, label='Pitch')\n",
    "ax.plot(yaw, label='Yaw')\n",
    "ax.plot(roll, label='Roll')\n",
    "ax.set_xlabel('Time')\n",
    "ax.set_ylabel('Values')\n",
    "ax.set_title('Apple Watch Sensor Data')\n",
    "ax.legend()\n",
    "plt.show()"
   ]
  },
  {
   "cell_type": "code",
   "execution_count": 46,
   "id": "a19ab693",
   "metadata": {},
   "outputs": [
    {
     "data": {
      "image/png": "[encoded data removed]",
      "text/plain": [
       "<Figure size 640x480 with 1 Axes>"
      ]
     },
     "metadata": {},
     "output_type": "display_data"
    }
   ],
   "source": [
    "labels = ['Pitch', 'Yaw', 'Roll']\n",
    "values = [pitch.mean(), yaw.mean(), roll.mean()]\n",
    "plt.bar(labels, values)\n",
    "plt.xlabel('Measurements')\n",
    "plt.ylabel('Average Values')\n",
    "plt.title('Average Apple Watch Sensor Data')\n",
    "plt.show()"
   ]
  },
  {
   "cell_type": "markdown",
   "id": "9dcdf391",
   "metadata": {},
   "source": [
    "# Rhea W2"
   ]
  },
  {
   "cell_type": "code",
   "execution_count": 54,
   "id": "d717c5ed",
   "metadata": {},
   "outputs": [
    {
     "data": {
      "text/html": [
       "<div>\n",
       "<style scoped>\n",
       "    .dataframe tbody tr th:only-of-type {\n",
       "        vertical-align: middle;\n",
       "    }\n",
       "\n",
       "    .dataframe tbody tr th {\n",
       "        vertical-align: top;\n",
       "    }\n",
       "\n",
       "    .dataframe thead th {\n",
       "        text-align: right;\n",
       "    }\n",
       "</style>\n",
       "<table border=\"1\" class=\"dataframe\">\n",
       "  <thead>\n",
       "    <tr style=\"text-align: right;\">\n",
       "      <th></th>\n",
       "      <th>Pitch</th>\n",
       "      <th>Yaw</th>\n",
       "      <th>Roll</th>\n",
       "    </tr>\n",
       "  </thead>\n",
       "  <tbody>\n",
       "    <tr>\n",
       "      <th>0</th>\n",
       "      <td>0.238579</td>\n",
       "      <td>-0.021520</td>\n",
       "      <td>0.179073</td>\n",
       "    </tr>\n",
       "    <tr>\n",
       "      <th>1</th>\n",
       "      <td>0.202381</td>\n",
       "      <td>-0.011658</td>\n",
       "      <td>0.174574</td>\n",
       "    </tr>\n",
       "    <tr>\n",
       "      <th>2</th>\n",
       "      <td>0.221655</td>\n",
       "      <td>-0.009089</td>\n",
       "      <td>0.172033</td>\n",
       "    </tr>\n",
       "    <tr>\n",
       "      <th>3</th>\n",
       "      <td>0.223028</td>\n",
       "      <td>-0.004081</td>\n",
       "      <td>0.174741</td>\n",
       "    </tr>\n",
       "    <tr>\n",
       "      <th>4</th>\n",
       "      <td>0.229544</td>\n",
       "      <td>-0.005424</td>\n",
       "      <td>0.180545</td>\n",
       "    </tr>\n",
       "  </tbody>\n",
       "</table>\n",
       "</div>"
      ],
      "text/plain": [
       "      Pitch       Yaw      Roll\n",
       "0  0.238579 -0.021520  0.179073\n",
       "1  0.202381 -0.011658  0.174574\n",
       "2  0.221655 -0.009089  0.172033\n",
       "3  0.223028 -0.004081  0.174741\n",
       "4  0.229544 -0.005424  0.180545"
      ]
     },
     "execution_count": 54,
     "metadata": {},
     "output_type": "execute_result"
    }
   ],
   "source": [
    "df5=pd.read_csv(\"C:/Users/ranak/OneDrive/Desktop/my_desk/python_server/watchdata/final/w2/2023-07-21_11-52-37_rhea.csv\")\n",
    "df5.head()"
   ]
  },
  {
   "cell_type": "code",
   "execution_count": 55,
   "id": "13b2ba72",
   "metadata": {},
   "outputs": [
    {
     "data": {
      "text/plain": [
       "(117, 3)"
      ]
     },
     "execution_count": 55,
     "metadata": {},
     "output_type": "execute_result"
    }
   ],
   "source": [
    "df5.shape"
   ]
  },
  {
   "cell_type": "code",
   "execution_count": 56,
   "id": "b8f1d994",
   "metadata": {},
   "outputs": [
    {
     "data": {
      "text/html": [
       "<div>\n",
       "<style scoped>\n",
       "    .dataframe tbody tr th:only-of-type {\n",
       "        vertical-align: middle;\n",
       "    }\n",
       "\n",
       "    .dataframe tbody tr th {\n",
       "        vertical-align: top;\n",
       "    }\n",
       "\n",
       "    .dataframe thead th {\n",
       "        text-align: right;\n",
       "    }\n",
       "</style>\n",
       "<table border=\"1\" class=\"dataframe\">\n",
       "  <thead>\n",
       "    <tr style=\"text-align: right;\">\n",
       "      <th></th>\n",
       "      <th>Pitch</th>\n",
       "      <th>Yaw</th>\n",
       "      <th>Roll</th>\n",
       "    </tr>\n",
       "  </thead>\n",
       "  <tbody>\n",
       "    <tr>\n",
       "      <th>count</th>\n",
       "      <td>117.000000</td>\n",
       "      <td>117.000000</td>\n",
       "      <td>117.000000</td>\n",
       "    </tr>\n",
       "    <tr>\n",
       "      <th>mean</th>\n",
       "      <td>0.213186</td>\n",
       "      <td>-0.036960</td>\n",
       "      <td>0.187699</td>\n",
       "    </tr>\n",
       "    <tr>\n",
       "      <th>std</th>\n",
       "      <td>0.008937</td>\n",
       "      <td>0.016263</td>\n",
       "      <td>0.006961</td>\n",
       "    </tr>\n",
       "    <tr>\n",
       "      <th>min</th>\n",
       "      <td>0.199584</td>\n",
       "      <td>-0.069023</td>\n",
       "      <td>0.172033</td>\n",
       "    </tr>\n",
       "    <tr>\n",
       "      <th>25%</th>\n",
       "      <td>0.206223</td>\n",
       "      <td>-0.048857</td>\n",
       "      <td>0.182390</td>\n",
       "    </tr>\n",
       "    <tr>\n",
       "      <th>50%</th>\n",
       "      <td>0.211048</td>\n",
       "      <td>-0.039345</td>\n",
       "      <td>0.188354</td>\n",
       "    </tr>\n",
       "    <tr>\n",
       "      <th>75%</th>\n",
       "      <td>0.218409</td>\n",
       "      <td>-0.025823</td>\n",
       "      <td>0.192662</td>\n",
       "    </tr>\n",
       "    <tr>\n",
       "      <th>max</th>\n",
       "      <td>0.238579</td>\n",
       "      <td>-0.002061</td>\n",
       "      <td>0.202101</td>\n",
       "    </tr>\n",
       "  </tbody>\n",
       "</table>\n",
       "</div>"
      ],
      "text/plain": [
       "            Pitch         Yaw        Roll\n",
       "count  117.000000  117.000000  117.000000\n",
       "mean     0.213186   -0.036960    0.187699\n",
       "std      0.008937    0.016263    0.006961\n",
       "min      0.199584   -0.069023    0.172033\n",
       "25%      0.206223   -0.048857    0.182390\n",
       "50%      0.211048   -0.039345    0.188354\n",
       "75%      0.218409   -0.025823    0.192662\n",
       "max      0.238579   -0.002061    0.202101"
      ]
     },
     "execution_count": 56,
     "metadata": {},
     "output_type": "execute_result"
    }
   ],
   "source": [
    "df5.describe()"
   ]
  },
  {
   "cell_type": "code",
   "execution_count": 57,
   "id": "f07015c2",
   "metadata": {},
   "outputs": [
    {
     "data": {
      "image/png": "[encoded data removed]",
      "text/plain": [
       "<Figure size 640x480 with 1 Axes>"
      ]
     },
     "metadata": {},
     "output_type": "display_data"
    }
   ],
   "source": [
    "pitch = df5['Pitch']\n",
    "yaw = df5['Yaw']\n",
    "roll = df5['Roll']\n",
    "fig, ax = plt.subplots()\n",
    "ax.plot(pitch, label='Pitch')\n",
    "ax.plot(yaw, label='Yaw')\n",
    "ax.plot(roll, label='Roll')\n",
    "ax.set_xlabel('Time')\n",
    "ax.set_ylabel('Values')\n",
    "ax.set_title('Apple Watch Sensor Data')\n",
    "ax.legend()\n",
    "plt.show()"
   ]
  },
  {
   "cell_type": "code",
   "execution_count": 58,
   "id": "36b6ba08",
   "metadata": {},
   "outputs": [
    {
     "data": {
      "image/png": "[encoded data removed]",
      "text/plain": [
       "<Figure size 640x480 with 1 Axes>"
      ]
     },
     "metadata": {},
     "output_type": "display_data"
    }
   ],
   "source": [
    "labels = ['Pitch', 'Yaw', 'Roll']\n",
    "values = [pitch.mean(), yaw.mean(), roll.mean()]\n",
    "plt.bar(labels, values)\n",
    "plt.xlabel('Measurements')\n",
    "plt.ylabel('Average Values')\n",
    "plt.title('Average Apple Watch Sensor Data')\n",
    "plt.show()"
   ]
  },
  {
   "cell_type": "markdown",
   "id": "95ef194c",
   "metadata": {},
   "source": [
    "# Nagalaxmi W2"
   ]
  },
  {
   "cell_type": "code",
   "execution_count": 59,
   "id": "8ea271a1",
   "metadata": {},
   "outputs": [
    {
     "data": {
      "text/html": [
       "<div>\n",
       "<style scoped>\n",
       "    .dataframe tbody tr th:only-of-type {\n",
       "        vertical-align: middle;\n",
       "    }\n",
       "\n",
       "    .dataframe tbody tr th {\n",
       "        vertical-align: top;\n",
       "    }\n",
       "\n",
       "    .dataframe thead th {\n",
       "        text-align: right;\n",
       "    }\n",
       "</style>\n",
       "<table border=\"1\" class=\"dataframe\">\n",
       "  <thead>\n",
       "    <tr style=\"text-align: right;\">\n",
       "      <th></th>\n",
       "      <th>Pitch</th>\n",
       "      <th>Yaw</th>\n",
       "      <th>Roll</th>\n",
       "    </tr>\n",
       "  </thead>\n",
       "  <tbody>\n",
       "    <tr>\n",
       "      <th>0</th>\n",
       "      <td>0.021400</td>\n",
       "      <td>-0.000632</td>\n",
       "      <td>0.059019</td>\n",
       "    </tr>\n",
       "    <tr>\n",
       "      <th>1</th>\n",
       "      <td>0.019229</td>\n",
       "      <td>-0.002911</td>\n",
       "      <td>0.059308</td>\n",
       "    </tr>\n",
       "    <tr>\n",
       "      <th>2</th>\n",
       "      <td>0.017105</td>\n",
       "      <td>-0.006078</td>\n",
       "      <td>0.063290</td>\n",
       "    </tr>\n",
       "    <tr>\n",
       "      <th>3</th>\n",
       "      <td>0.015730</td>\n",
       "      <td>-0.009260</td>\n",
       "      <td>0.065794</td>\n",
       "    </tr>\n",
       "    <tr>\n",
       "      <th>4</th>\n",
       "      <td>0.015393</td>\n",
       "      <td>-0.011087</td>\n",
       "      <td>0.068294</td>\n",
       "    </tr>\n",
       "  </tbody>\n",
       "</table>\n",
       "</div>"
      ],
      "text/plain": [
       "      Pitch       Yaw      Roll\n",
       "0  0.021400 -0.000632  0.059019\n",
       "1  0.019229 -0.002911  0.059308\n",
       "2  0.017105 -0.006078  0.063290\n",
       "3  0.015730 -0.009260  0.065794\n",
       "4  0.015393 -0.011087  0.068294"
      ]
     },
     "execution_count": 59,
     "metadata": {},
     "output_type": "execute_result"
    }
   ],
   "source": [
    "df6=pd.read_csv(\"C:/Users/ranak/OneDrive/Desktop/my_desk/python_server/watchdata/final/w2/2023-07-21_11-52-37_nagalaxmi.csv\")\n",
    "df6.head()"
   ]
  },
  {
   "cell_type": "code",
   "execution_count": 60,
   "id": "80ccdc7f",
   "metadata": {},
   "outputs": [
    {
     "data": {
      "text/plain": [
       "(119, 3)"
      ]
     },
     "execution_count": 60,
     "metadata": {},
     "output_type": "execute_result"
    }
   ],
   "source": [
    "df6.shape"
   ]
  },
  {
   "cell_type": "code",
   "execution_count": 61,
   "id": "bf70c384",
   "metadata": {},
   "outputs": [
    {
     "data": {
      "text/html": [
       "<div>\n",
       "<style scoped>\n",
       "    .dataframe tbody tr th:only-of-type {\n",
       "        vertical-align: middle;\n",
       "    }\n",
       "\n",
       "    .dataframe tbody tr th {\n",
       "        vertical-align: top;\n",
       "    }\n",
       "\n",
       "    .dataframe thead th {\n",
       "        text-align: right;\n",
       "    }\n",
       "</style>\n",
       "<table border=\"1\" class=\"dataframe\">\n",
       "  <thead>\n",
       "    <tr style=\"text-align: right;\">\n",
       "      <th></th>\n",
       "      <th>Pitch</th>\n",
       "      <th>Yaw</th>\n",
       "      <th>Roll</th>\n",
       "    </tr>\n",
       "  </thead>\n",
       "  <tbody>\n",
       "    <tr>\n",
       "      <th>count</th>\n",
       "      <td>119.000000</td>\n",
       "      <td>119.000000</td>\n",
       "      <td>119.000000</td>\n",
       "    </tr>\n",
       "    <tr>\n",
       "      <th>mean</th>\n",
       "      <td>0.027387</td>\n",
       "      <td>-0.012462</td>\n",
       "      <td>0.089255</td>\n",
       "    </tr>\n",
       "    <tr>\n",
       "      <th>std</th>\n",
       "      <td>0.011749</td>\n",
       "      <td>0.007575</td>\n",
       "      <td>0.008678</td>\n",
       "    </tr>\n",
       "    <tr>\n",
       "      <th>min</th>\n",
       "      <td>0.004906</td>\n",
       "      <td>-0.025731</td>\n",
       "      <td>0.059019</td>\n",
       "    </tr>\n",
       "    <tr>\n",
       "      <th>25%</th>\n",
       "      <td>0.018571</td>\n",
       "      <td>-0.018665</td>\n",
       "      <td>0.086718</td>\n",
       "    </tr>\n",
       "    <tr>\n",
       "      <th>50%</th>\n",
       "      <td>0.025515</td>\n",
       "      <td>-0.012538</td>\n",
       "      <td>0.090159</td>\n",
       "    </tr>\n",
       "    <tr>\n",
       "      <th>75%</th>\n",
       "      <td>0.036950</td>\n",
       "      <td>-0.006847</td>\n",
       "      <td>0.096210</td>\n",
       "    </tr>\n",
       "    <tr>\n",
       "      <th>max</th>\n",
       "      <td>0.055942</td>\n",
       "      <td>0.006103</td>\n",
       "      <td>0.099863</td>\n",
       "    </tr>\n",
       "  </tbody>\n",
       "</table>\n",
       "</div>"
      ],
      "text/plain": [
       "            Pitch         Yaw        Roll\n",
       "count  119.000000  119.000000  119.000000\n",
       "mean     0.027387   -0.012462    0.089255\n",
       "std      0.011749    0.007575    0.008678\n",
       "min      0.004906   -0.025731    0.059019\n",
       "25%      0.018571   -0.018665    0.086718\n",
       "50%      0.025515   -0.012538    0.090159\n",
       "75%      0.036950   -0.006847    0.096210\n",
       "max      0.055942    0.006103    0.099863"
      ]
     },
     "execution_count": 61,
     "metadata": {},
     "output_type": "execute_result"
    }
   ],
   "source": [
    "df6.describe()"
   ]
  },
  {
   "cell_type": "code",
   "execution_count": 63,
   "id": "e7c694da",
   "metadata": {},
   "outputs": [
    {
     "data": {
      "image/png": "[encoded data removed]",
      "text/plain": [
       "<Figure size 640x480 with 1 Axes>"
      ]
     },
     "metadata": {},
     "output_type": "display_data"
    }
   ],
   "source": [
    "pitch = df6['Pitch']\n",
    "yaw = df6['Yaw']\n",
    "roll = df6['Roll']\n",
    "fig, ax = plt.subplots()\n",
    "ax.plot(pitch, label='Pitch')\n",
    "ax.plot(yaw, label='Yaw')\n",
    "ax.plot(roll, label='Roll')\n",
    "ax.set_xlabel('Time')\n",
    "ax.set_ylabel('Values')\n",
    "ax.set_title('Apple Watch Sensor Data')\n",
    "ax.legend()\n",
    "plt.show()"
   ]
  },
  {
   "cell_type": "code",
   "execution_count": 64,
   "id": "77275f02",
   "metadata": {},
   "outputs": [
    {
     "data": {
      "image/png": "[encoded data removed]",
      "text/plain": [
       "<Figure size 640x480 with 1 Axes>"
      ]
     },
     "metadata": {},
     "output_type": "display_data"
    }
   ],
   "source": [
    "labels = ['Pitch', 'Yaw', 'Roll']\n",
    "values = [pitch.mean(), yaw.mean(), roll.mean()]\n",
    "plt.bar(labels, values)\n",
    "plt.xlabel('Measurements')\n",
    "plt.ylabel('Average Values')\n",
    "plt.title('Average Apple Watch Sensor Data')\n",
    "plt.show()"
   ]
  },
  {
   "cell_type": "markdown",
   "id": "68cf632f",
   "metadata": {},
   "source": [
    "# Combine all Data to a single file"
   ]
  },
  {
   "cell_type": "code",
   "execution_count": 79,
   "id": "abe4c34a",
   "metadata": {},
   "outputs": [
    {
     "name": "stdout",
     "output_type": "stream",
     "text": [
      "CSV files successfully combined and saved to: warrior_1.csv\n"
     ]
    }
   ],
   "source": [
    "import pandas as pd\n",
    "import os\n",
    "\n",
    "csv_directory = 'C:/Users/ranak/OneDrive/Desktop/my_desk/python_server/watchdata/final/w1'\n",
    "csv_files = [file for file in os.listdir(csv_directory) if file.endswith('.csv')]\n",
    "dataframes = []\n",
    "for csv_file in csv_files:\n",
    "    file_path = os.path.join(csv_directory, csv_file)\n",
    "    df = pd.read_csv(file_path)\n",
    "    dataframes.append(df)\n",
    "combined_df = pd.concat(dataframes)\n",
    "\n",
    "combined_csv_path = 'warrior_1.csv'\n",
    "combined_df.to_csv(combined_csv_path, index=False)\n",
    "\n",
    "print(\"CSV files successfully combined and saved to:\", combined_csv_path)"
   ]
  },
  {
   "cell_type": "code",
   "execution_count": 119,
   "id": "b4716739",
   "metadata": {},
   "outputs": [
    {
     "data": {
      "text/html": [
       "<div>\n",
       "<style scoped>\n",
       "    .dataframe tbody tr th:only-of-type {\n",
       "        vertical-align: middle;\n",
       "    }\n",
       "\n",
       "    .dataframe tbody tr th {\n",
       "        vertical-align: top;\n",
       "    }\n",
       "\n",
       "    .dataframe thead th {\n",
       "        text-align: right;\n",
       "    }\n",
       "</style>\n",
       "<table border=\"1\" class=\"dataframe\">\n",
       "  <thead>\n",
       "    <tr style=\"text-align: right;\">\n",
       "      <th></th>\n",
       "      <th>Pitch</th>\n",
       "      <th>Yaw</th>\n",
       "      <th>Roll</th>\n",
       "    </tr>\n",
       "  </thead>\n",
       "  <tbody>\n",
       "    <tr>\n",
       "      <th>0</th>\n",
       "      <td>0.237859</td>\n",
       "      <td>0.081897</td>\n",
       "      <td>-0.660630</td>\n",
       "    </tr>\n",
       "    <tr>\n",
       "      <th>1</th>\n",
       "      <td>0.223750</td>\n",
       "      <td>0.077935</td>\n",
       "      <td>-0.678536</td>\n",
       "    </tr>\n",
       "    <tr>\n",
       "      <th>2</th>\n",
       "      <td>0.225325</td>\n",
       "      <td>0.074186</td>\n",
       "      <td>-0.669362</td>\n",
       "    </tr>\n",
       "    <tr>\n",
       "      <th>3</th>\n",
       "      <td>0.210987</td>\n",
       "      <td>0.072631</td>\n",
       "      <td>-0.669490</td>\n",
       "    </tr>\n",
       "    <tr>\n",
       "      <th>4</th>\n",
       "      <td>0.198619</td>\n",
       "      <td>0.075810</td>\n",
       "      <td>-0.671017</td>\n",
       "    </tr>\n",
       "  </tbody>\n",
       "</table>\n",
       "</div>"
      ],
      "text/plain": [
       "      Pitch       Yaw      Roll\n",
       "0  0.237859  0.081897 -0.660630\n",
       "1  0.223750  0.077935 -0.678536\n",
       "2  0.225325  0.074186 -0.669362\n",
       "3  0.210987  0.072631 -0.669490\n",
       "4  0.198619  0.075810 -0.671017"
      ]
     },
     "execution_count": 119,
     "metadata": {},
     "output_type": "execute_result"
    }
   ],
   "source": [
    "w1 = pd.read_csv(\"data/combined/warrior_1.csv\")\n",
    "w1.head()"
   ]
  },
  {
   "cell_type": "code",
   "execution_count": 120,
   "id": "c25d2d54",
   "metadata": {},
   "outputs": [
    {
     "data": {
      "text/plain": [
       "(309, 3)"
      ]
     },
     "execution_count": 120,
     "metadata": {},
     "output_type": "execute_result"
    }
   ],
   "source": [
    "w1.shape"
   ]
  },
  {
   "cell_type": "code",
   "execution_count": 121,
   "id": "583953d5",
   "metadata": {},
   "outputs": [
    {
     "data": {
      "image/png": "[encoded data removed]",
      "text/plain": [
       "<Figure size 640x480 with 1 Axes>"
      ]
     },
     "metadata": {},
     "output_type": "display_data"
    }
   ],
   "source": [
    "pitch = w1['Pitch']\n",
    "yaw = w1['Yaw']\n",
    "roll = w1['Roll']\n",
    "fig, ax = plt.subplots()\n",
    "ax.plot(pitch, label='Pitch')\n",
    "ax.plot(yaw, label='Yaw')\n",
    "ax.plot(roll, label='Roll')\n",
    "ax.set_xlabel('Time')\n",
    "ax.set_ylabel('Values')\n",
    "ax.set_title('Apple Watch Sensor Data')\n",
    "ax.legend()\n",
    "plt.show()"
   ]
  },
  {
   "cell_type": "code",
   "execution_count": 122,
   "id": "63fa4208",
   "metadata": {},
   "outputs": [
    {
     "data": {
      "image/png": "[encoded data removed]",
      "text/plain": [
       "<Figure size 640x480 with 1 Axes>"
      ]
     },
     "metadata": {},
     "output_type": "display_data"
    }
   ],
   "source": [
    "labels = ['Pitch', 'Yaw', 'Roll']\n",
    "values = [pitch.mean(), yaw.mean(), roll.mean()]\n",
    "plt.bar(labels, values)\n",
    "plt.xlabel('Measurements')\n",
    "plt.ylabel('Average Values')\n",
    "plt.title('Average Apple Watch Sensor Data')\n",
    "plt.show()"
   ]
  },
  {
   "cell_type": "code",
   "execution_count": 102,
   "id": "72c633d0",
   "metadata": {},
   "outputs": [],
   "source": [
    "w1 = w1.assign(label=23)"
   ]
  },
  {
   "cell_type": "code",
   "execution_count": 103,
   "id": "f6c97bab",
   "metadata": {},
   "outputs": [
    {
     "data": {
      "text/html": [
       "<div>\n",
       "<style scoped>\n",
       "    .dataframe tbody tr th:only-of-type {\n",
       "        vertical-align: middle;\n",
       "    }\n",
       "\n",
       "    .dataframe tbody tr th {\n",
       "        vertical-align: top;\n",
       "    }\n",
       "\n",
       "    .dataframe thead th {\n",
       "        text-align: right;\n",
       "    }\n",
       "</style>\n",
       "<table border=\"1\" class=\"dataframe\">\n",
       "  <thead>\n",
       "    <tr style=\"text-align: right;\">\n",
       "      <th></th>\n",
       "      <th>Pitch</th>\n",
       "      <th>Yaw</th>\n",
       "      <th>Roll</th>\n",
       "      <th>label</th>\n",
       "    </tr>\n",
       "  </thead>\n",
       "  <tbody>\n",
       "    <tr>\n",
       "      <th>0</th>\n",
       "      <td>0.237859</td>\n",
       "      <td>0.081897</td>\n",
       "      <td>-0.660630</td>\n",
       "      <td>23</td>\n",
       "    </tr>\n",
       "    <tr>\n",
       "      <th>1</th>\n",
       "      <td>0.223750</td>\n",
       "      <td>0.077935</td>\n",
       "      <td>-0.678536</td>\n",
       "      <td>23</td>\n",
       "    </tr>\n",
       "    <tr>\n",
       "      <th>2</th>\n",
       "      <td>0.225325</td>\n",
       "      <td>0.074186</td>\n",
       "      <td>-0.669362</td>\n",
       "      <td>23</td>\n",
       "    </tr>\n",
       "    <tr>\n",
       "      <th>3</th>\n",
       "      <td>0.210987</td>\n",
       "      <td>0.072631</td>\n",
       "      <td>-0.669490</td>\n",
       "      <td>23</td>\n",
       "    </tr>\n",
       "    <tr>\n",
       "      <th>4</th>\n",
       "      <td>0.198619</td>\n",
       "      <td>0.075810</td>\n",
       "      <td>-0.671017</td>\n",
       "      <td>23</td>\n",
       "    </tr>\n",
       "  </tbody>\n",
       "</table>\n",
       "</div>"
      ],
      "text/plain": [
       "      Pitch       Yaw      Roll  label\n",
       "0  0.237859  0.081897 -0.660630     23\n",
       "1  0.223750  0.077935 -0.678536     23\n",
       "2  0.225325  0.074186 -0.669362     23\n",
       "3  0.210987  0.072631 -0.669490     23\n",
       "4  0.198619  0.075810 -0.671017     23"
      ]
     },
     "execution_count": 103,
     "metadata": {},
     "output_type": "execute_result"
    }
   ],
   "source": [
    "w1.head()"
   ]
  },
  {
   "cell_type": "code",
   "execution_count": 104,
   "id": "8cf4607e",
   "metadata": {},
   "outputs": [],
   "source": [
    "updated_csv_path = 'data/combined/w1.csv'  # Replace 'path_to_updated_csv_file.csv' with the desired file path\n",
    "w1.to_csv(updated_csv_path, index=False)"
   ]
  },
  {
   "cell_type": "code",
   "execution_count": 105,
   "id": "e9693e83",
   "metadata": {},
   "outputs": [
    {
     "data": {
      "text/html": [
       "<div>\n",
       "<style scoped>\n",
       "    .dataframe tbody tr th:only-of-type {\n",
       "        vertical-align: middle;\n",
       "    }\n",
       "\n",
       "    .dataframe tbody tr th {\n",
       "        vertical-align: top;\n",
       "    }\n",
       "\n",
       "    .dataframe thead th {\n",
       "        text-align: right;\n",
       "    }\n",
       "</style>\n",
       "<table border=\"1\" class=\"dataframe\">\n",
       "  <thead>\n",
       "    <tr style=\"text-align: right;\">\n",
       "      <th></th>\n",
       "      <th>Pitch</th>\n",
       "      <th>Yaw</th>\n",
       "      <th>Roll</th>\n",
       "      <th>label</th>\n",
       "    </tr>\n",
       "  </thead>\n",
       "  <tbody>\n",
       "    <tr>\n",
       "      <th>0</th>\n",
       "      <td>0.237859</td>\n",
       "      <td>0.081897</td>\n",
       "      <td>-0.660630</td>\n",
       "      <td>23</td>\n",
       "    </tr>\n",
       "    <tr>\n",
       "      <th>1</th>\n",
       "      <td>0.223750</td>\n",
       "      <td>0.077935</td>\n",
       "      <td>-0.678536</td>\n",
       "      <td>23</td>\n",
       "    </tr>\n",
       "    <tr>\n",
       "      <th>2</th>\n",
       "      <td>0.225325</td>\n",
       "      <td>0.074186</td>\n",
       "      <td>-0.669362</td>\n",
       "      <td>23</td>\n",
       "    </tr>\n",
       "    <tr>\n",
       "      <th>3</th>\n",
       "      <td>0.210987</td>\n",
       "      <td>0.072631</td>\n",
       "      <td>-0.669490</td>\n",
       "      <td>23</td>\n",
       "    </tr>\n",
       "    <tr>\n",
       "      <th>4</th>\n",
       "      <td>0.198619</td>\n",
       "      <td>0.075810</td>\n",
       "      <td>-0.671017</td>\n",
       "      <td>23</td>\n",
       "    </tr>\n",
       "  </tbody>\n",
       "</table>\n",
       "</div>"
      ],
      "text/plain": [
       "      Pitch       Yaw      Roll  label\n",
       "0  0.237859  0.081897 -0.660630     23\n",
       "1  0.223750  0.077935 -0.678536     23\n",
       "2  0.225325  0.074186 -0.669362     23\n",
       "3  0.210987  0.072631 -0.669490     23\n",
       "4  0.198619  0.075810 -0.671017     23"
      ]
     },
     "execution_count": 105,
     "metadata": {},
     "output_type": "execute_result"
    }
   ],
   "source": [
    "w1 = pd.read_csv(\"data/combined/w1.csv\")\n",
    "w1.head()"
   ]
  },
  {
   "cell_type": "code",
   "execution_count": 71,
   "id": "23b80767",
   "metadata": {},
   "outputs": [
    {
     "name": "stdout",
     "output_type": "stream",
     "text": [
      "CSV files successfully combined and saved to: warrior_2.csv\n"
     ]
    }
   ],
   "source": [
    "csv_directory = 'C:/Users/ranak/OneDrive/Desktop/my_desk/python_server/watchdata/final/w2'\n",
    "csv_files = [file for file in os.listdir(csv_directory) if file.endswith('.csv')]\n",
    "dataframes = []\n",
    "for csv_file in csv_files:\n",
    "    file_path = os.path.join(csv_directory, csv_file)\n",
    "    df = pd.read_csv(file_path)\n",
    "    dataframes.append(df)\n",
    "combined_df = pd.concat(dataframes)\n",
    "\n",
    "combined_csv_path = 'warrior_2.csv'\n",
    "combined_df.to_csv(combined_csv_path, index=False)\n",
    "\n",
    "print(\"CSV files successfully combined and saved to:\", combined_csv_path)"
   ]
  },
  {
   "cell_type": "code",
   "execution_count": 123,
   "id": "429aead5",
   "metadata": {
    "scrolled": true
   },
   "outputs": [
    {
     "data": {
      "text/html": [
       "<div>\n",
       "<style scoped>\n",
       "    .dataframe tbody tr th:only-of-type {\n",
       "        vertical-align: middle;\n",
       "    }\n",
       "\n",
       "    .dataframe tbody tr th {\n",
       "        vertical-align: top;\n",
       "    }\n",
       "\n",
       "    .dataframe thead th {\n",
       "        text-align: right;\n",
       "    }\n",
       "</style>\n",
       "<table border=\"1\" class=\"dataframe\">\n",
       "  <thead>\n",
       "    <tr style=\"text-align: right;\">\n",
       "      <th></th>\n",
       "      <th>Pitch</th>\n",
       "      <th>Yaw</th>\n",
       "      <th>Roll</th>\n",
       "    </tr>\n",
       "  </thead>\n",
       "  <tbody>\n",
       "    <tr>\n",
       "      <th>0</th>\n",
       "      <td>0.021400</td>\n",
       "      <td>-0.000632</td>\n",
       "      <td>0.059019</td>\n",
       "    </tr>\n",
       "    <tr>\n",
       "      <th>1</th>\n",
       "      <td>0.019229</td>\n",
       "      <td>-0.002911</td>\n",
       "      <td>0.059308</td>\n",
       "    </tr>\n",
       "    <tr>\n",
       "      <th>2</th>\n",
       "      <td>0.017105</td>\n",
       "      <td>-0.006078</td>\n",
       "      <td>0.063290</td>\n",
       "    </tr>\n",
       "    <tr>\n",
       "      <th>3</th>\n",
       "      <td>0.015730</td>\n",
       "      <td>-0.009260</td>\n",
       "      <td>0.065794</td>\n",
       "    </tr>\n",
       "    <tr>\n",
       "      <th>4</th>\n",
       "      <td>0.015393</td>\n",
       "      <td>-0.011087</td>\n",
       "      <td>0.068294</td>\n",
       "    </tr>\n",
       "  </tbody>\n",
       "</table>\n",
       "</div>"
      ],
      "text/plain": [
       "      Pitch       Yaw      Roll\n",
       "0  0.021400 -0.000632  0.059019\n",
       "1  0.019229 -0.002911  0.059308\n",
       "2  0.017105 -0.006078  0.063290\n",
       "3  0.015730 -0.009260  0.065794\n",
       "4  0.015393 -0.011087  0.068294"
      ]
     },
     "execution_count": 123,
     "metadata": {},
     "output_type": "execute_result"
    }
   ],
   "source": [
    "w2 = pd.read_csv('data/combined/warrior_2.csv')\n",
    "w2.head()"
   ]
  },
  {
   "cell_type": "code",
   "execution_count": 124,
   "id": "9b9b6a98",
   "metadata": {},
   "outputs": [
    {
     "data": {
      "text/plain": [
       "(341, 3)"
      ]
     },
     "execution_count": 124,
     "metadata": {},
     "output_type": "execute_result"
    }
   ],
   "source": [
    "w2.shape"
   ]
  },
  {
   "cell_type": "code",
   "execution_count": 125,
   "id": "6fab9792",
   "metadata": {},
   "outputs": [
    {
     "data": {
      "image/png": "[encoded data removed]",
      "text/plain": [
       "<Figure size 640x480 with 1 Axes>"
      ]
     },
     "metadata": {},
     "output_type": "display_data"
    }
   ],
   "source": [
    "pitch = w2['Pitch']\n",
    "yaw = w2['Yaw']\n",
    "roll = w2['Roll']\n",
    "fig, ax = plt.subplots()\n",
    "ax.plot(pitch, label='Pitch')\n",
    "ax.plot(yaw, label='Yaw')\n",
    "ax.plot(roll, label='Roll')\n",
    "ax.set_xlabel('Time')\n",
    "ax.set_ylabel('Values')\n",
    "ax.set_title('Apple Watch Sensor Data')\n",
    "ax.legend()\n",
    "plt.show()"
   ]
  },
  {
   "cell_type": "code",
   "execution_count": 126,
   "id": "77626fef",
   "metadata": {},
   "outputs": [
    {
     "data": {
      "image/png": "[encoded data removed]",
      "text/plain": [
       "<Figure size 640x480 with 1 Axes>"
      ]
     },
     "metadata": {},
     "output_type": "display_data"
    }
   ],
   "source": [
    "labels = ['Pitch', 'Yaw', 'Roll']\n",
    "values = [pitch.mean(), yaw.mean(), roll.mean()]\n",
    "plt.bar(labels, values)\n",
    "plt.xlabel('Measurements')\n",
    "plt.ylabel('Average Values')\n",
    "plt.title('Average Apple Watch Sensor Data')\n",
    "plt.show()"
   ]
  },
  {
   "cell_type": "code",
   "execution_count": 107,
   "id": "bae07c05",
   "metadata": {},
   "outputs": [],
   "source": [
    "w2 = w2.assign(label=24)"
   ]
  },
  {
   "cell_type": "code",
   "execution_count": 108,
   "id": "159dccdc",
   "metadata": {
    "scrolled": true
   },
   "outputs": [
    {
     "data": {
      "text/html": [
       "<div>\n",
       "<style scoped>\n",
       "    .dataframe tbody tr th:only-of-type {\n",
       "        vertical-align: middle;\n",
       "    }\n",
       "\n",
       "    .dataframe tbody tr th {\n",
       "        vertical-align: top;\n",
       "    }\n",
       "\n",
       "    .dataframe thead th {\n",
       "        text-align: right;\n",
       "    }\n",
       "</style>\n",
       "<table border=\"1\" class=\"dataframe\">\n",
       "  <thead>\n",
       "    <tr style=\"text-align: right;\">\n",
       "      <th></th>\n",
       "      <th>Pitch</th>\n",
       "      <th>Yaw</th>\n",
       "      <th>Roll</th>\n",
       "      <th>label</th>\n",
       "    </tr>\n",
       "  </thead>\n",
       "  <tbody>\n",
       "    <tr>\n",
       "      <th>0</th>\n",
       "      <td>0.021400</td>\n",
       "      <td>-0.000632</td>\n",
       "      <td>0.059019</td>\n",
       "      <td>24</td>\n",
       "    </tr>\n",
       "    <tr>\n",
       "      <th>1</th>\n",
       "      <td>0.019229</td>\n",
       "      <td>-0.002911</td>\n",
       "      <td>0.059308</td>\n",
       "      <td>24</td>\n",
       "    </tr>\n",
       "    <tr>\n",
       "      <th>2</th>\n",
       "      <td>0.017105</td>\n",
       "      <td>-0.006078</td>\n",
       "      <td>0.063290</td>\n",
       "      <td>24</td>\n",
       "    </tr>\n",
       "    <tr>\n",
       "      <th>3</th>\n",
       "      <td>0.015730</td>\n",
       "      <td>-0.009260</td>\n",
       "      <td>0.065794</td>\n",
       "      <td>24</td>\n",
       "    </tr>\n",
       "    <tr>\n",
       "      <th>4</th>\n",
       "      <td>0.015393</td>\n",
       "      <td>-0.011087</td>\n",
       "      <td>0.068294</td>\n",
       "      <td>24</td>\n",
       "    </tr>\n",
       "  </tbody>\n",
       "</table>\n",
       "</div>"
      ],
      "text/plain": [
       "      Pitch       Yaw      Roll  label\n",
       "0  0.021400 -0.000632  0.059019     24\n",
       "1  0.019229 -0.002911  0.059308     24\n",
       "2  0.017105 -0.006078  0.063290     24\n",
       "3  0.015730 -0.009260  0.065794     24\n",
       "4  0.015393 -0.011087  0.068294     24"
      ]
     },
     "execution_count": 108,
     "metadata": {},
     "output_type": "execute_result"
    }
   ],
   "source": [
    "w2.head()"
   ]
  },
  {
   "cell_type": "code",
   "execution_count": 109,
   "id": "a4ae0cba",
   "metadata": {},
   "outputs": [],
   "source": [
    "updated_csv_path = 'data/combined/w2.csv'  # Replace 'path_to_updated_csv_file.csv' with the desired file path\n",
    "w2.to_csv(updated_csv_path, index=False)"
   ]
  },
  {
   "cell_type": "code",
   "execution_count": 110,
   "id": "536e37c0",
   "metadata": {},
   "outputs": [
    {
     "data": {
      "text/html": [
       "<div>\n",
       "<style scoped>\n",
       "    .dataframe tbody tr th:only-of-type {\n",
       "        vertical-align: middle;\n",
       "    }\n",
       "\n",
       "    .dataframe tbody tr th {\n",
       "        vertical-align: top;\n",
       "    }\n",
       "\n",
       "    .dataframe thead th {\n",
       "        text-align: right;\n",
       "    }\n",
       "</style>\n",
       "<table border=\"1\" class=\"dataframe\">\n",
       "  <thead>\n",
       "    <tr style=\"text-align: right;\">\n",
       "      <th></th>\n",
       "      <th>Pitch</th>\n",
       "      <th>Yaw</th>\n",
       "      <th>Roll</th>\n",
       "      <th>label</th>\n",
       "    </tr>\n",
       "  </thead>\n",
       "  <tbody>\n",
       "    <tr>\n",
       "      <th>0</th>\n",
       "      <td>0.021400</td>\n",
       "      <td>-0.000632</td>\n",
       "      <td>0.059019</td>\n",
       "      <td>24</td>\n",
       "    </tr>\n",
       "    <tr>\n",
       "      <th>1</th>\n",
       "      <td>0.019229</td>\n",
       "      <td>-0.002911</td>\n",
       "      <td>0.059308</td>\n",
       "      <td>24</td>\n",
       "    </tr>\n",
       "    <tr>\n",
       "      <th>2</th>\n",
       "      <td>0.017105</td>\n",
       "      <td>-0.006078</td>\n",
       "      <td>0.063290</td>\n",
       "      <td>24</td>\n",
       "    </tr>\n",
       "    <tr>\n",
       "      <th>3</th>\n",
       "      <td>0.015730</td>\n",
       "      <td>-0.009260</td>\n",
       "      <td>0.065794</td>\n",
       "      <td>24</td>\n",
       "    </tr>\n",
       "    <tr>\n",
       "      <th>4</th>\n",
       "      <td>0.015393</td>\n",
       "      <td>-0.011087</td>\n",
       "      <td>0.068294</td>\n",
       "      <td>24</td>\n",
       "    </tr>\n",
       "  </tbody>\n",
       "</table>\n",
       "</div>"
      ],
      "text/plain": [
       "      Pitch       Yaw      Roll  label\n",
       "0  0.021400 -0.000632  0.059019     24\n",
       "1  0.019229 -0.002911  0.059308     24\n",
       "2  0.017105 -0.006078  0.063290     24\n",
       "3  0.015730 -0.009260  0.065794     24\n",
       "4  0.015393 -0.011087  0.068294     24"
      ]
     },
     "execution_count": 110,
     "metadata": {},
     "output_type": "execute_result"
    }
   ],
   "source": [
    "w2 = pd.read_csv('data/combined/w2.csv')\n",
    "w2.head()"
   ]
  },
  {
   "cell_type": "code",
   "execution_count": 113,
   "id": "4939daa7",
   "metadata": {},
   "outputs": [
    {
     "name": "stdout",
     "output_type": "stream",
     "text": [
      "CSV files successfully combined and saved to: data/combined/train_data.csv\n"
     ]
    }
   ],
   "source": [
    "csv_directory = 'data/combined'\n",
    "csv_files = [file for file in os.listdir(csv_directory) if file.endswith('.csv')]\n",
    "dataframes = []\n",
    "for csv_file in csv_files:\n",
    "    file_path = os.path.join(csv_directory, csv_file)\n",
    "    df = pd.read_csv(file_path)\n",
    "    dataframes.append(df)\n",
    "combined_df = pd.concat(dataframes)\n",
    "\n",
    "combined_csv_path = 'data/combined/train_data.csv'\n",
    "combined_df.to_csv(combined_csv_path, index=False)\n",
    "\n",
    "print(\"CSV files successfully combined and saved to:\", combined_csv_path)"
   ]
  },
  {
   "cell_type": "code",
   "execution_count": 164,
   "id": "3a06104f",
   "metadata": {},
   "outputs": [
    {
     "data": {
      "text/html": [
       "<div>\n",
       "<style scoped>\n",
       "    .dataframe tbody tr th:only-of-type {\n",
       "        vertical-align: middle;\n",
       "    }\n",
       "\n",
       "    .dataframe tbody tr th {\n",
       "        vertical-align: top;\n",
       "    }\n",
       "\n",
       "    .dataframe thead th {\n",
       "        text-align: right;\n",
       "    }\n",
       "</style>\n",
       "<table border=\"1\" class=\"dataframe\">\n",
       "  <thead>\n",
       "    <tr style=\"text-align: right;\">\n",
       "      <th></th>\n",
       "      <th>Pitch</th>\n",
       "      <th>Yaw</th>\n",
       "      <th>Roll</th>\n",
       "      <th>label</th>\n",
       "    </tr>\n",
       "  </thead>\n",
       "  <tbody>\n",
       "    <tr>\n",
       "      <th>0</th>\n",
       "      <td>0.237859</td>\n",
       "      <td>0.081897</td>\n",
       "      <td>-0.660630</td>\n",
       "      <td>23</td>\n",
       "    </tr>\n",
       "    <tr>\n",
       "      <th>1</th>\n",
       "      <td>0.223750</td>\n",
       "      <td>0.077935</td>\n",
       "      <td>-0.678536</td>\n",
       "      <td>23</td>\n",
       "    </tr>\n",
       "    <tr>\n",
       "      <th>2</th>\n",
       "      <td>0.225325</td>\n",
       "      <td>0.074186</td>\n",
       "      <td>-0.669362</td>\n",
       "      <td>23</td>\n",
       "    </tr>\n",
       "    <tr>\n",
       "      <th>3</th>\n",
       "      <td>0.210987</td>\n",
       "      <td>0.072631</td>\n",
       "      <td>-0.669490</td>\n",
       "      <td>23</td>\n",
       "    </tr>\n",
       "    <tr>\n",
       "      <th>4</th>\n",
       "      <td>0.198619</td>\n",
       "      <td>0.075810</td>\n",
       "      <td>-0.671017</td>\n",
       "      <td>23</td>\n",
       "    </tr>\n",
       "  </tbody>\n",
       "</table>\n",
       "</div>"
      ],
      "text/plain": [
       "      Pitch       Yaw      Roll  label\n",
       "0  0.237859  0.081897 -0.660630     23\n",
       "1  0.223750  0.077935 -0.678536     23\n",
       "2  0.225325  0.074186 -0.669362     23\n",
       "3  0.210987  0.072631 -0.669490     23\n",
       "4  0.198619  0.075810 -0.671017     23"
      ]
     },
     "execution_count": 164,
     "metadata": {},
     "output_type": "execute_result"
    }
   ],
   "source": [
    "df = pd.read_csv(\"data/combined/train_data.csv\")\n",
    "df.head()"
   ]
  },
  {
   "cell_type": "code",
   "execution_count": 165,
   "id": "853dbd86",
   "metadata": {},
   "outputs": [
    {
     "data": {
      "text/plain": [
       "(650, 4)"
      ]
     },
     "execution_count": 165,
     "metadata": {},
     "output_type": "execute_result"
    }
   ],
   "source": [
    "df.shape"
   ]
  },
  {
   "cell_type": "code",
   "execution_count": 166,
   "id": "a0433f94",
   "metadata": {},
   "outputs": [
    {
     "data": {
      "text/html": [
       "<div>\n",
       "<style scoped>\n",
       "    .dataframe tbody tr th:only-of-type {\n",
       "        vertical-align: middle;\n",
       "    }\n",
       "\n",
       "    .dataframe tbody tr th {\n",
       "        vertical-align: top;\n",
       "    }\n",
       "\n",
       "    .dataframe thead th {\n",
       "        text-align: right;\n",
       "    }\n",
       "</style>\n",
       "<table border=\"1\" class=\"dataframe\">\n",
       "  <thead>\n",
       "    <tr style=\"text-align: right;\">\n",
       "      <th></th>\n",
       "      <th>Pitch</th>\n",
       "      <th>Yaw</th>\n",
       "      <th>Roll</th>\n",
       "      <th>label</th>\n",
       "    </tr>\n",
       "  </thead>\n",
       "  <tbody>\n",
       "    <tr>\n",
       "      <th>count</th>\n",
       "      <td>650.000000</td>\n",
       "      <td>650.000000</td>\n",
       "      <td>650.000000</td>\n",
       "      <td>650.000000</td>\n",
       "    </tr>\n",
       "    <tr>\n",
       "      <th>mean</th>\n",
       "      <td>0.133887</td>\n",
       "      <td>0.020518</td>\n",
       "      <td>-0.022834</td>\n",
       "      <td>23.524615</td>\n",
       "    </tr>\n",
       "    <tr>\n",
       "      <th>std</th>\n",
       "      <td>0.117075</td>\n",
       "      <td>0.056293</td>\n",
       "      <td>0.690773</td>\n",
       "      <td>0.499778</td>\n",
       "    </tr>\n",
       "    <tr>\n",
       "      <th>min</th>\n",
       "      <td>-0.046063</td>\n",
       "      <td>-0.069023</td>\n",
       "      <td>-1.058127</td>\n",
       "      <td>23.000000</td>\n",
       "    </tr>\n",
       "    <tr>\n",
       "      <th>25%</th>\n",
       "      <td>0.025634</td>\n",
       "      <td>-0.033644</td>\n",
       "      <td>-0.681158</td>\n",
       "      <td>23.000000</td>\n",
       "    </tr>\n",
       "    <tr>\n",
       "      <th>50%</th>\n",
       "      <td>0.125289</td>\n",
       "      <td>-0.003510</td>\n",
       "      <td>0.098277</td>\n",
       "      <td>24.000000</td>\n",
       "    </tr>\n",
       "    <tr>\n",
       "      <th>75%</th>\n",
       "      <td>0.212297</td>\n",
       "      <td>0.085405</td>\n",
       "      <td>0.187760</td>\n",
       "      <td>24.000000</td>\n",
       "    </tr>\n",
       "    <tr>\n",
       "      <th>max</th>\n",
       "      <td>0.340355</td>\n",
       "      <td>0.118256</td>\n",
       "      <td>1.190219</td>\n",
       "      <td>24.000000</td>\n",
       "    </tr>\n",
       "  </tbody>\n",
       "</table>\n",
       "</div>"
      ],
      "text/plain": [
       "            Pitch         Yaw        Roll       label\n",
       "count  650.000000  650.000000  650.000000  650.000000\n",
       "mean     0.133887    0.020518   -0.022834   23.524615\n",
       "std      0.117075    0.056293    0.690773    0.499778\n",
       "min     -0.046063   -0.069023   -1.058127   23.000000\n",
       "25%      0.025634   -0.033644   -0.681158   23.000000\n",
       "50%      0.125289   -0.003510    0.098277   24.000000\n",
       "75%      0.212297    0.085405    0.187760   24.000000\n",
       "max      0.340355    0.118256    1.190219   24.000000"
      ]
     },
     "execution_count": 166,
     "metadata": {},
     "output_type": "execute_result"
    }
   ],
   "source": [
    "df.describe()"
   ]
  },
  {
   "cell_type": "code",
   "execution_count": 167,
   "id": "c0bfc720",
   "metadata": {},
   "outputs": [
    {
     "data": {
      "text/plain": [
       "<Axes: xlabel='label', ylabel='count'>"
      ]
     },
     "execution_count": 167,
     "metadata": {},
     "output_type": "execute_result"
    },
    {
     "data": {
      "image/png": "[encoded data removed]",
      "text/plain": [
       "<Figure size 640x480 with 1 Axes>"
      ]
     },
     "metadata": {},
     "output_type": "display_data"
    }
   ],
   "source": [
    "import seaborn as sns\n",
    "sns.countplot(x=df[\"label\"])"
   ]
  },
  {
   "cell_type": "code",
   "execution_count": 168,
   "id": "6379be78",
   "metadata": {},
   "outputs": [],
   "source": [
    "from sklearn.tree import DecisionTreeClassifier # Import Decision Tree Classifier\n",
    "from sklearn.model_selection import train_test_split # Import train_test_split function\n",
    "from sklearn import metrics #Import scikit-learn metrics module for accuracy calculation"
   ]
  },
  {
   "cell_type": "code",
   "execution_count": 169,
   "id": "fd7b9b09",
   "metadata": {},
   "outputs": [],
   "source": [
    "X = df.drop(columns='label')\n",
    "y = df['label']"
   ]
  },
  {
   "cell_type": "code",
   "execution_count": 170,
   "id": "6dcbf9ec",
   "metadata": {},
   "outputs": [
    {
     "data": {
      "text/html": [
       "<div>\n",
       "<style scoped>\n",
       "    .dataframe tbody tr th:only-of-type {\n",
       "        vertical-align: middle;\n",
       "    }\n",
       "\n",
       "    .dataframe tbody tr th {\n",
       "        vertical-align: top;\n",
       "    }\n",
       "\n",
       "    .dataframe thead th {\n",
       "        text-align: right;\n",
       "    }\n",
       "</style>\n",
       "<table border=\"1\" class=\"dataframe\">\n",
       "  <thead>\n",
       "    <tr style=\"text-align: right;\">\n",
       "      <th></th>\n",
       "      <th>Pitch</th>\n",
       "      <th>Yaw</th>\n",
       "      <th>Roll</th>\n",
       "    </tr>\n",
       "  </thead>\n",
       "  <tbody>\n",
       "    <tr>\n",
       "      <th>0</th>\n",
       "      <td>0.237859</td>\n",
       "      <td>0.081897</td>\n",
       "      <td>-0.660630</td>\n",
       "    </tr>\n",
       "    <tr>\n",
       "      <th>1</th>\n",
       "      <td>0.223750</td>\n",
       "      <td>0.077935</td>\n",
       "      <td>-0.678536</td>\n",
       "    </tr>\n",
       "    <tr>\n",
       "      <th>2</th>\n",
       "      <td>0.225325</td>\n",
       "      <td>0.074186</td>\n",
       "      <td>-0.669362</td>\n",
       "    </tr>\n",
       "    <tr>\n",
       "      <th>3</th>\n",
       "      <td>0.210987</td>\n",
       "      <td>0.072631</td>\n",
       "      <td>-0.669490</td>\n",
       "    </tr>\n",
       "    <tr>\n",
       "      <th>4</th>\n",
       "      <td>0.198619</td>\n",
       "      <td>0.075810</td>\n",
       "      <td>-0.671017</td>\n",
       "    </tr>\n",
       "    <tr>\n",
       "      <th>...</th>\n",
       "      <td>...</td>\n",
       "      <td>...</td>\n",
       "      <td>...</td>\n",
       "    </tr>\n",
       "    <tr>\n",
       "      <th>645</th>\n",
       "      <td>0.207310</td>\n",
       "      <td>-0.055835</td>\n",
       "      <td>0.200101</td>\n",
       "    </tr>\n",
       "    <tr>\n",
       "      <th>646</th>\n",
       "      <td>0.208037</td>\n",
       "      <td>-0.060141</td>\n",
       "      <td>0.202101</td>\n",
       "    </tr>\n",
       "    <tr>\n",
       "      <th>647</th>\n",
       "      <td>0.208293</td>\n",
       "      <td>-0.062580</td>\n",
       "      <td>0.200144</td>\n",
       "    </tr>\n",
       "    <tr>\n",
       "      <th>648</th>\n",
       "      <td>0.206622</td>\n",
       "      <td>-0.064224</td>\n",
       "      <td>0.201605</td>\n",
       "    </tr>\n",
       "    <tr>\n",
       "      <th>649</th>\n",
       "      <td>0.206000</td>\n",
       "      <td>-0.069023</td>\n",
       "      <td>0.199542</td>\n",
       "    </tr>\n",
       "  </tbody>\n",
       "</table>\n",
       "<p>650 rows × 3 columns</p>\n",
       "</div>"
      ],
      "text/plain": [
       "        Pitch       Yaw      Roll\n",
       "0    0.237859  0.081897 -0.660630\n",
       "1    0.223750  0.077935 -0.678536\n",
       "2    0.225325  0.074186 -0.669362\n",
       "3    0.210987  0.072631 -0.669490\n",
       "4    0.198619  0.075810 -0.671017\n",
       "..        ...       ...       ...\n",
       "645  0.207310 -0.055835  0.200101\n",
       "646  0.208037 -0.060141  0.202101\n",
       "647  0.208293 -0.062580  0.200144\n",
       "648  0.206622 -0.064224  0.201605\n",
       "649  0.206000 -0.069023  0.199542\n",
       "\n",
       "[650 rows x 3 columns]"
      ]
     },
     "execution_count": 170,
     "metadata": {},
     "output_type": "execute_result"
    }
   ],
   "source": [
    "X"
   ]
  },
  {
   "cell_type": "code",
   "execution_count": 171,
   "id": "6cbfdca7",
   "metadata": {},
   "outputs": [
    {
     "data": {
      "text/plain": [
       "0      23\n",
       "1      23\n",
       "2      23\n",
       "3      23\n",
       "4      23\n",
       "       ..\n",
       "645    24\n",
       "646    24\n",
       "647    24\n",
       "648    24\n",
       "649    24\n",
       "Name: label, Length: 650, dtype: int64"
      ]
     },
     "execution_count": 171,
     "metadata": {},
     "output_type": "execute_result"
    }
   ],
   "source": [
    "y"
   ]
  },
  {
   "cell_type": "code",
   "execution_count": 172,
   "id": "461b5fc2",
   "metadata": {},
   "outputs": [],
   "source": [
    "X_train, X_test, y_train, y_test = train_test_split(X, y, test_size=0.3, random_state=1)"
   ]
  },
  {
   "cell_type": "code",
   "execution_count": 173,
   "id": "6ea2ccee",
   "metadata": {},
   "outputs": [
    {
     "data": {
      "text/html": [
       "<div>\n",
       "<style scoped>\n",
       "    .dataframe tbody tr th:only-of-type {\n",
       "        vertical-align: middle;\n",
       "    }\n",
       "\n",
       "    .dataframe tbody tr th {\n",
       "        vertical-align: top;\n",
       "    }\n",
       "\n",
       "    .dataframe thead th {\n",
       "        text-align: right;\n",
       "    }\n",
       "</style>\n",
       "<table border=\"1\" class=\"dataframe\">\n",
       "  <thead>\n",
       "    <tr style=\"text-align: right;\">\n",
       "      <th></th>\n",
       "      <th>Pitch</th>\n",
       "      <th>Yaw</th>\n",
       "      <th>Roll</th>\n",
       "    </tr>\n",
       "  </thead>\n",
       "  <tbody>\n",
       "    <tr>\n",
       "      <th>359</th>\n",
       "      <td>0.030553</td>\n",
       "      <td>-0.015135</td>\n",
       "      <td>0.086299</td>\n",
       "    </tr>\n",
       "    <tr>\n",
       "      <th>74</th>\n",
       "      <td>0.136342</td>\n",
       "      <td>0.031489</td>\n",
       "      <td>-0.703224</td>\n",
       "    </tr>\n",
       "    <tr>\n",
       "      <th>445</th>\n",
       "      <td>0.336036</td>\n",
       "      <td>-0.028427</td>\n",
       "      <td>0.110430</td>\n",
       "    </tr>\n",
       "    <tr>\n",
       "      <th>370</th>\n",
       "      <td>0.037818</td>\n",
       "      <td>-0.006158</td>\n",
       "      <td>0.090112</td>\n",
       "    </tr>\n",
       "    <tr>\n",
       "      <th>61</th>\n",
       "      <td>0.141971</td>\n",
       "      <td>0.097049</td>\n",
       "      <td>-0.686131</td>\n",
       "    </tr>\n",
       "    <tr>\n",
       "      <th>...</th>\n",
       "      <td>...</td>\n",
       "      <td>...</td>\n",
       "      <td>...</td>\n",
       "    </tr>\n",
       "    <tr>\n",
       "      <th>144</th>\n",
       "      <td>0.110404</td>\n",
       "      <td>0.093749</td>\n",
       "      <td>-1.033658</td>\n",
       "    </tr>\n",
       "    <tr>\n",
       "      <th>645</th>\n",
       "      <td>0.207310</td>\n",
       "      <td>-0.055835</td>\n",
       "      <td>0.200101</td>\n",
       "    </tr>\n",
       "    <tr>\n",
       "      <th>72</th>\n",
       "      <td>0.136644</td>\n",
       "      <td>0.044947</td>\n",
       "      <td>-0.702305</td>\n",
       "    </tr>\n",
       "    <tr>\n",
       "      <th>235</th>\n",
       "      <td>-0.035297</td>\n",
       "      <td>0.037775</td>\n",
       "      <td>1.185462</td>\n",
       "    </tr>\n",
       "    <tr>\n",
       "      <th>37</th>\n",
       "      <td>0.153493</td>\n",
       "      <td>0.091969</td>\n",
       "      <td>-0.678673</td>\n",
       "    </tr>\n",
       "  </tbody>\n",
       "</table>\n",
       "<p>455 rows × 3 columns</p>\n",
       "</div>"
      ],
      "text/plain": [
       "        Pitch       Yaw      Roll\n",
       "359  0.030553 -0.015135  0.086299\n",
       "74   0.136342  0.031489 -0.703224\n",
       "445  0.336036 -0.028427  0.110430\n",
       "370  0.037818 -0.006158  0.090112\n",
       "61   0.141971  0.097049 -0.686131\n",
       "..        ...       ...       ...\n",
       "144  0.110404  0.093749 -1.033658\n",
       "645  0.207310 -0.055835  0.200101\n",
       "72   0.136644  0.044947 -0.702305\n",
       "235 -0.035297  0.037775  1.185462\n",
       "37   0.153493  0.091969 -0.678673\n",
       "\n",
       "[455 rows x 3 columns]"
      ]
     },
     "execution_count": 173,
     "metadata": {},
     "output_type": "execute_result"
    }
   ],
   "source": [
    "X_train"
   ]
  },
  {
   "cell_type": "code",
   "execution_count": 174,
   "id": "b0f6c1e3",
   "metadata": {},
   "outputs": [
    {
     "data": {
      "text/html": [
       "<div>\n",
       "<style scoped>\n",
       "    .dataframe tbody tr th:only-of-type {\n",
       "        vertical-align: middle;\n",
       "    }\n",
       "\n",
       "    .dataframe tbody tr th {\n",
       "        vertical-align: top;\n",
       "    }\n",
       "\n",
       "    .dataframe thead th {\n",
       "        text-align: right;\n",
       "    }\n",
       "</style>\n",
       "<table border=\"1\" class=\"dataframe\">\n",
       "  <thead>\n",
       "    <tr style=\"text-align: right;\">\n",
       "      <th></th>\n",
       "      <th>Pitch</th>\n",
       "      <th>Yaw</th>\n",
       "      <th>Roll</th>\n",
       "    </tr>\n",
       "  </thead>\n",
       "  <tbody>\n",
       "    <tr>\n",
       "      <th>385</th>\n",
       "      <td>0.050086</td>\n",
       "      <td>-0.009912</td>\n",
       "      <td>0.099863</td>\n",
       "    </tr>\n",
       "    <tr>\n",
       "      <th>242</th>\n",
       "      <td>-0.030605</td>\n",
       "      <td>0.052105</td>\n",
       "      <td>1.185629</td>\n",
       "    </tr>\n",
       "    <tr>\n",
       "      <th>600</th>\n",
       "      <td>0.222109</td>\n",
       "      <td>-0.035262</td>\n",
       "      <td>0.178584</td>\n",
       "    </tr>\n",
       "    <tr>\n",
       "      <th>579</th>\n",
       "      <td>0.212454</td>\n",
       "      <td>-0.045423</td>\n",
       "      <td>0.193320</td>\n",
       "    </tr>\n",
       "    <tr>\n",
       "      <th>475</th>\n",
       "      <td>0.326390</td>\n",
       "      <td>-0.045047</td>\n",
       "      <td>0.109943</td>\n",
       "    </tr>\n",
       "    <tr>\n",
       "      <th>...</th>\n",
       "      <td>...</td>\n",
       "      <td>...</td>\n",
       "      <td>...</td>\n",
       "    </tr>\n",
       "    <tr>\n",
       "      <th>311</th>\n",
       "      <td>0.017105</td>\n",
       "      <td>-0.006078</td>\n",
       "      <td>0.063290</td>\n",
       "    </tr>\n",
       "    <tr>\n",
       "      <th>594</th>\n",
       "      <td>0.216410</td>\n",
       "      <td>-0.037405</td>\n",
       "      <td>0.175685</td>\n",
       "    </tr>\n",
       "    <tr>\n",
       "      <th>187</th>\n",
       "      <td>0.081762</td>\n",
       "      <td>0.102352</td>\n",
       "      <td>-1.012202</td>\n",
       "    </tr>\n",
       "    <tr>\n",
       "      <th>245</th>\n",
       "      <td>-0.029612</td>\n",
       "      <td>0.052740</td>\n",
       "      <td>1.187799</td>\n",
       "    </tr>\n",
       "    <tr>\n",
       "      <th>146</th>\n",
       "      <td>0.109715</td>\n",
       "      <td>0.096388</td>\n",
       "      <td>-1.032723</td>\n",
       "    </tr>\n",
       "  </tbody>\n",
       "</table>\n",
       "<p>195 rows × 3 columns</p>\n",
       "</div>"
      ],
      "text/plain": [
       "        Pitch       Yaw      Roll\n",
       "385  0.050086 -0.009912  0.099863\n",
       "242 -0.030605  0.052105  1.185629\n",
       "600  0.222109 -0.035262  0.178584\n",
       "579  0.212454 -0.045423  0.193320\n",
       "475  0.326390 -0.045047  0.109943\n",
       "..        ...       ...       ...\n",
       "311  0.017105 -0.006078  0.063290\n",
       "594  0.216410 -0.037405  0.175685\n",
       "187  0.081762  0.102352 -1.012202\n",
       "245 -0.029612  0.052740  1.187799\n",
       "146  0.109715  0.096388 -1.032723\n",
       "\n",
       "[195 rows x 3 columns]"
      ]
     },
     "execution_count": 174,
     "metadata": {},
     "output_type": "execute_result"
    }
   ],
   "source": [
    "X_test"
   ]
  },
  {
   "cell_type": "code",
   "execution_count": 200,
   "id": "0027ffd5",
   "metadata": {},
   "outputs": [],
   "source": [
    "model = DecisionTreeClassifier()"
   ]
  },
  {
   "cell_type": "code",
   "execution_count": 201,
   "id": "3b4beacc",
   "metadata": {},
   "outputs": [],
   "source": [
    "model = model.fit(X_train,y_train)"
   ]
  },
  {
   "cell_type": "code",
   "execution_count": 202,
   "id": "a05697e5",
   "metadata": {},
   "outputs": [],
   "source": [
    "y_pred = model.predict(X_test)"
   ]
  },
  {
   "cell_type": "code",
   "execution_count": 203,
   "id": "73b725cc",
   "metadata": {},
   "outputs": [
    {
     "name": "stdout",
     "output_type": "stream",
     "text": [
      "Accuracy: 1.0\n"
     ]
    }
   ],
   "source": [
    "print(\"Accuracy:\",metrics.accuracy_score(y_test, y_pred))"
   ]
  },
  {
   "cell_type": "code",
   "execution_count": 204,
   "id": "82d54b4a",
   "metadata": {},
   "outputs": [],
   "source": [
    "import pickle\n",
    "\n",
    "with open('data/model.pkl','wb') as f:\n",
    "    pickle.dump(model,f)"
   ]
  },
  {
   "cell_type": "code",
   "execution_count": null,
   "id": "ed200385",
   "metadata": {},
   "outputs": [],
   "source": []
  },
  {
   "cell_type": "code",
   "execution_count": 3,
   "id": "e139dadd",
   "metadata": {},
   "outputs": [],
   "source": [
    "import pickle\n",
    "import warnings\n",
    "warnings.filterwarnings(\"ignore\")\n",
    "with open('data/model.pkl', 'rb') as f:\n",
    "    model2 = pickle.load(f)"
   ]
  },
  {
   "cell_type": "code",
   "execution_count": 4,
   "id": "4efeac42",
   "metadata": {},
   "outputs": [
    {
     "data": {
      "text/html": [
       "<style>#sk-container-id-1 {color: black;background-color: white;}#sk-container-id-1 pre{padding: 0;}#sk-container-id-1 div.sk-toggleable {background-color: white;}#sk-container-id-1 label.sk-toggleable__label {cursor: pointer;display: block;width: 100%;margin-bottom: 0;padding: 0.3em;box-sizing: border-box;text-align: center;}#sk-container-id-1 label.sk-toggleable__label-arrow:before {content: \"▸\";float: left;margin-right: 0.25em;color: #696969;}#sk-container-id-1 label.sk-toggleable__label-arrow:hover:before {color: black;}#sk-container-id-1 div.sk-estimator:hover label.sk-toggleable__label-arrow:before {color: black;}#sk-container-id-1 div.sk-toggleable__content {max-height: 0;max-width: 0;overflow: hidden;text-align: left;background-color: #f0f8ff;}#sk-container-id-1 div.sk-toggleable__content pre {margin: 0.2em;color: black;border-radius: 0.25em;background-color: #f0f8ff;}#sk-container-id-1 input.sk-toggleable__control:checked~div.sk-toggleable__content {max-height: 200px;max-width: 100%;overflow: auto;}#sk-container-id-1 input.sk-toggleable__control:checked~label.sk-toggleable__label-arrow:before {content: \"▾\";}#sk-container-id-1 div.sk-estimator input.sk-toggleable__control:checked~label.sk-toggleable__label {background-color: #d4ebff;}#sk-container-id-1 div.sk-label input.sk-toggleable__control:checked~label.sk-toggleable__label {background-color: #d4ebff;}#sk-container-id-1 input.sk-hidden--visually {border: 0;clip: rect(1px 1px 1px 1px);clip: rect(1px, 1px, 1px, 1px);height: 1px;margin: -1px;overflow: hidden;padding: 0;position: absolute;width: 1px;}#sk-container-id-1 div.sk-estimator {font-family: monospace;background-color: #f0f8ff;border: 1px dotted black;border-radius: 0.25em;box-sizing: border-box;margin-bottom: 0.5em;}#sk-container-id-1 div.sk-estimator:hover {background-color: #d4ebff;}#sk-container-id-1 div.sk-parallel-item::after {content: \"\";width: 100%;border-bottom: 1px solid gray;flex-grow: 1;}#sk-container-id-1 div.sk-label:hover label.sk-toggleable__label {background-color: #d4ebff;}#sk-container-id-1 div.sk-serial::before {content: \"\";position: absolute;border-left: 1px solid gray;box-sizing: border-box;top: 0;bottom: 0;left: 50%;z-index: 0;}#sk-container-id-1 div.sk-serial {display: flex;flex-direction: column;align-items: center;background-color: white;padding-right: 0.2em;padding-left: 0.2em;position: relative;}#sk-container-id-1 div.sk-item {position: relative;z-index: 1;}#sk-container-id-1 div.sk-parallel {display: flex;align-items: stretch;justify-content: center;background-color: white;position: relative;}#sk-container-id-1 div.sk-item::before, #sk-container-id-1 div.sk-parallel-item::before {content: \"\";position: absolute;border-left: 1px solid gray;box-sizing: border-box;top: 0;bottom: 0;left: 50%;z-index: -1;}#sk-container-id-1 div.sk-parallel-item {display: flex;flex-direction: column;z-index: 1;position: relative;background-color: white;}#sk-container-id-1 div.sk-parallel-item:first-child::after {align-self: flex-end;width: 50%;}#sk-container-id-1 div.sk-parallel-item:last-child::after {align-self: flex-start;width: 50%;}#sk-container-id-1 div.sk-parallel-item:only-child::after {width: 0;}#sk-container-id-1 div.sk-dashed-wrapped {border: 1px dashed gray;margin: 0 0.4em 0.5em 0.4em;box-sizing: border-box;padding-bottom: 0.4em;background-color: white;}#sk-container-id-1 div.sk-label label {font-family: monospace;font-weight: bold;display: inline-block;line-height: 1.2em;}#sk-container-id-1 div.sk-label-container {text-align: center;}#sk-container-id-1 div.sk-container {/* jupyter's `normalize.less` sets `[hidden] { display: none; }` but bootstrap.min.css set `[hidden] { display: none !important; }` so we also need the `!important` here to be able to override the default hidden behavior on the sphinx rendered scikit-learn.org. See: https://github.com/scikit-learn/scikit-learn/issues/21755 */display: inline-block !important;position: relative;}#sk-container-id-1 div.sk-text-repr-fallback {display: none;}</style><div id=\"sk-container-id-1\" class=\"sk-top-container\"><div class=\"sk-text-repr-fallback\"><pre>DecisionTreeClassifier()</pre><b>In a Jupyter environment, please rerun this cell to show the HTML representation or trust the notebook. <br />On GitHub, the HTML representation is unable to render, please try loading this page with nbviewer.org.</b></div><div class=\"sk-container\" hidden><div class=\"sk-item\"><div class=\"sk-estimator sk-toggleable\"><input class=\"sk-toggleable__control sk-hidden--visually\" id=\"sk-estimator-id-1\" type=\"checkbox\" checked><label for=\"sk-estimator-id-1\" class=\"sk-toggleable__label sk-toggleable__label-arrow\">DecisionTreeClassifier</label><div class=\"sk-toggleable__content\"><pre>DecisionTreeClassifier()</pre></div></div></div></div></div>"
      ],
      "text/plain": [
       "DecisionTreeClassifier()"
      ]
     },
     "execution_count": 4,
     "metadata": {},
     "output_type": "execute_result"
    }
   ],
   "source": [
    "model2"
   ]
  },
  {
   "cell_type": "code",
   "execution_count": 207,
   "id": "c15c8973",
   "metadata": {},
   "outputs": [],
   "source": [
    "y_pred = model2.predict(X_test)"
   ]
  },
  {
   "cell_type": "code",
   "execution_count": 208,
   "id": "780fe7fc",
   "metadata": {},
   "outputs": [
    {
     "name": "stdout",
     "output_type": "stream",
     "text": [
      "Accuracy: 1.0\n"
     ]
    }
   ],
   "source": [
    "print(\"Accuracy:\",metrics.accuracy_score(y_test, y_pred))"
   ]
  },
  {
   "cell_type": "code",
   "execution_count": 32,
   "id": "1bc828d5",
   "metadata": {},
   "outputs": [
    {
     "data": {
      "text/html": [
       "<div>\n",
       "<style scoped>\n",
       "    .dataframe tbody tr th:only-of-type {\n",
       "        vertical-align: middle;\n",
       "    }\n",
       "\n",
       "    .dataframe tbody tr th {\n",
       "        vertical-align: top;\n",
       "    }\n",
       "\n",
       "    .dataframe thead th {\n",
       "        text-align: right;\n",
       "    }\n",
       "</style>\n",
       "<table border=\"1\" class=\"dataframe\">\n",
       "  <thead>\n",
       "    <tr style=\"text-align: right;\">\n",
       "      <th></th>\n",
       "      <th>Pitch</th>\n",
       "      <th>Yaw</th>\n",
       "      <th>Roll</th>\n",
       "    </tr>\n",
       "  </thead>\n",
       "  <tbody>\n",
       "    <tr>\n",
       "      <th>0</th>\n",
       "      <td>0.127534</td>\n",
       "      <td>0.083303</td>\n",
       "      <td>-1.156510</td>\n",
       "    </tr>\n",
       "    <tr>\n",
       "      <th>1</th>\n",
       "      <td>0.128078</td>\n",
       "      <td>0.074554</td>\n",
       "      <td>-1.151686</td>\n",
       "    </tr>\n",
       "    <tr>\n",
       "      <th>2</th>\n",
       "      <td>0.127928</td>\n",
       "      <td>0.073907</td>\n",
       "      <td>-1.149710</td>\n",
       "    </tr>\n",
       "    <tr>\n",
       "      <th>3</th>\n",
       "      <td>0.126435</td>\n",
       "      <td>0.071010</td>\n",
       "      <td>-1.148775</td>\n",
       "    </tr>\n",
       "    <tr>\n",
       "      <th>4</th>\n",
       "      <td>0.123167</td>\n",
       "      <td>0.067252</td>\n",
       "      <td>-1.150713</td>\n",
       "    </tr>\n",
       "  </tbody>\n",
       "</table>\n",
       "</div>"
      ],
      "text/plain": [
       "      Pitch       Yaw      Roll\n",
       "0  0.127534  0.083303 -1.156510\n",
       "1  0.128078  0.074554 -1.151686\n",
       "2  0.127928  0.073907 -1.149710\n",
       "3  0.126435  0.071010 -1.148775\n",
       "4  0.123167  0.067252 -1.150713"
      ]
     },
     "execution_count": 32,
     "metadata": {},
     "output_type": "execute_result"
    }
   ],
   "source": [
    "testdf= pd.read_csv(\"data/test_data/2023-07-21_15-40-08_asvin_w1.csv\")\n",
    "testdf.head()"
   ]
  },
  {
   "cell_type": "code",
   "execution_count": 33,
   "id": "5c665685",
   "metadata": {},
   "outputs": [
    {
     "data": {
      "image/png": "[encoded data removed]",
      "text/plain": [
       "<Figure size 640x480 with 1 Axes>"
      ]
     },
     "metadata": {},
     "output_type": "display_data"
    }
   ],
   "source": [
    "testdf.plot()\n",
    "plt.show()"
   ]
  },
  {
   "cell_type": "code",
   "execution_count": 34,
   "id": "0b00ba1c",
   "metadata": {},
   "outputs": [
    {
     "data": {
      "text/plain": [
       "array([23, 23, 23, 23, 23, 23, 23, 23, 23, 23, 23, 23, 23, 23, 23, 23, 23,\n",
       "       23, 23, 23, 23, 23, 23, 23, 23, 23, 23, 23, 23, 23, 23, 23, 23, 23,\n",
       "       23, 23, 23, 23, 23, 23, 23, 23, 23, 23, 23, 23, 23, 23, 23, 23, 23,\n",
       "       23, 23, 23, 23, 23, 23, 23, 23, 23, 23, 23, 23, 23, 23, 23, 23, 23,\n",
       "       23, 23, 23, 23, 23, 23, 23, 23, 23, 23, 23, 23, 23, 23, 23, 23, 23,\n",
       "       23, 23, 23, 23, 23, 23, 23, 23, 23, 23, 23, 23, 23, 23, 23, 23, 23,\n",
       "       23, 23, 23, 23, 23, 23, 23, 23, 23, 23, 23, 23, 23, 23, 23],\n",
       "      dtype=int64)"
      ]
     },
     "execution_count": 34,
     "metadata": {},
     "output_type": "execute_result"
    }
   ],
   "source": [
    "y_pred = model2.predict(testdf)\n",
    "y_pred"
   ]
  },
  {
   "cell_type": "code",
   "execution_count": null,
   "id": "59eea3da",
   "metadata": {},
   "outputs": [],
   "source": []
  },
  {
   "cell_type": "markdown",
   "id": "efdde039",
   "metadata": {},
   "source": [
    "# Convert to CoreML"
   ]
  },
  {
   "cell_type": "code",
   "execution_count": 198,
   "id": "0ec2f6d2",
   "metadata": {},
   "outputs": [
    {
     "name": "stdout",
     "output_type": "stream",
     "text": [
      "Collecting scikit-learn==1.1.1\n",
      "  Downloading scikit_learn-1.1.1-cp310-cp310-win_amd64.whl (7.3 MB)\n",
      "     ---------------------------------------- 7.3/7.3 MB 13.0 MB/s eta 0:00:00\n",
      "Requirement already satisfied: threadpoolctl>=2.0.0 in c:\\users\\ranak\\anaconda3\\lib\\site-packages (from scikit-learn==1.1.1) (2.2.0)\n",
      "Requirement already satisfied: scipy>=1.3.2 in c:\\users\\ranak\\anaconda3\\lib\\site-packages (from scikit-learn==1.1.1) (1.10.0)\n",
      "Requirement already satisfied: joblib>=1.0.0 in c:\\users\\ranak\\anaconda3\\lib\\site-packages (from scikit-learn==1.1.1) (1.1.1)\n",
      "Requirement already satisfied: numpy>=1.17.3 in c:\\users\\ranak\\anaconda3\\lib\\site-packages (from scikit-learn==1.1.1) (1.23.5)\n",
      "Installing collected packages: scikit-learn\n",
      "  Attempting uninstall: scikit-learn\n",
      "    Found existing installation: scikit-learn 1.2.1\n",
      "    Uninstalling scikit-learn-1.2.1:\n",
      "      Successfully uninstalled scikit-learn-1.2.1\n"
     ]
    },
    {
     "name": "stderr",
     "output_type": "stream",
     "text": [
      "ERROR: Could not install packages due to an OSError: [WinError 5] Access is denied: 'C:\\\\Users\\\\ranak\\\\anaconda3\\\\Lib\\\\site-packages\\\\~klearn\\\\decomposition\\\\_cdnmf_fast.cp310-win_amd64.pyd'\n",
      "Consider using the `--user` option or check the permissions.\n",
      "\n"
     ]
    }
   ],
   "source": [
    "!pip install scikit-learn==1.1.1"
   ]
  },
  {
   "cell_type": "code",
   "execution_count": 151,
   "id": "0db54a5d",
   "metadata": {
    "collapsed": true
   },
   "outputs": [
    {
     "name": "stdout",
     "output_type": "stream",
     "text": [
      "Collecting coremltools\n",
      "  Downloading coremltools-6.3.0.tar.gz (941 kB)\n",
      "     ------------------------------------- 941.9/941.9 kB 11.9 MB/s eta 0:00:00\n",
      "  Preparing metadata (setup.py): started\n",
      "  Preparing metadata (setup.py): finished with status 'done'\n",
      "Requirement already satisfied: numpy>=1.14.5 in c:\\users\\ranak\\anaconda3\\lib\\site-packages (from coremltools) (1.23.5)\n",
      "Collecting protobuf<=4.0.0,>=3.1.0\n",
      "  Downloading protobuf-3.20.3-cp310-cp310-win_amd64.whl (904 kB)\n",
      "     ------------------------------------- 904.0/904.0 kB 28.8 MB/s eta 0:00:00\n",
      "Requirement already satisfied: sympy in c:\\users\\ranak\\anaconda3\\lib\\site-packages (from coremltools) (1.11.1)\n",
      "Requirement already satisfied: tqdm in c:\\users\\ranak\\anaconda3\\lib\\site-packages (from coremltools) (4.64.1)\n",
      "Requirement already satisfied: packaging in c:\\users\\ranak\\anaconda3\\lib\\site-packages (from coremltools) (22.0)\n",
      "Requirement already satisfied: mpmath>=0.19 in c:\\users\\ranak\\anaconda3\\lib\\site-packages (from sympy->coremltools) (1.2.1)\n",
      "Requirement already satisfied: colorama in c:\\users\\ranak\\anaconda3\\lib\\site-packages (from tqdm->coremltools) (0.4.6)\n",
      "Building wheels for collected packages: coremltools\n",
      "  Building wheel for coremltools (setup.py): started\n",
      "  Building wheel for coremltools (setup.py): finished with status 'done'\n",
      "  Created wheel for coremltools: filename=coremltools-6.3.0-py3-none-any.whl size=1220331 sha256=0eafd3464818d618f12ce6d91cecd78afecdea68e149c0068d0e3bb8f8240877\n",
      "  Stored in directory: c:\\users\\ranak\\appdata\\local\\pip\\cache\\wheels\\c1\\40\\22\\1991dab4e30fbcc9ded6a763287eaeb49749fd5ee9b6f1874d\n",
      "Successfully built coremltools\n",
      "Installing collected packages: protobuf, coremltools\n",
      "Successfully installed coremltools-6.3.0 protobuf-3.20.3\n"
     ]
    }
   ],
   "source": [
    "!pip install coremltools"
   ]
  },
  {
   "cell_type": "code",
   "execution_count": null,
   "id": "f01f15de",
   "metadata": {
    "scrolled": true
   },
   "outputs": [],
   "source": [
    "import coremltools\n",
    "coreml_model = coremltools.converters.sklearn.convert(model)\n",
    "coreml_model.save('data/watch.mlmodel')"
   ]
  },
  {
   "cell_type": "code",
   "execution_count": null,
   "id": "394542f0",
   "metadata": {},
   "outputs": [],
   "source": []
  },
  {
   "cell_type": "code",
   "execution_count": null,
   "id": "a44b1ac2",
   "metadata": {},
   "outputs": [],
   "source": []
  },
  {
   "cell_type": "code",
   "execution_count": null,
   "id": "4b7bad4e",
   "metadata": {},
   "outputs": [],
   "source": []
  },
  {
   "cell_type": "code",
   "execution_count": 46,
   "id": "0eb6cb6a",
   "metadata": {},
   "outputs": [
    {
     "data": {
      "image/png": "[encoded data removed]",
      "text/plain": [
       "<Figure size 640x480 with 1 Axes>"
      ]
     },
     "metadata": {},
     "output_type": "display_data"
    }
   ],
   "source": [
    "import pickle\n",
    "model = pickle.load(open('data/svc_model.pkl', 'rb'))\n",
    "data = pd.read_csv(\"data/test_data/YFA0023.csv\")\n",
    "data.plot()\n",
    "plt.show()"
   ]
  },
  {
   "cell_type": "code",
   "execution_count": 47,
   "id": "313de5a8",
   "metadata": {},
   "outputs": [
    {
     "data": {
      "text/plain": [
       "array([23, 23, 23, 23, 23, 23, 23, 23, 23, 23, 23, 23, 23, 23, 23, 23, 23,\n",
       "       23, 23, 23, 23, 23, 23, 23, 23, 23, 23, 23, 23, 23, 23, 23, 23, 23,\n",
       "       23, 23, 23, 23, 23, 23, 23, 23, 23, 23, 23, 23, 23, 23, 23, 23, 23,\n",
       "       23, 23, 23, 23, 23, 23, 23, 23, 23], dtype=int64)"
      ]
     },
     "execution_count": 47,
     "metadata": {},
     "output_type": "execute_result"
    }
   ],
   "source": [
    "model.predict(data[10:70])"
   ]
  },
  {
   "cell_type": "code",
   "execution_count": null,
   "id": "8e97d067",
   "metadata": {},
   "outputs": [],
   "source": []
  }
 ],
 "metadata": {
  "kernelspec": {
   "display_name": "Python 3 (ipykernel)",
   "language": "python",
   "name": "python3"
  },
  "language_info": {
   "codemirror_mode": {
    "name": "ipython",
    "version": 3
   },
   "file_extension": ".py",
   "mimetype": "text/x-python",
   "name": "python",
   "nbconvert_exporter": "python",
   "pygments_lexer": "ipython3",
   "version": "3.10.9"
  }
 },
 "nbformat": 4,
 "nbformat_minor": 5
}
