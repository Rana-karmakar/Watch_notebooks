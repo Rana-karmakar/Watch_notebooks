{
 "cells": [
  {
   "cell_type": "code",
   "execution_count": 30,
   "id": "45a5ede8",
   "metadata": {},
   "outputs": [],
   "source": [
    "import pandas as pd \n",
    "import numpy as np\n",
    "import matplotlib.pyplot as plt\n",
    "import seaborn as sns\n",
    "from sklearn.linear_model import LogisticRegression\n",
    "from sklearn.tree import DecisionTreeClassifier\n",
    "from sklearn.neighbors import KNeighborsClassifier\n",
    "from sklearn.naive_bayes import GaussianNB\n",
    "from sklearn.ensemble import RandomForestClassifier\n",
    "from xgboost import XGBClassifier\n",
    "from sklearn.discriminant_analysis import LinearDiscriminantAnalysis\n",
    "from sklearn.svm import SVC\n",
    "from sklearn.ensemble import RandomForestClassifier\n",
    "from sklearn.ensemble import AdaBoostClassifier\n",
    "from sklearn.metrics import classification_report, confusion_matrix\n",
    "from sklearn.metrics import accuracy_score\n",
    "from sklearn import metrics\n",
    "from sklearn.metrics import r2_score\n",
    "from pandas.plotting import scatter_matrix\n",
    "import warnings\n",
    "warnings.filterwarnings(\"ignore\")"
   ]
  },
  {
   "cell_type": "code",
   "execution_count": 1,
   "id": "ff78216b",
   "metadata": {},
   "outputs": [],
   "source": []
  },
  {
   "cell_type": "markdown",
   "id": "36acca37",
   "metadata": {},
   "source": [
    "## Load Warrior 1 Data"
   ]
  },
  {
   "cell_type": "code",
   "execution_count": 2,
   "id": "3a3385b1",
   "metadata": {},
   "outputs": [
    {
     "data": {
      "text/html": [
       "<div>\n",
       "<style scoped>\n",
       "    .dataframe tbody tr th:only-of-type {\n",
       "        vertical-align: middle;\n",
       "    }\n",
       "\n",
       "    .dataframe tbody tr th {\n",
       "        vertical-align: top;\n",
       "    }\n",
       "\n",
       "    .dataframe thead th {\n",
       "        text-align: right;\n",
       "    }\n",
       "</style>\n",
       "<table border=\"1\" class=\"dataframe\">\n",
       "  <thead>\n",
       "    <tr style=\"text-align: right;\">\n",
       "      <th></th>\n",
       "      <th>Pitch</th>\n",
       "      <th>Yaw</th>\n",
       "      <th>Roll</th>\n",
       "    </tr>\n",
       "  </thead>\n",
       "  <tbody>\n",
       "    <tr>\n",
       "      <th>0</th>\n",
       "      <td>0.154916</td>\n",
       "      <td>0.090692</td>\n",
       "      <td>-1.058127</td>\n",
       "    </tr>\n",
       "    <tr>\n",
       "      <th>1</th>\n",
       "      <td>0.146494</td>\n",
       "      <td>0.090977</td>\n",
       "      <td>-1.054079</td>\n",
       "    </tr>\n",
       "    <tr>\n",
       "      <th>2</th>\n",
       "      <td>0.151879</td>\n",
       "      <td>0.086945</td>\n",
       "      <td>-1.046679</td>\n",
       "    </tr>\n",
       "    <tr>\n",
       "      <th>3</th>\n",
       "      <td>0.148956</td>\n",
       "      <td>0.086839</td>\n",
       "      <td>-1.042859</td>\n",
       "    </tr>\n",
       "    <tr>\n",
       "      <th>4</th>\n",
       "      <td>0.145258</td>\n",
       "      <td>0.090223</td>\n",
       "      <td>-1.040074</td>\n",
       "    </tr>\n",
       "  </tbody>\n",
       "</table>\n",
       "</div>"
      ],
      "text/plain": [
       "      Pitch       Yaw      Roll\n",
       "0  0.154916  0.090692 -1.058127\n",
       "1  0.146494  0.090977 -1.054079\n",
       "2  0.151879  0.086945 -1.046679\n",
       "3  0.148956  0.086839 -1.042859\n",
       "4  0.145258  0.090223 -1.040074"
      ]
     },
     "execution_count": 2,
     "metadata": {},
     "output_type": "execute_result"
    }
   ],
   "source": [
    "w1=pd.read_csv(\"C:/Users/ranak/OneDrive/Desktop/my_desk/watch_notebooks/data/w1/w1_2023-07-21_11-52-37_rana.csv\")\n",
    "w1.head()"
   ]
  },
  {
   "cell_type": "code",
   "execution_count": 3,
   "id": "70dab02c",
   "metadata": {
    "scrolled": false
   },
   "outputs": [
    {
     "data": {
      "text/plain": [
       "(110, 3)"
      ]
     },
     "execution_count": 3,
     "metadata": {},
     "output_type": "execute_result"
    }
   ],
   "source": [
    "w1.shape"
   ]
  },
  {
   "cell_type": "code",
   "execution_count": 4,
   "id": "7ada8594",
   "metadata": {},
   "outputs": [
    {
     "data": {
      "text/html": [
       "<div>\n",
       "<style scoped>\n",
       "    .dataframe tbody tr th:only-of-type {\n",
       "        vertical-align: middle;\n",
       "    }\n",
       "\n",
       "    .dataframe tbody tr th {\n",
       "        vertical-align: top;\n",
       "    }\n",
       "\n",
       "    .dataframe thead th {\n",
       "        text-align: right;\n",
       "    }\n",
       "</style>\n",
       "<table border=\"1\" class=\"dataframe\">\n",
       "  <thead>\n",
       "    <tr style=\"text-align: right;\">\n",
       "      <th></th>\n",
       "      <th>Pitch</th>\n",
       "      <th>Yaw</th>\n",
       "      <th>Roll</th>\n",
       "      <th>label</th>\n",
       "    </tr>\n",
       "  </thead>\n",
       "  <tbody>\n",
       "    <tr>\n",
       "      <th>0</th>\n",
       "      <td>0.154916</td>\n",
       "      <td>0.090692</td>\n",
       "      <td>-1.058127</td>\n",
       "      <td>YFA0023</td>\n",
       "    </tr>\n",
       "    <tr>\n",
       "      <th>1</th>\n",
       "      <td>0.146494</td>\n",
       "      <td>0.090977</td>\n",
       "      <td>-1.054079</td>\n",
       "      <td>YFA0023</td>\n",
       "    </tr>\n",
       "    <tr>\n",
       "      <th>2</th>\n",
       "      <td>0.151879</td>\n",
       "      <td>0.086945</td>\n",
       "      <td>-1.046679</td>\n",
       "      <td>YFA0023</td>\n",
       "    </tr>\n",
       "    <tr>\n",
       "      <th>3</th>\n",
       "      <td>0.148956</td>\n",
       "      <td>0.086839</td>\n",
       "      <td>-1.042859</td>\n",
       "      <td>YFA0023</td>\n",
       "    </tr>\n",
       "    <tr>\n",
       "      <th>4</th>\n",
       "      <td>0.145258</td>\n",
       "      <td>0.090223</td>\n",
       "      <td>-1.040074</td>\n",
       "      <td>YFA0023</td>\n",
       "    </tr>\n",
       "  </tbody>\n",
       "</table>\n",
       "</div>"
      ],
      "text/plain": [
       "      Pitch       Yaw      Roll    label\n",
       "0  0.154916  0.090692 -1.058127  YFA0023\n",
       "1  0.146494  0.090977 -1.054079  YFA0023\n",
       "2  0.151879  0.086945 -1.046679  YFA0023\n",
       "3  0.148956  0.086839 -1.042859  YFA0023\n",
       "4  0.145258  0.090223 -1.040074  YFA0023"
      ]
     },
     "execution_count": 4,
     "metadata": {},
     "output_type": "execute_result"
    }
   ],
   "source": [
    "# Add label\n",
    "w1['label'] = 'YFA0023'\n",
    "w1.head()"
   ]
  },
  {
   "cell_type": "code",
   "execution_count": null,
   "id": "b0c525b1",
   "metadata": {},
   "outputs": [],
   "source": []
  },
  {
   "cell_type": "markdown",
   "id": "f1ab21f7",
   "metadata": {},
   "source": [
    "## Load Warrior 2 Data"
   ]
  },
  {
   "cell_type": "code",
   "execution_count": 5,
   "id": "aeb8a24f",
   "metadata": {},
   "outputs": [
    {
     "data": {
      "text/html": [
       "<div>\n",
       "<style scoped>\n",
       "    .dataframe tbody tr th:only-of-type {\n",
       "        vertical-align: middle;\n",
       "    }\n",
       "\n",
       "    .dataframe tbody tr th {\n",
       "        vertical-align: top;\n",
       "    }\n",
       "\n",
       "    .dataframe thead th {\n",
       "        text-align: right;\n",
       "    }\n",
       "</style>\n",
       "<table border=\"1\" class=\"dataframe\">\n",
       "  <thead>\n",
       "    <tr style=\"text-align: right;\">\n",
       "      <th></th>\n",
       "      <th>Pitch</th>\n",
       "      <th>Yaw</th>\n",
       "      <th>Roll</th>\n",
       "    </tr>\n",
       "  </thead>\n",
       "  <tbody>\n",
       "    <tr>\n",
       "      <th>0</th>\n",
       "      <td>0.336046</td>\n",
       "      <td>-0.018657</td>\n",
       "      <td>0.109886</td>\n",
       "    </tr>\n",
       "    <tr>\n",
       "      <th>1</th>\n",
       "      <td>0.335833</td>\n",
       "      <td>-0.019417</td>\n",
       "      <td>0.110264</td>\n",
       "    </tr>\n",
       "    <tr>\n",
       "      <th>2</th>\n",
       "      <td>0.331324</td>\n",
       "      <td>-0.019412</td>\n",
       "      <td>0.109859</td>\n",
       "    </tr>\n",
       "    <tr>\n",
       "      <th>3</th>\n",
       "      <td>0.335338</td>\n",
       "      <td>-0.022365</td>\n",
       "      <td>0.113691</td>\n",
       "    </tr>\n",
       "    <tr>\n",
       "      <th>4</th>\n",
       "      <td>0.335210</td>\n",
       "      <td>-0.022740</td>\n",
       "      <td>0.112079</td>\n",
       "    </tr>\n",
       "  </tbody>\n",
       "</table>\n",
       "</div>"
      ],
      "text/plain": [
       "      Pitch       Yaw      Roll\n",
       "0  0.336046 -0.018657  0.109886\n",
       "1  0.335833 -0.019417  0.110264\n",
       "2  0.331324 -0.019412  0.109859\n",
       "3  0.335338 -0.022365  0.113691\n",
       "4  0.335210 -0.022740  0.112079"
      ]
     },
     "execution_count": 5,
     "metadata": {},
     "output_type": "execute_result"
    }
   ],
   "source": [
    "w2=pd.read_csv(\"C:/Users/ranak/OneDrive/Desktop/my_desk/watch_notebooks/data/w2/w2_2023-07-21_11-52-37_rana.csv\")\n",
    "w2.head()"
   ]
  },
  {
   "cell_type": "code",
   "execution_count": 6,
   "id": "d086dc52",
   "metadata": {},
   "outputs": [
    {
     "data": {
      "text/plain": [
       "(105, 3)"
      ]
     },
     "execution_count": 6,
     "metadata": {},
     "output_type": "execute_result"
    }
   ],
   "source": [
    "w2.shape"
   ]
  },
  {
   "cell_type": "code",
   "execution_count": 7,
   "id": "b87b41a2",
   "metadata": {},
   "outputs": [
    {
     "data": {
      "text/html": [
       "<div>\n",
       "<style scoped>\n",
       "    .dataframe tbody tr th:only-of-type {\n",
       "        vertical-align: middle;\n",
       "    }\n",
       "\n",
       "    .dataframe tbody tr th {\n",
       "        vertical-align: top;\n",
       "    }\n",
       "\n",
       "    .dataframe thead th {\n",
       "        text-align: right;\n",
       "    }\n",
       "</style>\n",
       "<table border=\"1\" class=\"dataframe\">\n",
       "  <thead>\n",
       "    <tr style=\"text-align: right;\">\n",
       "      <th></th>\n",
       "      <th>Pitch</th>\n",
       "      <th>Yaw</th>\n",
       "      <th>Roll</th>\n",
       "      <th>label</th>\n",
       "    </tr>\n",
       "  </thead>\n",
       "  <tbody>\n",
       "    <tr>\n",
       "      <th>0</th>\n",
       "      <td>0.336046</td>\n",
       "      <td>-0.018657</td>\n",
       "      <td>0.109886</td>\n",
       "      <td>YFA0024</td>\n",
       "    </tr>\n",
       "    <tr>\n",
       "      <th>1</th>\n",
       "      <td>0.335833</td>\n",
       "      <td>-0.019417</td>\n",
       "      <td>0.110264</td>\n",
       "      <td>YFA0024</td>\n",
       "    </tr>\n",
       "    <tr>\n",
       "      <th>2</th>\n",
       "      <td>0.331324</td>\n",
       "      <td>-0.019412</td>\n",
       "      <td>0.109859</td>\n",
       "      <td>YFA0024</td>\n",
       "    </tr>\n",
       "    <tr>\n",
       "      <th>3</th>\n",
       "      <td>0.335338</td>\n",
       "      <td>-0.022365</td>\n",
       "      <td>0.113691</td>\n",
       "      <td>YFA0024</td>\n",
       "    </tr>\n",
       "    <tr>\n",
       "      <th>4</th>\n",
       "      <td>0.335210</td>\n",
       "      <td>-0.022740</td>\n",
       "      <td>0.112079</td>\n",
       "      <td>YFA0024</td>\n",
       "    </tr>\n",
       "  </tbody>\n",
       "</table>\n",
       "</div>"
      ],
      "text/plain": [
       "      Pitch       Yaw      Roll    label\n",
       "0  0.336046 -0.018657  0.109886  YFA0024\n",
       "1  0.335833 -0.019417  0.110264  YFA0024\n",
       "2  0.331324 -0.019412  0.109859  YFA0024\n",
       "3  0.335338 -0.022365  0.113691  YFA0024\n",
       "4  0.335210 -0.022740  0.112079  YFA0024"
      ]
     },
     "execution_count": 7,
     "metadata": {},
     "output_type": "execute_result"
    }
   ],
   "source": [
    "# add label\n",
    "w2['label'] = 'YFA0024'\n",
    "w2.head()"
   ]
  },
  {
   "cell_type": "code",
   "execution_count": null,
   "id": "84552b28",
   "metadata": {},
   "outputs": [],
   "source": []
  },
  {
   "cell_type": "markdown",
   "id": "339d820c",
   "metadata": {},
   "source": [
    "## Concat both Dataset"
   ]
  },
  {
   "cell_type": "code",
   "execution_count": 8,
   "id": "3589bab0",
   "metadata": {},
   "outputs": [
    {
     "data": {
      "text/html": [
       "<div>\n",
       "<style scoped>\n",
       "    .dataframe tbody tr th:only-of-type {\n",
       "        vertical-align: middle;\n",
       "    }\n",
       "\n",
       "    .dataframe tbody tr th {\n",
       "        vertical-align: top;\n",
       "    }\n",
       "\n",
       "    .dataframe thead th {\n",
       "        text-align: right;\n",
       "    }\n",
       "</style>\n",
       "<table border=\"1\" class=\"dataframe\">\n",
       "  <thead>\n",
       "    <tr style=\"text-align: right;\">\n",
       "      <th></th>\n",
       "      <th>Pitch</th>\n",
       "      <th>Yaw</th>\n",
       "      <th>Roll</th>\n",
       "      <th>label</th>\n",
       "    </tr>\n",
       "  </thead>\n",
       "  <tbody>\n",
       "    <tr>\n",
       "      <th>0</th>\n",
       "      <td>0.154916</td>\n",
       "      <td>0.090692</td>\n",
       "      <td>-1.058127</td>\n",
       "      <td>YFA0023</td>\n",
       "    </tr>\n",
       "    <tr>\n",
       "      <th>1</th>\n",
       "      <td>0.146494</td>\n",
       "      <td>0.090977</td>\n",
       "      <td>-1.054079</td>\n",
       "      <td>YFA0023</td>\n",
       "    </tr>\n",
       "    <tr>\n",
       "      <th>2</th>\n",
       "      <td>0.151879</td>\n",
       "      <td>0.086945</td>\n",
       "      <td>-1.046679</td>\n",
       "      <td>YFA0023</td>\n",
       "    </tr>\n",
       "    <tr>\n",
       "      <th>3</th>\n",
       "      <td>0.148956</td>\n",
       "      <td>0.086839</td>\n",
       "      <td>-1.042859</td>\n",
       "      <td>YFA0023</td>\n",
       "    </tr>\n",
       "    <tr>\n",
       "      <th>4</th>\n",
       "      <td>0.145258</td>\n",
       "      <td>0.090223</td>\n",
       "      <td>-1.040074</td>\n",
       "      <td>YFA0023</td>\n",
       "    </tr>\n",
       "  </tbody>\n",
       "</table>\n",
       "</div>"
      ],
      "text/plain": [
       "      Pitch       Yaw      Roll    label\n",
       "0  0.154916  0.090692 -1.058127  YFA0023\n",
       "1  0.146494  0.090977 -1.054079  YFA0023\n",
       "2  0.151879  0.086945 -1.046679  YFA0023\n",
       "3  0.148956  0.086839 -1.042859  YFA0023\n",
       "4  0.145258  0.090223 -1.040074  YFA0023"
      ]
     },
     "execution_count": 8,
     "metadata": {},
     "output_type": "execute_result"
    }
   ],
   "source": [
    "df = pd.concat([w1, w2], ignore_index=True)\n",
    "df.head()"
   ]
  },
  {
   "cell_type": "code",
   "execution_count": 9,
   "id": "bb61f465",
   "metadata": {},
   "outputs": [
    {
     "data": {
      "text/plain": [
       "Pitch    0\n",
       "Yaw      0\n",
       "Roll     0\n",
       "label    0\n",
       "dtype: int64"
      ]
     },
     "execution_count": 9,
     "metadata": {},
     "output_type": "execute_result"
    }
   ],
   "source": [
    "df.isnull().sum()"
   ]
  },
  {
   "cell_type": "code",
   "execution_count": 10,
   "id": "a533c857",
   "metadata": {},
   "outputs": [
    {
     "data": {
      "text/html": [
       "<div>\n",
       "<style scoped>\n",
       "    .dataframe tbody tr th:only-of-type {\n",
       "        vertical-align: middle;\n",
       "    }\n",
       "\n",
       "    .dataframe tbody tr th {\n",
       "        vertical-align: top;\n",
       "    }\n",
       "\n",
       "    .dataframe thead th {\n",
       "        text-align: right;\n",
       "    }\n",
       "</style>\n",
       "<table border=\"1\" class=\"dataframe\">\n",
       "  <thead>\n",
       "    <tr style=\"text-align: right;\">\n",
       "      <th></th>\n",
       "      <th>Pitch</th>\n",
       "      <th>Yaw</th>\n",
       "      <th>Roll</th>\n",
       "    </tr>\n",
       "  </thead>\n",
       "  <tbody>\n",
       "    <tr>\n",
       "      <th>count</th>\n",
       "      <td>215.000000</td>\n",
       "      <td>215.000000</td>\n",
       "      <td>215.000000</td>\n",
       "    </tr>\n",
       "    <tr>\n",
       "      <th>mean</th>\n",
       "      <td>0.215496</td>\n",
       "      <td>0.030967</td>\n",
       "      <td>-0.472498</td>\n",
       "    </tr>\n",
       "    <tr>\n",
       "      <th>std</th>\n",
       "      <td>0.111946</td>\n",
       "      <td>0.069327</td>\n",
       "      <td>0.568170</td>\n",
       "    </tr>\n",
       "    <tr>\n",
       "      <th>min</th>\n",
       "      <td>0.069389</td>\n",
       "      <td>-0.056183</td>\n",
       "      <td>-1.058127</td>\n",
       "    </tr>\n",
       "    <tr>\n",
       "      <th>25%</th>\n",
       "      <td>0.108027</td>\n",
       "      <td>-0.041391</td>\n",
       "      <td>-1.029887</td>\n",
       "    </tr>\n",
       "    <tr>\n",
       "      <th>50%</th>\n",
       "      <td>0.148956</td>\n",
       "      <td>0.089840</td>\n",
       "      <td>-1.006606</td>\n",
       "    </tr>\n",
       "    <tr>\n",
       "      <th>75%</th>\n",
       "      <td>0.330476</td>\n",
       "      <td>0.096467</td>\n",
       "      <td>0.108500</td>\n",
       "    </tr>\n",
       "    <tr>\n",
       "      <th>max</th>\n",
       "      <td>0.340355</td>\n",
       "      <td>0.118256</td>\n",
       "      <td>0.119446</td>\n",
       "    </tr>\n",
       "  </tbody>\n",
       "</table>\n",
       "</div>"
      ],
      "text/plain": [
       "            Pitch         Yaw        Roll\n",
       "count  215.000000  215.000000  215.000000\n",
       "mean     0.215496    0.030967   -0.472498\n",
       "std      0.111946    0.069327    0.568170\n",
       "min      0.069389   -0.056183   -1.058127\n",
       "25%      0.108027   -0.041391   -1.029887\n",
       "50%      0.148956    0.089840   -1.006606\n",
       "75%      0.330476    0.096467    0.108500\n",
       "max      0.340355    0.118256    0.119446"
      ]
     },
     "execution_count": 10,
     "metadata": {},
     "output_type": "execute_result"
    }
   ],
   "source": [
    "df.describe()"
   ]
  },
  {
   "cell_type": "code",
   "execution_count": 11,
   "id": "8eae8d7f",
   "metadata": {},
   "outputs": [
    {
     "name": "stdout",
     "output_type": "stream",
     "text": [
      "<class 'pandas.core.frame.DataFrame'>\n",
      "RangeIndex: 215 entries, 0 to 214\n",
      "Data columns (total 4 columns):\n",
      " #   Column  Non-Null Count  Dtype  \n",
      "---  ------  --------------  -----  \n",
      " 0   Pitch   215 non-null    float64\n",
      " 1   Yaw     215 non-null    float64\n",
      " 2   Roll    215 non-null    float64\n",
      " 3   label   215 non-null    object \n",
      "dtypes: float64(3), object(1)\n",
      "memory usage: 6.8+ KB\n"
     ]
    }
   ],
   "source": [
    "df.info()"
   ]
  },
  {
   "cell_type": "code",
   "execution_count": 12,
   "id": "5426ed4c",
   "metadata": {},
   "outputs": [
    {
     "data": {
      "text/plain": [
       "Pitch    0\n",
       "Yaw      0\n",
       "Roll     0\n",
       "label    0\n",
       "dtype: int64"
      ]
     },
     "execution_count": 12,
     "metadata": {},
     "output_type": "execute_result"
    }
   ],
   "source": [
    "df.isnull().sum()"
   ]
  },
  {
   "cell_type": "code",
   "execution_count": 13,
   "id": "e6c1a2bc",
   "metadata": {},
   "outputs": [
    {
     "data": {
      "text/plain": [
       "Index(['Pitch', 'Yaw', 'Roll', 'label'], dtype='object')"
      ]
     },
     "execution_count": 13,
     "metadata": {},
     "output_type": "execute_result"
    }
   ],
   "source": [
    "df.columns"
   ]
  },
  {
   "cell_type": "code",
   "execution_count": 14,
   "id": "1cd0b9a4",
   "metadata": {},
   "outputs": [
    {
     "data": {
      "text/plain": [
       "array(['YFA0023', 'YFA0024'], dtype=object)"
      ]
     },
     "execution_count": 14,
     "metadata": {},
     "output_type": "execute_result"
    }
   ],
   "source": [
    "df['label'].unique()"
   ]
  },
  {
   "cell_type": "code",
   "execution_count": 15,
   "id": "7b8aab74",
   "metadata": {},
   "outputs": [
    {
     "data": {
      "text/plain": [
       "YFA0023    110\n",
       "YFA0024    105\n",
       "Name: label, dtype: int64"
      ]
     },
     "execution_count": 15,
     "metadata": {},
     "output_type": "execute_result"
    }
   ],
   "source": [
    "df['label'].value_counts()"
   ]
  },
  {
   "cell_type": "code",
   "execution_count": 16,
   "id": "f81be39b",
   "metadata": {},
   "outputs": [
    {
     "data": {
      "image/png": "[encoded data removed]",
      "text/plain": [
       "<Figure size 640x480 with 1 Axes>"
      ]
     },
     "metadata": {},
     "output_type": "display_data"
    }
   ],
   "source": [
    "df[df['label']=='YFA0023'].plot()\n",
    "plt.title('Data - Warrior 1')\n",
    "plt.show()"
   ]
  },
  {
   "cell_type": "code",
   "execution_count": 17,
   "id": "d95a5756",
   "metadata": {},
   "outputs": [
    {
     "data": {
      "image/png": "[encoded data removed]",
      "text/plain": [
       "<Figure size 640x480 with 1 Axes>"
      ]
     },
     "metadata": {},
     "output_type": "display_data"
    }
   ],
   "source": [
    "df[df['label']=='YFA0024'].plot()\n",
    "plt.title('Data - Warrior 2')\n",
    "plt.show()"
   ]
  },
  {
   "cell_type": "code",
   "execution_count": 18,
   "id": "9861ad8d",
   "metadata": {},
   "outputs": [
    {
     "data": {
      "image/png": "[encoded data removed]",
      "text/plain": [
       "<Figure size 640x480 with 2 Axes>"
      ]
     },
     "metadata": {},
     "output_type": "display_data"
    }
   ],
   "source": [
    "dataplot = sns.heatmap(df.drop(columns=['label']).corr(), cmap=\"YlGnBu\", annot=True)\n",
    "plt.show()"
   ]
  },
  {
   "cell_type": "markdown",
   "id": "49a3fe25",
   "metadata": {},
   "source": [
    "## Label Encoding"
   ]
  },
  {
   "cell_type": "code",
   "execution_count": 19,
   "id": "fda67f9d",
   "metadata": {},
   "outputs": [],
   "source": [
    "df[\"label\"] = df[\"label\"].replace({\"YFA0023\": 0, \"YFA0024\": 1})\n"
   ]
  },
  {
   "cell_type": "code",
   "execution_count": 20,
   "id": "f940e9b5",
   "metadata": {},
   "outputs": [
    {
     "data": {
      "text/plain": [
       "0    110\n",
       "1    105\n",
       "Name: label, dtype: int64"
      ]
     },
     "execution_count": 20,
     "metadata": {},
     "output_type": "execute_result"
    }
   ],
   "source": [
    "df[\"label\"].value_counts()"
   ]
  },
  {
   "cell_type": "code",
   "execution_count": 21,
   "id": "78ee932e",
   "metadata": {},
   "outputs": [
    {
     "data": {
      "text/html": [
       "<div>\n",
       "<style scoped>\n",
       "    .dataframe tbody tr th:only-of-type {\n",
       "        vertical-align: middle;\n",
       "    }\n",
       "\n",
       "    .dataframe tbody tr th {\n",
       "        vertical-align: top;\n",
       "    }\n",
       "\n",
       "    .dataframe thead th {\n",
       "        text-align: right;\n",
       "    }\n",
       "</style>\n",
       "<table border=\"1\" class=\"dataframe\">\n",
       "  <thead>\n",
       "    <tr style=\"text-align: right;\">\n",
       "      <th></th>\n",
       "      <th>Pitch</th>\n",
       "      <th>Yaw</th>\n",
       "      <th>Roll</th>\n",
       "      <th>label</th>\n",
       "    </tr>\n",
       "  </thead>\n",
       "  <tbody>\n",
       "    <tr>\n",
       "      <th>0</th>\n",
       "      <td>0.154916</td>\n",
       "      <td>0.090692</td>\n",
       "      <td>-1.058127</td>\n",
       "      <td>0</td>\n",
       "    </tr>\n",
       "    <tr>\n",
       "      <th>1</th>\n",
       "      <td>0.146494</td>\n",
       "      <td>0.090977</td>\n",
       "      <td>-1.054079</td>\n",
       "      <td>0</td>\n",
       "    </tr>\n",
       "    <tr>\n",
       "      <th>2</th>\n",
       "      <td>0.151879</td>\n",
       "      <td>0.086945</td>\n",
       "      <td>-1.046679</td>\n",
       "      <td>0</td>\n",
       "    </tr>\n",
       "    <tr>\n",
       "      <th>3</th>\n",
       "      <td>0.148956</td>\n",
       "      <td>0.086839</td>\n",
       "      <td>-1.042859</td>\n",
       "      <td>0</td>\n",
       "    </tr>\n",
       "    <tr>\n",
       "      <th>4</th>\n",
       "      <td>0.145258</td>\n",
       "      <td>0.090223</td>\n",
       "      <td>-1.040074</td>\n",
       "      <td>0</td>\n",
       "    </tr>\n",
       "  </tbody>\n",
       "</table>\n",
       "</div>"
      ],
      "text/plain": [
       "      Pitch       Yaw      Roll  label\n",
       "0  0.154916  0.090692 -1.058127      0\n",
       "1  0.146494  0.090977 -1.054079      0\n",
       "2  0.151879  0.086945 -1.046679      0\n",
       "3  0.148956  0.086839 -1.042859      0\n",
       "4  0.145258  0.090223 -1.040074      0"
      ]
     },
     "execution_count": 21,
     "metadata": {},
     "output_type": "execute_result"
    }
   ],
   "source": [
    "df.head()"
   ]
  },
  {
   "cell_type": "code",
   "execution_count": 22,
   "id": "0248205d",
   "metadata": {
    "scrolled": true
   },
   "outputs": [
    {
     "data": {
      "text/html": [
       "<div>\n",
       "<style scoped>\n",
       "    .dataframe tbody tr th:only-of-type {\n",
       "        vertical-align: middle;\n",
       "    }\n",
       "\n",
       "    .dataframe tbody tr th {\n",
       "        vertical-align: top;\n",
       "    }\n",
       "\n",
       "    .dataframe thead th {\n",
       "        text-align: right;\n",
       "    }\n",
       "</style>\n",
       "<table border=\"1\" class=\"dataframe\">\n",
       "  <thead>\n",
       "    <tr style=\"text-align: right;\">\n",
       "      <th></th>\n",
       "      <th>Pitch</th>\n",
       "      <th>Yaw</th>\n",
       "      <th>Roll</th>\n",
       "      <th>label</th>\n",
       "    </tr>\n",
       "  </thead>\n",
       "  <tbody>\n",
       "    <tr>\n",
       "      <th>210</th>\n",
       "      <td>0.321693</td>\n",
       "      <td>-0.048538</td>\n",
       "      <td>0.099173</td>\n",
       "      <td>1</td>\n",
       "    </tr>\n",
       "    <tr>\n",
       "      <th>211</th>\n",
       "      <td>0.323691</td>\n",
       "      <td>-0.050151</td>\n",
       "      <td>0.099915</td>\n",
       "      <td>1</td>\n",
       "    </tr>\n",
       "    <tr>\n",
       "      <th>212</th>\n",
       "      <td>0.318651</td>\n",
       "      <td>-0.052266</td>\n",
       "      <td>0.099536</td>\n",
       "      <td>1</td>\n",
       "    </tr>\n",
       "    <tr>\n",
       "      <th>213</th>\n",
       "      <td>0.320772</td>\n",
       "      <td>-0.053054</td>\n",
       "      <td>0.098097</td>\n",
       "      <td>1</td>\n",
       "    </tr>\n",
       "    <tr>\n",
       "      <th>214</th>\n",
       "      <td>0.316473</td>\n",
       "      <td>-0.056183</td>\n",
       "      <td>0.102285</td>\n",
       "      <td>1</td>\n",
       "    </tr>\n",
       "  </tbody>\n",
       "</table>\n",
       "</div>"
      ],
      "text/plain": [
       "        Pitch       Yaw      Roll  label\n",
       "210  0.321693 -0.048538  0.099173      1\n",
       "211  0.323691 -0.050151  0.099915      1\n",
       "212  0.318651 -0.052266  0.099536      1\n",
       "213  0.320772 -0.053054  0.098097      1\n",
       "214  0.316473 -0.056183  0.102285      1"
      ]
     },
     "execution_count": 22,
     "metadata": {},
     "output_type": "execute_result"
    }
   ],
   "source": [
    "df.tail()"
   ]
  },
  {
   "cell_type": "markdown",
   "id": "5ef164ae",
   "metadata": {},
   "source": [
    "# Train Test Split"
   ]
  },
  {
   "cell_type": "code",
   "execution_count": 41,
   "id": "9e8358f7",
   "metadata": {},
   "outputs": [],
   "source": [
    "from sklearn.model_selection import train_test_split\n",
    "\n",
    "X=df.drop(columns=['label'])\n",
    "Y=df['label']\n",
    "x_train,x_test,y_train,y_test=train_test_split(X,Y,test_size=0.3, shuffle=True)"
   ]
  },
  {
   "cell_type": "code",
   "execution_count": 42,
   "id": "79d8d5aa",
   "metadata": {
    "scrolled": true
   },
   "outputs": [
    {
     "name": "stdout",
     "output_type": "stream",
     "text": [
      "X_train Shape - (150, 3)\n",
      "X_test Shape - (65, 3)\n",
      "Y_train Shape - (150,)\n",
      "Y_test Shape - (65,)\n"
     ]
    }
   ],
   "source": [
    "print(\"X_train Shape -\", x_train.shape)\n",
    "print(\"X_test Shape -\", x_test.shape)\n",
    "print(\"Y_train Shape -\", y_train.shape)\n",
    "print(\"Y_test Shape -\", y_test.shape)"
   ]
  },
  {
   "cell_type": "code",
   "execution_count": null,
   "id": "755a733b",
   "metadata": {},
   "outputs": [],
   "source": []
  },
  {
   "cell_type": "code",
   "execution_count": null,
   "id": "7c9608fb",
   "metadata": {},
   "outputs": [],
   "source": []
  },
  {
   "cell_type": "code",
   "execution_count": 43,
   "id": "86d3904f",
   "metadata": {},
   "outputs": [
    {
     "data": {
      "text/plain": [
       "array([0.31, 0.35, 0.34])"
      ]
     },
     "execution_count": 43,
     "metadata": {},
     "output_type": "execute_result"
    }
   ],
   "source": [
    "rf=RandomForestClassifier()\n",
    " \n",
    "rf.fit(x_train,y_train)\n",
    "rf.feature_importances_"
   ]
  },
  {
   "cell_type": "code",
   "execution_count": 44,
   "id": "5711e459",
   "metadata": {},
   "outputs": [
    {
     "data": {
      "text/plain": [
       "Text(0.5, 0, 'Random Forest Feature Importance')"
      ]
     },
     "execution_count": 44,
     "metadata": {},
     "output_type": "execute_result"
    },
    {
     "data": {
      "image/png": "[encoded data removed]",
      "text/plain": [
       "<Figure size 640x480 with 1 Axes>"
      ]
     },
     "metadata": {},
     "output_type": "display_data"
    }
   ],
   "source": [
    "# plt.figure(figsize=(12, 8))\n",
    "sorted_idx = rf.feature_importances_.argsort()\n",
    "plt.barh(df.columns[sorted_idx], rf.feature_importances_[sorted_idx])\n",
    "plt.xlabel(\"Random Forest Feature Importance\")"
   ]
  },
  {
   "cell_type": "code",
   "execution_count": 45,
   "id": "30e38113",
   "metadata": {
    "scrolled": true
   },
   "outputs": [
    {
     "data": {
      "text/plain": [
       "3"
      ]
     },
     "execution_count": 45,
     "metadata": {},
     "output_type": "execute_result"
    }
   ],
   "source": [
    "x_train.shape[1]"
   ]
  },
  {
   "cell_type": "code",
   "execution_count": 46,
   "id": "426d738d",
   "metadata": {},
   "outputs": [],
   "source": [
    "#!pip install tensorflow"
   ]
  },
  {
   "cell_type": "code",
   "execution_count": 47,
   "id": "86bae91a",
   "metadata": {},
   "outputs": [],
   "source": [
    "from tensorflow.keras import Sequential\n",
    "from tensorflow.keras.layers import Dense\n",
    "from tensorflow.keras.utils import plot_model"
   ]
  },
  {
   "cell_type": "code",
   "execution_count": 69,
   "id": "c00bb2ee",
   "metadata": {},
   "outputs": [],
   "source": [
    "model = Sequential()\n",
    "\n",
    "model.add(Dense(3, input_dim=x_train.shape[1], activation='relu'))\n",
    "model.add(Dense(5, activation='relu'))\n",
    "model.add(Dense(5, activation='relu'))\n",
    "model.add(Dense(1, activation='sigmoid'))"
   ]
  },
  {
   "cell_type": "code",
   "execution_count": 70,
   "id": "d0b2e1be",
   "metadata": {},
   "outputs": [],
   "source": [
    "# compile the keras model\n",
    "model.compile(loss='binary_crossentropy', optimizer='adam', metrics=['accuracy'])"
   ]
  },
  {
   "cell_type": "code",
   "execution_count": 71,
   "id": "7139fd52",
   "metadata": {
    "scrolled": true
   },
   "outputs": [
    {
     "name": "stdout",
     "output_type": "stream",
     "text": [
      "Epoch 1/150\n",
      "3/3 [==============================] - 1s 79ms/step - loss: 0.6753 - accuracy: 0.5200 - val_loss: 0.6745 - val_accuracy: 0.4923\n",
      "Epoch 2/150\n",
      "3/3 [==============================] - 0s 21ms/step - loss: 0.6723 - accuracy: 0.5200 - val_loss: 0.6723 - val_accuracy: 0.4923\n",
      "Epoch 3/150\n",
      "3/3 [==============================] - 0s 18ms/step - loss: 0.6704 - accuracy: 0.5200 - val_loss: 0.6713 - val_accuracy: 0.4923\n",
      "Epoch 4/150\n",
      "3/3 [==============================] - 0s 19ms/step - loss: 0.6695 - accuracy: 0.5200 - val_loss: 0.6703 - val_accuracy: 0.4923\n",
      "Epoch 5/150\n",
      "3/3 [==============================] - 0s 17ms/step - loss: 0.6682 - accuracy: 0.5200 - val_loss: 0.6692 - val_accuracy: 0.4923\n",
      "Epoch 6/150\n",
      "3/3 [==============================] - 0s 18ms/step - loss: 0.6670 - accuracy: 0.5200 - val_loss: 0.6680 - val_accuracy: 0.4923\n",
      "Epoch 7/150\n",
      "3/3 [==============================] - 0s 20ms/step - loss: 0.6657 - accuracy: 0.5200 - val_loss: 0.6668 - val_accuracy: 0.4923\n",
      "Epoch 8/150\n",
      "3/3 [==============================] - 0s 18ms/step - loss: 0.6644 - accuracy: 0.5200 - val_loss: 0.6655 - val_accuracy: 0.4923\n",
      "Epoch 9/150\n",
      "3/3 [==============================] - 0s 19ms/step - loss: 0.6630 - accuracy: 0.5200 - val_loss: 0.6642 - val_accuracy: 0.4923\n",
      "Epoch 10/150\n",
      "3/3 [==============================] - 0s 22ms/step - loss: 0.6616 - accuracy: 0.5200 - val_loss: 0.6629 - val_accuracy: 0.4923\n",
      "Epoch 11/150\n",
      "3/3 [==============================] - 0s 16ms/step - loss: 0.6602 - accuracy: 0.5200 - val_loss: 0.6616 - val_accuracy: 0.4923\n",
      "Epoch 12/150\n",
      "3/3 [==============================] - 0s 16ms/step - loss: 0.6587 - accuracy: 0.5200 - val_loss: 0.6602 - val_accuracy: 0.4923\n",
      "Epoch 13/150\n",
      "3/3 [==============================] - 0s 19ms/step - loss: 0.6572 - accuracy: 0.5200 - val_loss: 0.6587 - val_accuracy: 0.4923\n",
      "Epoch 14/150\n",
      "3/3 [==============================] - 0s 17ms/step - loss: 0.6556 - accuracy: 0.5200 - val_loss: 0.6572 - val_accuracy: 0.4923\n",
      "Epoch 15/150\n",
      "3/3 [==============================] - 0s 18ms/step - loss: 0.6540 - accuracy: 0.5200 - val_loss: 0.6556 - val_accuracy: 0.4923\n",
      "Epoch 16/150\n",
      "3/3 [==============================] - 0s 16ms/step - loss: 0.6524 - accuracy: 0.5200 - val_loss: 0.6539 - val_accuracy: 0.4923\n",
      "Epoch 17/150\n",
      "3/3 [==============================] - 0s 19ms/step - loss: 0.6506 - accuracy: 0.5200 - val_loss: 0.6522 - val_accuracy: 0.4923\n",
      "Epoch 18/150\n",
      "3/3 [==============================] - 0s 17ms/step - loss: 0.6488 - accuracy: 0.5200 - val_loss: 0.6505 - val_accuracy: 0.4923\n",
      "Epoch 19/150\n",
      "3/3 [==============================] - 0s 17ms/step - loss: 0.6470 - accuracy: 0.5200 - val_loss: 0.6487 - val_accuracy: 0.4923\n",
      "Epoch 20/150\n",
      "3/3 [==============================] - 0s 16ms/step - loss: 0.6450 - accuracy: 0.5200 - val_loss: 0.6469 - val_accuracy: 0.4923\n",
      "Epoch 21/150\n",
      "3/3 [==============================] - 0s 22ms/step - loss: 0.6432 - accuracy: 0.5200 - val_loss: 0.6450 - val_accuracy: 0.4923\n",
      "Epoch 22/150\n",
      "3/3 [==============================] - 0s 17ms/step - loss: 0.6411 - accuracy: 0.5200 - val_loss: 0.6430 - val_accuracy: 0.4923\n",
      "Epoch 23/150\n",
      "3/3 [==============================] - 0s 18ms/step - loss: 0.6391 - accuracy: 0.5200 - val_loss: 0.6410 - val_accuracy: 0.4923\n",
      "Epoch 24/150\n",
      "3/3 [==============================] - 0s 18ms/step - loss: 0.6369 - accuracy: 0.5200 - val_loss: 0.6389 - val_accuracy: 0.4923\n",
      "Epoch 25/150\n",
      "3/3 [==============================] - 0s 17ms/step - loss: 0.6348 - accuracy: 0.5200 - val_loss: 0.6369 - val_accuracy: 0.4923\n",
      "Epoch 26/150\n",
      "3/3 [==============================] - 0s 16ms/step - loss: 0.6326 - accuracy: 0.5200 - val_loss: 0.6348 - val_accuracy: 0.4923\n",
      "Epoch 27/150\n",
      "3/3 [==============================] - 0s 21ms/step - loss: 0.6304 - accuracy: 0.5200 - val_loss: 0.6326 - val_accuracy: 0.4923\n",
      "Epoch 28/150\n",
      "3/3 [==============================] - 0s 18ms/step - loss: 0.6281 - accuracy: 0.5200 - val_loss: 0.6303 - val_accuracy: 0.4923\n",
      "Epoch 29/150\n",
      "3/3 [==============================] - 0s 16ms/step - loss: 0.6257 - accuracy: 0.5200 - val_loss: 0.6279 - val_accuracy: 0.4923\n",
      "Epoch 30/150\n",
      "3/3 [==============================] - 0s 19ms/step - loss: 0.6232 - accuracy: 0.5200 - val_loss: 0.6255 - val_accuracy: 0.4923\n",
      "Epoch 31/150\n",
      "3/3 [==============================] - 0s 16ms/step - loss: 0.6207 - accuracy: 0.5200 - val_loss: 0.6231 - val_accuracy: 0.4923\n",
      "Epoch 32/150\n",
      "3/3 [==============================] - 0s 20ms/step - loss: 0.6181 - accuracy: 0.5200 - val_loss: 0.6206 - val_accuracy: 0.4923\n",
      "Epoch 33/150\n",
      "3/3 [==============================] - 0s 21ms/step - loss: 0.6155 - accuracy: 0.5200 - val_loss: 0.6180 - val_accuracy: 0.4923\n",
      "Epoch 34/150\n",
      "3/3 [==============================] - 0s 16ms/step - loss: 0.6128 - accuracy: 0.5200 - val_loss: 0.6154 - val_accuracy: 0.4923\n",
      "Epoch 35/150\n",
      "3/3 [==============================] - 0s 18ms/step - loss: 0.6100 - accuracy: 0.6133 - val_loss: 0.6127 - val_accuracy: 0.8000\n",
      "Epoch 36/150\n",
      "3/3 [==============================] - 0s 16ms/step - loss: 0.6073 - accuracy: 0.8600 - val_loss: 0.6100 - val_accuracy: 0.8615\n",
      "Epoch 37/150\n",
      "3/3 [==============================] - 0s 17ms/step - loss: 0.6044 - accuracy: 0.8800 - val_loss: 0.6073 - val_accuracy: 0.8000\n",
      "Epoch 38/150\n",
      "3/3 [==============================] - 0s 17ms/step - loss: 0.6014 - accuracy: 0.8533 - val_loss: 0.6044 - val_accuracy: 0.8000\n",
      "Epoch 39/150\n",
      "3/3 [==============================] - 0s 17ms/step - loss: 0.5985 - accuracy: 0.8467 - val_loss: 0.6015 - val_accuracy: 0.8000\n",
      "Epoch 40/150\n",
      "3/3 [==============================] - 0s 17ms/step - loss: 0.5954 - accuracy: 0.8800 - val_loss: 0.5984 - val_accuracy: 0.9385\n",
      "Epoch 41/150\n",
      "3/3 [==============================] - 0s 17ms/step - loss: 0.5921 - accuracy: 0.9600 - val_loss: 0.5954 - val_accuracy: 1.0000\n",
      "Epoch 42/150\n",
      "3/3 [==============================] - 0s 19ms/step - loss: 0.5890 - accuracy: 0.9933 - val_loss: 0.5922 - val_accuracy: 1.0000\n",
      "Epoch 43/150\n",
      "3/3 [==============================] - 0s 19ms/step - loss: 0.5856 - accuracy: 1.0000 - val_loss: 0.5891 - val_accuracy: 1.0000\n",
      "Epoch 44/150\n",
      "3/3 [==============================] - 0s 20ms/step - loss: 0.5825 - accuracy: 1.0000 - val_loss: 0.5858 - val_accuracy: 1.0000\n",
      "Epoch 45/150\n",
      "3/3 [==============================] - 0s 19ms/step - loss: 0.5789 - accuracy: 1.0000 - val_loss: 0.5825 - val_accuracy: 1.0000\n",
      "Epoch 46/150\n",
      "3/3 [==============================] - 0s 16ms/step - loss: 0.5755 - accuracy: 1.0000 - val_loss: 0.5792 - val_accuracy: 1.0000\n",
      "Epoch 47/150\n",
      "3/3 [==============================] - 0s 16ms/step - loss: 0.5720 - accuracy: 1.0000 - val_loss: 0.5757 - val_accuracy: 1.0000\n",
      "Epoch 48/150\n",
      "3/3 [==============================] - 0s 19ms/step - loss: 0.5684 - accuracy: 1.0000 - val_loss: 0.5722 - val_accuracy: 1.0000\n",
      "Epoch 49/150\n",
      "3/3 [==============================] - 0s 19ms/step - loss: 0.5648 - accuracy: 1.0000 - val_loss: 0.5687 - val_accuracy: 1.0000\n",
      "Epoch 50/150\n",
      "3/3 [==============================] - 0s 16ms/step - loss: 0.5610 - accuracy: 1.0000 - val_loss: 0.5651 - val_accuracy: 1.0000\n",
      "Epoch 51/150\n",
      "3/3 [==============================] - 0s 18ms/step - loss: 0.5572 - accuracy: 1.0000 - val_loss: 0.5614 - val_accuracy: 1.0000\n",
      "Epoch 52/150\n",
      "3/3 [==============================] - 0s 17ms/step - loss: 0.5534 - accuracy: 1.0000 - val_loss: 0.5577 - val_accuracy: 1.0000\n",
      "Epoch 53/150\n",
      "3/3 [==============================] - 0s 16ms/step - loss: 0.5496 - accuracy: 1.0000 - val_loss: 0.5539 - val_accuracy: 1.0000\n",
      "Epoch 54/150\n",
      "3/3 [==============================] - 0s 18ms/step - loss: 0.5456 - accuracy: 1.0000 - val_loss: 0.5501 - val_accuracy: 1.0000\n",
      "Epoch 55/150\n",
      "3/3 [==============================] - 0s 19ms/step - loss: 0.5416 - accuracy: 1.0000 - val_loss: 0.5462 - val_accuracy: 1.0000\n",
      "Epoch 56/150\n",
      "3/3 [==============================] - 0s 17ms/step - loss: 0.5375 - accuracy: 1.0000 - val_loss: 0.5423 - val_accuracy: 1.0000\n",
      "Epoch 57/150\n",
      "3/3 [==============================] - 0s 17ms/step - loss: 0.5334 - accuracy: 1.0000 - val_loss: 0.5383 - val_accuracy: 1.0000\n",
      "Epoch 58/150\n",
      "3/3 [==============================] - 0s 18ms/step - loss: 0.5293 - accuracy: 1.0000 - val_loss: 0.5343 - val_accuracy: 1.0000\n",
      "Epoch 59/150\n"
     ]
    },
    {
     "name": "stdout",
     "output_type": "stream",
     "text": [
      "3/3 [==============================] - 0s 16ms/step - loss: 0.5249 - accuracy: 1.0000 - val_loss: 0.5302 - val_accuracy: 1.0000\n",
      "Epoch 60/150\n",
      "3/3 [==============================] - 0s 17ms/step - loss: 0.5208 - accuracy: 1.0000 - val_loss: 0.5261 - val_accuracy: 1.0000\n",
      "Epoch 61/150\n",
      "3/3 [==============================] - 0s 17ms/step - loss: 0.5165 - accuracy: 1.0000 - val_loss: 0.5219 - val_accuracy: 1.0000\n",
      "Epoch 62/150\n",
      "3/3 [==============================] - 0s 18ms/step - loss: 0.5121 - accuracy: 1.0000 - val_loss: 0.5177 - val_accuracy: 1.0000\n",
      "Epoch 63/150\n",
      "3/3 [==============================] - 0s 16ms/step - loss: 0.5078 - accuracy: 1.0000 - val_loss: 0.5135 - val_accuracy: 1.0000\n",
      "Epoch 64/150\n",
      "3/3 [==============================] - 0s 17ms/step - loss: 0.5035 - accuracy: 1.0000 - val_loss: 0.5093 - val_accuracy: 1.0000\n",
      "Epoch 65/150\n",
      "3/3 [==============================] - 0s 18ms/step - loss: 0.4990 - accuracy: 1.0000 - val_loss: 0.5050 - val_accuracy: 1.0000\n",
      "Epoch 66/150\n",
      "3/3 [==============================] - 0s 16ms/step - loss: 0.4945 - accuracy: 1.0000 - val_loss: 0.5008 - val_accuracy: 1.0000\n",
      "Epoch 67/150\n",
      "3/3 [==============================] - 0s 17ms/step - loss: 0.4902 - accuracy: 1.0000 - val_loss: 0.4966 - val_accuracy: 1.0000\n",
      "Epoch 68/150\n",
      "3/3 [==============================] - 0s 20ms/step - loss: 0.4857 - accuracy: 1.0000 - val_loss: 0.4923 - val_accuracy: 1.0000\n",
      "Epoch 69/150\n",
      "3/3 [==============================] - 0s 17ms/step - loss: 0.4813 - accuracy: 1.0000 - val_loss: 0.4880 - val_accuracy: 1.0000\n",
      "Epoch 70/150\n",
      "3/3 [==============================] - 0s 16ms/step - loss: 0.4770 - accuracy: 1.0000 - val_loss: 0.4837 - val_accuracy: 1.0000\n",
      "Epoch 71/150\n",
      "3/3 [==============================] - 0s 16ms/step - loss: 0.4724 - accuracy: 1.0000 - val_loss: 0.4795 - val_accuracy: 1.0000\n",
      "Epoch 72/150\n",
      "3/3 [==============================] - 0s 17ms/step - loss: 0.4681 - accuracy: 1.0000 - val_loss: 0.4752 - val_accuracy: 1.0000\n",
      "Epoch 73/150\n",
      "3/3 [==============================] - 0s 19ms/step - loss: 0.4637 - accuracy: 1.0000 - val_loss: 0.4710 - val_accuracy: 1.0000\n",
      "Epoch 74/150\n",
      "3/3 [==============================] - 0s 20ms/step - loss: 0.4593 - accuracy: 1.0000 - val_loss: 0.4667 - val_accuracy: 1.0000\n",
      "Epoch 75/150\n",
      "3/3 [==============================] - 0s 21ms/step - loss: 0.4549 - accuracy: 1.0000 - val_loss: 0.4625 - val_accuracy: 1.0000\n",
      "Epoch 76/150\n",
      "3/3 [==============================] - 0s 22ms/step - loss: 0.4506 - accuracy: 1.0000 - val_loss: 0.4583 - val_accuracy: 1.0000\n",
      "Epoch 77/150\n",
      "3/3 [==============================] - 0s 19ms/step - loss: 0.4463 - accuracy: 1.0000 - val_loss: 0.4542 - val_accuracy: 1.0000\n",
      "Epoch 78/150\n",
      "3/3 [==============================] - 0s 20ms/step - loss: 0.4420 - accuracy: 1.0000 - val_loss: 0.4501 - val_accuracy: 1.0000\n",
      "Epoch 79/150\n",
      "3/3 [==============================] - 0s 18ms/step - loss: 0.4379 - accuracy: 1.0000 - val_loss: 0.4461 - val_accuracy: 1.0000\n",
      "Epoch 80/150\n",
      "3/3 [==============================] - 0s 18ms/step - loss: 0.4336 - accuracy: 1.0000 - val_loss: 0.4421 - val_accuracy: 1.0000\n",
      "Epoch 81/150\n",
      "3/3 [==============================] - 0s 22ms/step - loss: 0.4295 - accuracy: 1.0000 - val_loss: 0.4381 - val_accuracy: 1.0000\n",
      "Epoch 82/150\n",
      "3/3 [==============================] - 0s 22ms/step - loss: 0.4254 - accuracy: 1.0000 - val_loss: 0.4341 - val_accuracy: 1.0000\n",
      "Epoch 83/150\n",
      "3/3 [==============================] - 0s 19ms/step - loss: 0.4215 - accuracy: 1.0000 - val_loss: 0.4302 - val_accuracy: 1.0000\n",
      "Epoch 84/150\n",
      "3/3 [==============================] - 0s 17ms/step - loss: 0.4175 - accuracy: 1.0000 - val_loss: 0.4265 - val_accuracy: 1.0000\n",
      "Epoch 85/150\n",
      "3/3 [==============================] - 0s 18ms/step - loss: 0.4137 - accuracy: 1.0000 - val_loss: 0.4227 - val_accuracy: 1.0000\n",
      "Epoch 86/150\n",
      "3/3 [==============================] - 0s 20ms/step - loss: 0.4098 - accuracy: 1.0000 - val_loss: 0.4191 - val_accuracy: 1.0000\n",
      "Epoch 87/150\n",
      "3/3 [==============================] - 0s 18ms/step - loss: 0.4060 - accuracy: 1.0000 - val_loss: 0.4155 - val_accuracy: 1.0000\n",
      "Epoch 88/150\n",
      "3/3 [==============================] - 0s 27ms/step - loss: 0.4023 - accuracy: 1.0000 - val_loss: 0.4118 - val_accuracy: 1.0000\n",
      "Epoch 89/150\n",
      "3/3 [==============================] - 0s 17ms/step - loss: 0.3986 - accuracy: 1.0000 - val_loss: 0.4082 - val_accuracy: 1.0000\n",
      "Epoch 90/150\n",
      "3/3 [==============================] - 0s 19ms/step - loss: 0.3950 - accuracy: 1.0000 - val_loss: 0.4047 - val_accuracy: 1.0000\n",
      "Epoch 91/150\n",
      "3/3 [==============================] - 0s 10ms/step - loss: 0.3914 - accuracy: 1.0000 - val_loss: 0.4013 - val_accuracy: 1.0000\n",
      "Epoch 92/150\n",
      "3/3 [==============================] - 0s 19ms/step - loss: 0.3879 - accuracy: 1.0000 - val_loss: 0.3979 - val_accuracy: 1.0000\n",
      "Epoch 93/150\n",
      "3/3 [==============================] - 0s 19ms/step - loss: 0.3844 - accuracy: 1.0000 - val_loss: 0.3945 - val_accuracy: 1.0000\n",
      "Epoch 94/150\n",
      "3/3 [==============================] - 0s 20ms/step - loss: 0.3810 - accuracy: 1.0000 - val_loss: 0.3912 - val_accuracy: 1.0000\n",
      "Epoch 95/150\n",
      "3/3 [==============================] - 0s 19ms/step - loss: 0.3777 - accuracy: 1.0000 - val_loss: 0.3879 - val_accuracy: 1.0000\n",
      "Epoch 96/150\n",
      "3/3 [==============================] - 0s 19ms/step - loss: 0.3744 - accuracy: 1.0000 - val_loss: 0.3848 - val_accuracy: 1.0000\n",
      "Epoch 97/150\n",
      "3/3 [==============================] - 0s 17ms/step - loss: 0.3712 - accuracy: 1.0000 - val_loss: 0.3816 - val_accuracy: 1.0000\n",
      "Epoch 98/150\n",
      "3/3 [==============================] - 0s 18ms/step - loss: 0.3680 - accuracy: 1.0000 - val_loss: 0.3786 - val_accuracy: 1.0000\n",
      "Epoch 99/150\n",
      "3/3 [==============================] - 0s 19ms/step - loss: 0.3649 - accuracy: 1.0000 - val_loss: 0.3756 - val_accuracy: 1.0000\n",
      "Epoch 100/150\n",
      "3/3 [==============================] - 0s 18ms/step - loss: 0.3618 - accuracy: 1.0000 - val_loss: 0.3726 - val_accuracy: 1.0000\n",
      "Epoch 101/150\n",
      "3/3 [==============================] - 0s 18ms/step - loss: 0.3589 - accuracy: 1.0000 - val_loss: 0.3697 - val_accuracy: 1.0000\n",
      "Epoch 102/150\n",
      "3/3 [==============================] - 0s 20ms/step - loss: 0.3559 - accuracy: 1.0000 - val_loss: 0.3669 - val_accuracy: 1.0000\n",
      "Epoch 103/150\n",
      "3/3 [==============================] - 0s 16ms/step - loss: 0.3531 - accuracy: 1.0000 - val_loss: 0.3641 - val_accuracy: 1.0000\n",
      "Epoch 104/150\n",
      "3/3 [==============================] - 0s 18ms/step - loss: 0.3503 - accuracy: 1.0000 - val_loss: 0.3614 - val_accuracy: 1.0000\n",
      "Epoch 105/150\n",
      "3/3 [==============================] - 0s 16ms/step - loss: 0.3475 - accuracy: 1.0000 - val_loss: 0.3587 - val_accuracy: 1.0000\n",
      "Epoch 106/150\n",
      "3/3 [==============================] - 0s 17ms/step - loss: 0.3448 - accuracy: 1.0000 - val_loss: 0.3561 - val_accuracy: 1.0000\n",
      "Epoch 107/150\n",
      "3/3 [==============================] - 0s 18ms/step - loss: 0.3422 - accuracy: 1.0000 - val_loss: 0.3536 - val_accuracy: 1.0000\n",
      "Epoch 108/150\n",
      "3/3 [==============================] - 0s 16ms/step - loss: 0.3396 - accuracy: 1.0000 - val_loss: 0.3511 - val_accuracy: 1.0000\n",
      "Epoch 109/150\n",
      "3/3 [==============================] - 0s 18ms/step - loss: 0.3371 - accuracy: 1.0000 - val_loss: 0.3486 - val_accuracy: 1.0000\n",
      "Epoch 110/150\n",
      "3/3 [==============================] - 0s 18ms/step - loss: 0.3346 - accuracy: 1.0000 - val_loss: 0.3462 - val_accuracy: 1.0000\n",
      "Epoch 111/150\n",
      "3/3 [==============================] - 0s 15ms/step - loss: 0.3322 - accuracy: 1.0000 - val_loss: 0.3438 - val_accuracy: 1.0000\n",
      "Epoch 112/150\n",
      "3/3 [==============================] - 0s 18ms/step - loss: 0.3298 - accuracy: 1.0000 - val_loss: 0.3415 - val_accuracy: 1.0000\n",
      "Epoch 113/150\n",
      "3/3 [==============================] - 0s 20ms/step - loss: 0.3275 - accuracy: 1.0000 - val_loss: 0.3392 - val_accuracy: 1.0000\n",
      "Epoch 114/150\n",
      "3/3 [==============================] - 0s 17ms/step - loss: 0.3252 - accuracy: 1.0000 - val_loss: 0.3370 - val_accuracy: 1.0000\n",
      "Epoch 115/150\n",
      "3/3 [==============================] - 0s 18ms/step - loss: 0.3230 - accuracy: 1.0000 - val_loss: 0.3348 - val_accuracy: 1.0000\n",
      "Epoch 116/150\n",
      "3/3 [==============================] - 0s 16ms/step - loss: 0.3208 - accuracy: 1.0000 - val_loss: 0.3326 - val_accuracy: 1.0000\n",
      "Epoch 117/150\n"
     ]
    },
    {
     "name": "stdout",
     "output_type": "stream",
     "text": [
      "3/3 [==============================] - 0s 17ms/step - loss: 0.3186 - accuracy: 1.0000 - val_loss: 0.3305 - val_accuracy: 1.0000\n",
      "Epoch 118/150\n",
      "3/3 [==============================] - 0s 17ms/step - loss: 0.3165 - accuracy: 1.0000 - val_loss: 0.3285 - val_accuracy: 1.0000\n",
      "Epoch 119/150\n",
      "3/3 [==============================] - 0s 19ms/step - loss: 0.3145 - accuracy: 1.0000 - val_loss: 0.3264 - val_accuracy: 1.0000\n",
      "Epoch 120/150\n",
      "3/3 [==============================] - 0s 19ms/step - loss: 0.3124 - accuracy: 1.0000 - val_loss: 0.3244 - val_accuracy: 1.0000\n",
      "Epoch 121/150\n",
      "3/3 [==============================] - 0s 18ms/step - loss: 0.3105 - accuracy: 1.0000 - val_loss: 0.3225 - val_accuracy: 1.0000\n",
      "Epoch 122/150\n",
      "3/3 [==============================] - 0s 18ms/step - loss: 0.3085 - accuracy: 1.0000 - val_loss: 0.3206 - val_accuracy: 1.0000\n",
      "Epoch 123/150\n",
      "3/3 [==============================] - 0s 18ms/step - loss: 0.3066 - accuracy: 1.0000 - val_loss: 0.3187 - val_accuracy: 1.0000\n",
      "Epoch 124/150\n",
      "3/3 [==============================] - 0s 18ms/step - loss: 0.3047 - accuracy: 1.0000 - val_loss: 0.3168 - val_accuracy: 1.0000\n",
      "Epoch 125/150\n",
      "3/3 [==============================] - 0s 18ms/step - loss: 0.3029 - accuracy: 1.0000 - val_loss: 0.3150 - val_accuracy: 1.0000\n",
      "Epoch 126/150\n",
      "3/3 [==============================] - 0s 17ms/step - loss: 0.3011 - accuracy: 1.0000 - val_loss: 0.3133 - val_accuracy: 1.0000\n",
      "Epoch 127/150\n",
      "3/3 [==============================] - 0s 18ms/step - loss: 0.2993 - accuracy: 1.0000 - val_loss: 0.3115 - val_accuracy: 1.0000\n",
      "Epoch 128/150\n",
      "3/3 [==============================] - 0s 17ms/step - loss: 0.2976 - accuracy: 1.0000 - val_loss: 0.3098 - val_accuracy: 1.0000\n",
      "Epoch 129/150\n",
      "3/3 [==============================] - 0s 17ms/step - loss: 0.2959 - accuracy: 1.0000 - val_loss: 0.3081 - val_accuracy: 1.0000\n",
      "Epoch 130/150\n",
      "3/3 [==============================] - 0s 19ms/step - loss: 0.2942 - accuracy: 1.0000 - val_loss: 0.3064 - val_accuracy: 1.0000\n",
      "Epoch 131/150\n",
      "3/3 [==============================] - 0s 18ms/step - loss: 0.2926 - accuracy: 1.0000 - val_loss: 0.3048 - val_accuracy: 1.0000\n",
      "Epoch 132/150\n",
      "3/3 [==============================] - 0s 18ms/step - loss: 0.2910 - accuracy: 1.0000 - val_loss: 0.3032 - val_accuracy: 1.0000\n",
      "Epoch 133/150\n",
      "3/3 [==============================] - 0s 18ms/step - loss: 0.2894 - accuracy: 1.0000 - val_loss: 0.3016 - val_accuracy: 1.0000\n",
      "Epoch 134/150\n",
      "3/3 [==============================] - 0s 19ms/step - loss: 0.2878 - accuracy: 1.0000 - val_loss: 0.3001 - val_accuracy: 1.0000\n",
      "Epoch 135/150\n",
      "3/3 [==============================] - 0s 16ms/step - loss: 0.2863 - accuracy: 1.0000 - val_loss: 0.2986 - val_accuracy: 1.0000\n",
      "Epoch 136/150\n",
      "3/3 [==============================] - 0s 17ms/step - loss: 0.2848 - accuracy: 1.0000 - val_loss: 0.2971 - val_accuracy: 1.0000\n",
      "Epoch 137/150\n",
      "3/3 [==============================] - 0s 20ms/step - loss: 0.2833 - accuracy: 1.0000 - val_loss: 0.2956 - val_accuracy: 1.0000\n",
      "Epoch 138/150\n",
      "3/3 [==============================] - 0s 16ms/step - loss: 0.2819 - accuracy: 1.0000 - val_loss: 0.2941 - val_accuracy: 1.0000\n",
      "Epoch 139/150\n",
      "3/3 [==============================] - 0s 22ms/step - loss: 0.2804 - accuracy: 1.0000 - val_loss: 0.2927 - val_accuracy: 1.0000\n",
      "Epoch 140/150\n",
      "3/3 [==============================] - 0s 17ms/step - loss: 0.2790 - accuracy: 1.0000 - val_loss: 0.2913 - val_accuracy: 1.0000\n",
      "Epoch 141/150\n",
      "3/3 [==============================] - 0s 23ms/step - loss: 0.2777 - accuracy: 1.0000 - val_loss: 0.2900 - val_accuracy: 1.0000\n",
      "Epoch 142/150\n",
      "3/3 [==============================] - 0s 16ms/step - loss: 0.2763 - accuracy: 1.0000 - val_loss: 0.2886 - val_accuracy: 1.0000\n",
      "Epoch 143/150\n",
      "3/3 [==============================] - 0s 17ms/step - loss: 0.2750 - accuracy: 1.0000 - val_loss: 0.2873 - val_accuracy: 1.0000\n",
      "Epoch 144/150\n",
      "3/3 [==============================] - 0s 17ms/step - loss: 0.2737 - accuracy: 1.0000 - val_loss: 0.2860 - val_accuracy: 1.0000\n",
      "Epoch 145/150\n",
      "3/3 [==============================] - 0s 20ms/step - loss: 0.2724 - accuracy: 1.0000 - val_loss: 0.2847 - val_accuracy: 1.0000\n",
      "Epoch 146/150\n",
      "3/3 [==============================] - 0s 16ms/step - loss: 0.2711 - accuracy: 1.0000 - val_loss: 0.2835 - val_accuracy: 1.0000\n",
      "Epoch 147/150\n",
      "3/3 [==============================] - 0s 16ms/step - loss: 0.2699 - accuracy: 1.0000 - val_loss: 0.2822 - val_accuracy: 1.0000\n",
      "Epoch 148/150\n",
      "3/3 [==============================] - 0s 18ms/step - loss: 0.2687 - accuracy: 1.0000 - val_loss: 0.2809 - val_accuracy: 1.0000\n",
      "Epoch 149/150\n",
      "3/3 [==============================] - 0s 18ms/step - loss: 0.2675 - accuracy: 1.0000 - val_loss: 0.2797 - val_accuracy: 1.0000\n",
      "Epoch 150/150\n",
      "3/3 [==============================] - 0s 16ms/step - loss: 0.2663 - accuracy: 1.0000 - val_loss: 0.2785 - val_accuracy: 1.0000\n"
     ]
    }
   ],
   "source": [
    "# fit the keras model on the dataset\n",
    "epochs = 150\n",
    "history = model.fit(x_train,y_train, epochs=epochs, batch_size=64, validation_data=(x_test,y_test))\n"
   ]
  },
  {
   "cell_type": "code",
   "execution_count": 72,
   "id": "7bd2123a",
   "metadata": {},
   "outputs": [
    {
     "data": {
      "image/png": "[encoded data removed]",
      "text/plain": [
       "<Figure size 1000x500 with 2 Axes>"
      ]
     },
     "metadata": {},
     "output_type": "display_data"
    }
   ],
   "source": [
    "acc = history.history['accuracy']\n",
    "val_acc = history.history['val_accuracy']\n",
    "\n",
    "loss = history.history['loss']\n",
    "val_loss = history.history['val_loss']\n",
    "\n",
    "epochs_range = range(epochs)\n",
    "\n",
    "plt.figure(figsize=(10, 5))\n",
    "plt.subplot(1, 2, 1)\n",
    "plt.plot(epochs_range, acc, label='Training Accuracy')\n",
    "plt.plot(epochs_range, val_acc, label='Validation Accuracy')\n",
    "plt.legend(loc='lower right')\n",
    "plt.title('Training and Validation Accuracy')\n",
    "\n",
    "plt.subplot(1, 2, 2)\n",
    "plt.plot(epochs_range, loss, label='Training Loss')\n",
    "plt.plot(epochs_range, val_loss, label='Validation Loss')\n",
    "plt.legend(loc='upper right')\n",
    "plt.title('Training and Validation Loss')\n",
    "plt.show()"
   ]
  },
  {
   "cell_type": "code",
   "execution_count": 73,
   "id": "5294098e",
   "metadata": {
    "scrolled": false
   },
   "outputs": [
    {
     "name": "stdout",
     "output_type": "stream",
     "text": [
      "3/3 [==============================] - 0s 6ms/step - loss: 0.2785 - accuracy: 1.0000\n"
     ]
    }
   ],
   "source": [
    "scores = model.evaluate(x_test, y_test)"
   ]
  },
  {
   "cell_type": "code",
   "execution_count": 78,
   "id": "f1fdf384",
   "metadata": {},
   "outputs": [],
   "source": [
    "model.save('ann_model_2.h5')"
   ]
  },
  {
   "cell_type": "code",
   "execution_count": 74,
   "id": "e407b40c",
   "metadata": {},
   "outputs": [
    {
     "name": "stdout",
     "output_type": "stream",
     "text": [
      "accuracy: 100.00%\n"
     ]
    }
   ],
   "source": [
    "print(\"%s: %.2f%%\" % (model.metrics_names[1], scores[1]*100))"
   ]
  },
  {
   "cell_type": "code",
   "execution_count": 75,
   "id": "cac1e448",
   "metadata": {},
   "outputs": [
    {
     "data": {
      "image/png": "[encoded data removed]",
      "text/plain": [
       "<Figure size 640x480 with 1 Axes>"
      ]
     },
     "metadata": {},
     "output_type": "display_data"
    }
   ],
   "source": [
    "data = pd.read_csv(\"data/test_data/tested/YFA0023.csv\")\n",
    "data.plot()\n",
    "plt.show()"
   ]
  },
  {
   "cell_type": "code",
   "execution_count": 89,
   "id": "138a77d9",
   "metadata": {
    "scrolled": true
   },
   "outputs": [
    {
     "name": "stdout",
     "output_type": "stream",
     "text": [
      "[0.03519304]\n",
      "[0.0369275]\n",
      "[0.03581505]\n",
      "[0.03706172]\n",
      "[0.03696404]\n",
      "[0.03665777]\n",
      "[0.03648558]\n",
      "[0.0359234]\n",
      "[0.03607977]\n",
      "[0.03564093]\n",
      "[0.03553247]\n",
      "[0.03558161]\n",
      "[0.03552226]\n",
      "[0.03553792]\n",
      "[0.03564068]\n",
      "[0.03568937]\n",
      "[0.03584876]\n",
      "[0.0356844]\n",
      "[0.03550893]\n",
      "[0.035597]\n",
      "[0.03568609]\n",
      "[0.03571897]\n",
      "[0.03581375]\n",
      "[0.03573162]\n",
      "[0.03605088]\n",
      "[0.0360182]\n",
      "[0.03596475]\n",
      "[0.03592033]\n",
      "[0.03593797]\n",
      "[0.03601424]\n",
      "[0.03600644]\n",
      "[0.03601868]\n",
      "[0.03620104]\n",
      "[0.03622907]\n",
      "[0.03622732]\n",
      "[0.03628746]\n",
      "[0.03645647]\n",
      "[0.03658205]\n",
      "[0.03655766]\n",
      "[0.03651807]\n",
      "[0.03657414]\n",
      "[0.03653104]\n",
      "[0.03637584]\n",
      "[0.0363854]\n",
      "[0.0365006]\n",
      "[0.03643835]\n",
      "[0.03641411]\n",
      "[0.03650627]\n",
      "[0.03652014]\n",
      "[0.03641793]\n",
      "[0.03649421]\n",
      "[0.03647145]\n",
      "[0.03634003]\n",
      "[0.03653769]\n",
      "[0.03652972]\n",
      "[0.036506]\n",
      "[0.03647587]\n",
      "[0.03668152]\n",
      "[0.03677296]\n",
      "[0.03677274]\n",
      "[0.03674088]\n",
      "[0.03677491]\n",
      "[0.03680308]\n",
      "[0.03682204]\n",
      "[0.03692536]\n",
      "[0.03702882]\n",
      "[0.03706196]\n",
      "[0.03714537]\n",
      "[0.0372832]\n",
      "[0.03729013]\n",
      "[0.03727714]\n",
      "[0.0373021]\n",
      "[0.03732014]\n",
      "[0.03738984]\n",
      "[0.0374446]\n",
      "[0.03771713]\n",
      "[0.03777364]\n",
      "[0.03797111]\n",
      "[0.03817638]\n",
      "[0.03821875]\n",
      "[0.03848842]\n",
      "[0.03875294]\n",
      "[0.03897981]\n",
      "[0.0392246]\n",
      "[0.03964466]\n",
      "[0.03941672]\n",
      "[0.03927833]\n",
      "[0.03913789]\n",
      "[0.03906613]\n",
      "[0.03908744]\n",
      "[0.03909055]\n",
      "[0.03922367]\n",
      "[0.04010298]\n",
      "[0.03971177]\n",
      "[0.03952843]\n",
      "[0.0393215]\n",
      "[0.03927562]\n",
      "[0.0393653]\n",
      "[0.03934117]\n",
      "[0.03928238]\n",
      "[0.03919468]\n"
     ]
    }
   ],
   "source": [
    "# pred = model.predict(data[:])\n",
    "for i in pred:\n",
    "    print(i)"
   ]
  },
  {
   "cell_type": "code",
   "execution_count": 91,
   "id": "1c72883f",
   "metadata": {},
   "outputs": [
    {
     "name": "stdout",
     "output_type": "stream",
     "text": [
      "This Asana is --- 96.48% YFA0023--- and --- 3.52% YFA0024.\n",
      "This Asana is --- 96.31% YFA0023--- and --- 3.69% YFA0024.\n",
      "This Asana is --- 96.42% YFA0023--- and --- 3.58% YFA0024.\n",
      "This Asana is --- 96.29% YFA0023--- and --- 3.71% YFA0024.\n",
      "This Asana is --- 96.30% YFA0023--- and --- 3.70% YFA0024.\n",
      "This Asana is --- 96.33% YFA0023--- and --- 3.67% YFA0024.\n",
      "This Asana is --- 96.35% YFA0023--- and --- 3.65% YFA0024.\n",
      "This Asana is --- 96.41% YFA0023--- and --- 3.59% YFA0024.\n",
      "This Asana is --- 96.39% YFA0023--- and --- 3.61% YFA0024.\n",
      "This Asana is --- 96.44% YFA0023--- and --- 3.56% YFA0024.\n",
      "This Asana is --- 96.45% YFA0023--- and --- 3.55% YFA0024.\n",
      "This Asana is --- 96.44% YFA0023--- and --- 3.56% YFA0024.\n",
      "This Asana is --- 96.45% YFA0023--- and --- 3.55% YFA0024.\n",
      "This Asana is --- 96.45% YFA0023--- and --- 3.55% YFA0024.\n",
      "This Asana is --- 96.44% YFA0023--- and --- 3.56% YFA0024.\n",
      "This Asana is --- 96.43% YFA0023--- and --- 3.57% YFA0024.\n",
      "This Asana is --- 96.42% YFA0023--- and --- 3.58% YFA0024.\n",
      "This Asana is --- 96.43% YFA0023--- and --- 3.57% YFA0024.\n",
      "This Asana is --- 96.45% YFA0023--- and --- 3.55% YFA0024.\n",
      "This Asana is --- 96.44% YFA0023--- and --- 3.56% YFA0024.\n",
      "This Asana is --- 96.43% YFA0023--- and --- 3.57% YFA0024.\n",
      "This Asana is --- 96.43% YFA0023--- and --- 3.57% YFA0024.\n",
      "This Asana is --- 96.42% YFA0023--- and --- 3.58% YFA0024.\n",
      "This Asana is --- 96.43% YFA0023--- and --- 3.57% YFA0024.\n",
      "This Asana is --- 96.39% YFA0023--- and --- 3.61% YFA0024.\n",
      "This Asana is --- 96.40% YFA0023--- and --- 3.60% YFA0024.\n",
      "This Asana is --- 96.40% YFA0023--- and --- 3.60% YFA0024.\n",
      "This Asana is --- 96.41% YFA0023--- and --- 3.59% YFA0024.\n",
      "This Asana is --- 96.41% YFA0023--- and --- 3.59% YFA0024.\n",
      "This Asana is --- 96.40% YFA0023--- and --- 3.60% YFA0024.\n",
      "This Asana is --- 96.40% YFA0023--- and --- 3.60% YFA0024.\n",
      "This Asana is --- 96.40% YFA0023--- and --- 3.60% YFA0024.\n",
      "This Asana is --- 96.38% YFA0023--- and --- 3.62% YFA0024.\n",
      "This Asana is --- 96.38% YFA0023--- and --- 3.62% YFA0024.\n",
      "This Asana is --- 96.38% YFA0023--- and --- 3.62% YFA0024.\n",
      "This Asana is --- 96.37% YFA0023--- and --- 3.63% YFA0024.\n",
      "This Asana is --- 96.35% YFA0023--- and --- 3.65% YFA0024.\n",
      "This Asana is --- 96.34% YFA0023--- and --- 3.66% YFA0024.\n",
      "This Asana is --- 96.34% YFA0023--- and --- 3.66% YFA0024.\n",
      "This Asana is --- 96.35% YFA0023--- and --- 3.65% YFA0024.\n",
      "This Asana is --- 96.34% YFA0023--- and --- 3.66% YFA0024.\n",
      "This Asana is --- 96.35% YFA0023--- and --- 3.65% YFA0024.\n",
      "This Asana is --- 96.36% YFA0023--- and --- 3.64% YFA0024.\n",
      "This Asana is --- 96.36% YFA0023--- and --- 3.64% YFA0024.\n",
      "This Asana is --- 96.35% YFA0023--- and --- 3.65% YFA0024.\n",
      "This Asana is --- 96.36% YFA0023--- and --- 3.64% YFA0024.\n",
      "This Asana is --- 96.36% YFA0023--- and --- 3.64% YFA0024.\n",
      "This Asana is --- 96.35% YFA0023--- and --- 3.65% YFA0024.\n",
      "This Asana is --- 96.35% YFA0023--- and --- 3.65% YFA0024.\n",
      "This Asana is --- 96.36% YFA0023--- and --- 3.64% YFA0024.\n",
      "This Asana is --- 96.35% YFA0023--- and --- 3.65% YFA0024.\n",
      "This Asana is --- 96.35% YFA0023--- and --- 3.65% YFA0024.\n",
      "This Asana is --- 96.37% YFA0023--- and --- 3.63% YFA0024.\n",
      "This Asana is --- 96.35% YFA0023--- and --- 3.65% YFA0024.\n",
      "This Asana is --- 96.35% YFA0023--- and --- 3.65% YFA0024.\n",
      "This Asana is --- 96.35% YFA0023--- and --- 3.65% YFA0024.\n",
      "This Asana is --- 96.35% YFA0023--- and --- 3.65% YFA0024.\n",
      "This Asana is --- 96.33% YFA0023--- and --- 3.67% YFA0024.\n",
      "This Asana is --- 96.32% YFA0023--- and --- 3.68% YFA0024.\n",
      "This Asana is --- 96.32% YFA0023--- and --- 3.68% YFA0024.\n",
      "This Asana is --- 96.33% YFA0023--- and --- 3.67% YFA0024.\n",
      "This Asana is --- 96.32% YFA0023--- and --- 3.68% YFA0024.\n",
      "This Asana is --- 96.32% YFA0023--- and --- 3.68% YFA0024.\n",
      "This Asana is --- 96.32% YFA0023--- and --- 3.68% YFA0024.\n",
      "This Asana is --- 96.31% YFA0023--- and --- 3.69% YFA0024.\n",
      "This Asana is --- 96.30% YFA0023--- and --- 3.70% YFA0024.\n",
      "This Asana is --- 96.29% YFA0023--- and --- 3.71% YFA0024.\n",
      "This Asana is --- 96.29% YFA0023--- and --- 3.71% YFA0024.\n",
      "This Asana is --- 96.27% YFA0023--- and --- 3.73% YFA0024.\n",
      "This Asana is --- 96.27% YFA0023--- and --- 3.73% YFA0024.\n",
      "This Asana is --- 96.27% YFA0023--- and --- 3.73% YFA0024.\n",
      "This Asana is --- 96.27% YFA0023--- and --- 3.73% YFA0024.\n",
      "This Asana is --- 96.27% YFA0023--- and --- 3.73% YFA0024.\n",
      "This Asana is --- 96.26% YFA0023--- and --- 3.74% YFA0024.\n",
      "This Asana is --- 96.26% YFA0023--- and --- 3.74% YFA0024.\n",
      "This Asana is --- 96.23% YFA0023--- and --- 3.77% YFA0024.\n",
      "This Asana is --- 96.22% YFA0023--- and --- 3.78% YFA0024.\n",
      "This Asana is --- 96.20% YFA0023--- and --- 3.80% YFA0024.\n",
      "This Asana is --- 96.18% YFA0023--- and --- 3.82% YFA0024.\n",
      "This Asana is --- 96.18% YFA0023--- and --- 3.82% YFA0024.\n",
      "This Asana is --- 96.15% YFA0023--- and --- 3.85% YFA0024.\n",
      "This Asana is --- 96.12% YFA0023--- and --- 3.88% YFA0024.\n",
      "This Asana is --- 96.10% YFA0023--- and --- 3.90% YFA0024.\n",
      "This Asana is --- 96.08% YFA0023--- and --- 3.92% YFA0024.\n",
      "This Asana is --- 96.04% YFA0023--- and --- 3.96% YFA0024.\n",
      "This Asana is --- 96.06% YFA0023--- and --- 3.94% YFA0024.\n",
      "This Asana is --- 96.07% YFA0023--- and --- 3.93% YFA0024.\n",
      "This Asana is --- 96.09% YFA0023--- and --- 3.91% YFA0024.\n",
      "This Asana is --- 96.09% YFA0023--- and --- 3.91% YFA0024.\n",
      "This Asana is --- 96.09% YFA0023--- and --- 3.91% YFA0024.\n",
      "This Asana is --- 96.09% YFA0023--- and --- 3.91% YFA0024.\n",
      "This Asana is --- 96.08% YFA0023--- and --- 3.92% YFA0024.\n",
      "This Asana is --- 95.99% YFA0023--- and --- 4.01% YFA0024.\n",
      "This Asana is --- 96.03% YFA0023--- and --- 3.97% YFA0024.\n",
      "This Asana is --- 96.05% YFA0023--- and --- 3.95% YFA0024.\n",
      "This Asana is --- 96.07% YFA0023--- and --- 3.93% YFA0024.\n",
      "This Asana is --- 96.07% YFA0023--- and --- 3.93% YFA0024.\n",
      "This Asana is --- 96.06% YFA0023--- and --- 3.94% YFA0024.\n",
      "This Asana is --- 96.07% YFA0023--- and --- 3.93% YFA0024.\n",
      "This Asana is --- 96.07% YFA0023--- and --- 3.93% YFA0024.\n",
      "This Asana is --- 96.08% YFA0023--- and --- 3.92% YFA0024.\n"
     ]
    }
   ],
   "source": [
    "import numpy as np\n",
    "import tensorflow as tf\n",
    "\n",
    "class_names = [\"YFA0023\", \"YFA0024\"]\n",
    "\n",
    "for i in pred: \n",
    "    score = float(i)\n",
    "    print(f\"This Asana is --- {100 * (1 - score):.2f}% {class_names[0]}--- and --- {100 * score:.2f}% {class_names[1]}.\")\n",
    "\n",
    "\n"
   ]
  },
  {
   "cell_type": "code",
   "execution_count": null,
   "id": "a4adefc3",
   "metadata": {},
   "outputs": [],
   "source": []
  },
  {
   "cell_type": "code",
   "execution_count": null,
   "id": "abd74046",
   "metadata": {},
   "outputs": [],
   "source": []
  },
  {
   "cell_type": "markdown",
   "id": "d84c037f",
   "metadata": {},
   "source": [
    "# Model Building"
   ]
  },
  {
   "cell_type": "code",
   "execution_count": 89,
   "id": "a10ad226",
   "metadata": {},
   "outputs": [
    {
     "name": "stdout",
     "output_type": "stream",
     "text": [
      "Collecting xgboost\n",
      "  Downloading xgboost-1.7.6-py3-none-win_amd64.whl (70.9 MB)\n",
      "     --------------------------------------- 70.9/70.9 MB 14.2 MB/s eta 0:00:00\n",
      "Requirement already satisfied: scipy in c:\\users\\ranak\\anaconda3\\lib\\site-packages (from xgboost) (1.10.0)\n",
      "Requirement already satisfied: numpy in c:\\users\\ranak\\anaconda3\\lib\\site-packages (from xgboost) (1.23.5)\n",
      "Installing collected packages: xgboost\n",
      "Successfully installed xgboost-1.7.6\n"
     ]
    }
   ],
   "source": [
    "!pip install xgboost"
   ]
  },
  {
   "cell_type": "code",
   "execution_count": 150,
   "id": "a8613cda",
   "metadata": {},
   "outputs": [],
   "source": [
    "# Algos to be Used\n",
    "models = []\n",
    "models.append(('LR', LogisticRegression()))\n",
    "models.append(('KNN', KNeighborsClassifier()))\n",
    "models.append(('DTC', DecisionTreeClassifier()))\n",
    "models.append(('RFC', RandomForestClassifier()))\n",
    "models.append(('ABC', AdaBoostClassifier()))\n",
    "models.append(('NB', GaussianNB()))\n",
    "models.append(('SVM', SVC()))\n",
    "models.append(('XGB', XGBClassifier(use_label_encoder=False, eval_metric='mlogloss')))"
   ]
  },
  {
   "cell_type": "code",
   "execution_count": 151,
   "id": "20c5ac79",
   "metadata": {
    "scrolled": false
   },
   "outputs": [
    {
     "name": "stdout",
     "output_type": "stream",
     "text": [
      "                                                                                                            \n",
      "````````````````````````````````````````````````````````````````````````````````````````````````````````````\n",
      "Algorithnm : LogisticRegression()\n",
      "````````````````````````````````````````````````````````````````````````````````````````````````````````````\n",
      "Confusion Matrix:\n",
      "Classification Report:\n",
      "              precision    recall  f1-score   support\n",
      "\n",
      "           0       1.00      1.00      1.00        32\n",
      "           1       1.00      1.00      1.00        33\n",
      "\n",
      "    accuracy                           1.00        65\n",
      "   macro avg       1.00      1.00      1.00        65\n",
      "weighted avg       1.00      1.00      1.00        65\n",
      "\n",
      "R Squared = 1.0\n",
      "Accuracy:   100.0 %\n",
      "                                                                                                            \n",
      "````````````````````````````````````````````````````````````````````````````````````````````````````````````\n",
      "Algorithnm : KNeighborsClassifier()\n",
      "````````````````````````````````````````````````````````````````````````````````````````````````````````````\n",
      "Confusion Matrix:\n",
      "Classification Report:\n",
      "              precision    recall  f1-score   support\n",
      "\n",
      "           0       1.00      1.00      1.00        32\n",
      "           1       1.00      1.00      1.00        33\n",
      "\n",
      "    accuracy                           1.00        65\n",
      "   macro avg       1.00      1.00      1.00        65\n",
      "weighted avg       1.00      1.00      1.00        65\n",
      "\n",
      "R Squared = 1.0\n",
      "Accuracy:   100.0 %\n",
      "                                                                                                            \n",
      "````````````````````````````````````````````````````````````````````````````````````````````````````````````\n",
      "Algorithnm : DecisionTreeClassifier()\n",
      "````````````````````````````````````````````````````````````````````````````````````````````````````````````\n",
      "Confusion Matrix:\n",
      "Classification Report:\n",
      "              precision    recall  f1-score   support\n",
      "\n",
      "           0       1.00      1.00      1.00        32\n",
      "           1       1.00      1.00      1.00        33\n",
      "\n",
      "    accuracy                           1.00        65\n",
      "   macro avg       1.00      1.00      1.00        65\n",
      "weighted avg       1.00      1.00      1.00        65\n",
      "\n",
      "R Squared = 1.0\n",
      "Accuracy:   100.0 %\n",
      "                                                                                                            \n",
      "````````````````````````````````````````````````````````````````````````````````````````````````````````````\n",
      "Algorithnm : RandomForestClassifier()\n",
      "````````````````````````````````````````````````````````````````````````````````````````````````````````````\n",
      "Confusion Matrix:\n",
      "Classification Report:\n",
      "              precision    recall  f1-score   support\n",
      "\n",
      "           0       1.00      1.00      1.00        32\n",
      "           1       1.00      1.00      1.00        33\n",
      "\n",
      "    accuracy                           1.00        65\n",
      "   macro avg       1.00      1.00      1.00        65\n",
      "weighted avg       1.00      1.00      1.00        65\n",
      "\n",
      "R Squared = 1.0\n",
      "Accuracy:   100.0 %\n",
      "                                                                                                            \n",
      "````````````````````````````````````````````````````````````````````````````````````````````````````````````\n",
      "Algorithnm : AdaBoostClassifier()\n",
      "````````````````````````````````````````````````````````````````````````````````````````````````````````````\n",
      "Confusion Matrix:\n",
      "Classification Report:\n",
      "              precision    recall  f1-score   support\n",
      "\n",
      "           0       1.00      1.00      1.00        32\n",
      "           1       1.00      1.00      1.00        33\n",
      "\n",
      "    accuracy                           1.00        65\n",
      "   macro avg       1.00      1.00      1.00        65\n",
      "weighted avg       1.00      1.00      1.00        65\n",
      "\n",
      "R Squared = 1.0\n",
      "Accuracy:   100.0 %\n",
      "                                                                                                            \n",
      "````````````````````````````````````````````````````````````````````````````````````````````````````````````\n",
      "Algorithnm : GaussianNB()\n",
      "````````````````````````````````````````````````````````````````````````````````````````````````````````````\n",
      "Confusion Matrix:\n",
      "Classification Report:\n",
      "              precision    recall  f1-score   support\n",
      "\n",
      "           0       1.00      1.00      1.00        32\n",
      "           1       1.00      1.00      1.00        33\n",
      "\n",
      "    accuracy                           1.00        65\n",
      "   macro avg       1.00      1.00      1.00        65\n",
      "weighted avg       1.00      1.00      1.00        65\n",
      "\n",
      "R Squared = 1.0\n",
      "Accuracy:   100.0 %\n",
      "                                                                                                            \n",
      "````````````````````````````````````````````````````````````````````````````````````````````````````````````\n",
      "Algorithnm : SVC()\n",
      "````````````````````````````````````````````````````````````````````````````````````````````````````````````\n",
      "Confusion Matrix:\n",
      "Classification Report:\n",
      "              precision    recall  f1-score   support\n",
      "\n",
      "           0       1.00      1.00      1.00        32\n",
      "           1       1.00      1.00      1.00        33\n",
      "\n",
      "    accuracy                           1.00        65\n",
      "   macro avg       1.00      1.00      1.00        65\n",
      "weighted avg       1.00      1.00      1.00        65\n",
      "\n",
      "R Squared = 1.0\n",
      "Accuracy:   100.0 %\n",
      "                                                                                                            \n",
      "````````````````````````````````````````````````````````````````````````````````````````````````````````````\n",
      "Algorithnm : XGBClassifier(base_score=None, booster=None, callbacks=None,\n",
      "              colsample_bylevel=None, colsample_bynode=None,\n",
      "              colsample_bytree=None, early_stopping_rounds=None,\n",
      "              enable_categorical=False, eval_metric='mlogloss',\n",
      "              feature_types=None, gamma=None, gpu_id=None, grow_policy=None,\n",
      "              importance_type=None, interaction_constraints=None,\n",
      "              learning_rate=None, max_bin=None, max_cat_threshold=None,\n",
      "              max_cat_to_onehot=None, max_delta_step=None, max_depth=None,\n",
      "              max_leaves=None, min_child_weight=None, missing=nan,\n",
      "              monotone_constraints=None, n_estimators=100, n_jobs=None,\n",
      "              num_parallel_tree=None, predictor=None, random_state=None, ...)\n",
      "````````````````````````````````````````````````````````````````````````````````````````````````````````````\n",
      "Confusion Matrix:\n",
      "Classification Report:\n",
      "              precision    recall  f1-score   support\n",
      "\n",
      "           0       1.00      1.00      1.00        32\n",
      "           1       1.00      1.00      1.00        33\n",
      "\n",
      "    accuracy                           1.00        65\n",
      "   macro avg       1.00      1.00      1.00        65\n",
      "weighted avg       1.00      1.00      1.00        65\n",
      "\n",
      "R Squared = 1.0\n",
      "Accuracy:   100.0 %\n"
     ]
    }
   ],
   "source": [
    "results = []\n",
    "names = []\n",
    "for name, model in models:\n",
    "    model.fit(x_train,y_train)\n",
    "    prediction=model.predict(x_test)\n",
    "    result = confusion_matrix(y_test, prediction)\n",
    "    print(\"                                                                                                            \")\n",
    "    print(\"````````````````````````````````````````````````````````````````````````````````````````````````````````````\")\n",
    "    print(\"Algorithnm :\",model)\n",
    "    print(\"````````````````````````````````````````````````````````````````````````````````````````````````````````````\")\n",
    "    print(\"Confusion Matrix:\")\n",
    "    result1 = classification_report(y_test, prediction)\n",
    "    print(\"Classification Report:\",)\n",
    "    print (result1)\n",
    "    result2 = accuracy_score(y_test,prediction)\n",
    "    print ('R Squared =',r2_score(y_test, prediction))\n",
    "    print(\"Accuracy:  \",result2*100,\"%\")"
   ]
  },
  {
   "cell_type": "code",
   "execution_count": 152,
   "id": "38cf85c9",
   "metadata": {},
   "outputs": [],
   "source": [
    "# Final Model is SVC\n",
    "model = SVC()"
   ]
  },
  {
   "cell_type": "code",
   "execution_count": 154,
   "id": "aaf8813c",
   "metadata": {},
   "outputs": [],
   "source": [
    "model = model.fit(x_train,y_train)"
   ]
  },
  {
   "cell_type": "code",
   "execution_count": 155,
   "id": "94d99e2a",
   "metadata": {},
   "outputs": [],
   "source": [
    "y_pred = model.predict(x_test)"
   ]
  },
  {
   "cell_type": "code",
   "execution_count": 156,
   "id": "96ff5043",
   "metadata": {},
   "outputs": [
    {
     "name": "stdout",
     "output_type": "stream",
     "text": [
      "Accuracy: 1.0\n"
     ]
    }
   ],
   "source": [
    "print(\"Accuracy:\",metrics.accuracy_score(y_test, y_pred))"
   ]
  },
  {
   "cell_type": "code",
   "execution_count": 157,
   "id": "b0216b83",
   "metadata": {},
   "outputs": [],
   "source": [
    "import pickle\n",
    "\n",
    "with open('data/svc_model.pkl','wb') as f:\n",
    "    pickle.dump(model,f)"
   ]
  },
  {
   "cell_type": "code",
   "execution_count": 158,
   "id": "423b6e56",
   "metadata": {},
   "outputs": [
    {
     "name": "stdout",
     "output_type": "stream",
     "text": [
      "Requirement already satisfied: coremltools in c:\\users\\ranak\\anaconda3\\lib\\site-packages (6.3.0)\n",
      "Requirement already satisfied: protobuf<=4.0.0,>=3.1.0 in c:\\users\\ranak\\anaconda3\\lib\\site-packages (from coremltools) (3.20.3)\n",
      "Requirement already satisfied: sympy in c:\\users\\ranak\\anaconda3\\lib\\site-packages (from coremltools) (1.11.1)\n",
      "Requirement already satisfied: tqdm in c:\\users\\ranak\\anaconda3\\lib\\site-packages (from coremltools) (4.64.1)\n",
      "Requirement already satisfied: packaging in c:\\users\\ranak\\anaconda3\\lib\\site-packages (from coremltools) (22.0)\n",
      "Requirement already satisfied: numpy>=1.14.5 in c:\\users\\ranak\\anaconda3\\lib\\site-packages (from coremltools) (1.23.5)\n",
      "Requirement already satisfied: mpmath>=0.19 in c:\\users\\ranak\\anaconda3\\lib\\site-packages (from sympy->coremltools) (1.2.1)\n",
      "Requirement already satisfied: colorama in c:\\users\\ranak\\anaconda3\\lib\\site-packages (from tqdm->coremltools) (0.4.6)\n"
     ]
    }
   ],
   "source": [
    "!pip install coremltools"
   ]
  },
  {
   "cell_type": "code",
   "execution_count": 159,
   "id": "583bf0e0",
   "metadata": {},
   "outputs": [
    {
     "name": "stderr",
     "output_type": "stream",
     "text": [
      "XGBoost version 1.7.6 has not been tested with coremltools. You may run into unexpected errors. XGBoost 1.4.2 is the most recent version that has been tested.\n"
     ]
    }
   ],
   "source": [
    "import coremltools\n",
    "coreml_model = coremltools.converters.sklearn.convert(model)\n",
    "coreml_model.save('data/_svc_watch.mlmodel')"
   ]
  },
  {
   "cell_type": "code",
   "execution_count": null,
   "id": "b4c9eee4",
   "metadata": {},
   "outputs": [],
   "source": []
  }
 ],
 "metadata": {
  "kernelspec": {
   "display_name": "Python 3 (ipykernel)",
   "language": "python",
   "name": "python3"
  },
  "language_info": {
   "codemirror_mode": {
    "name": "ipython",
    "version": 3
   },
   "file_extension": ".py",
   "mimetype": "text/x-python",
   "name": "python",
   "nbconvert_exporter": "python",
   "pygments_lexer": "ipython3",
   "version": "3.10.9"
  }
 },
 "nbformat": 4,
 "nbformat_minor": 5
}
