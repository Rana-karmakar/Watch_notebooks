{
 "cells": [
  {
   "cell_type": "code",
   "execution_count": 1,
   "id": "857c4c8d",
   "metadata": {},
   "outputs": [
    {
     "name": "stdout",
     "output_type": "stream",
     "text": [
      "2.12.0\n"
     ]
    }
   ],
   "source": [
    "import os\n",
    "\n",
    "import tensorflow as tf\n",
    "from tensorflow import keras\n",
    "\n",
    "print(tf.version.VERSION)"
   ]
  },
  {
   "cell_type": "code",
   "execution_count": 2,
   "id": "5727a4cb",
   "metadata": {},
   "outputs": [
    {
     "name": "stdout",
     "output_type": "stream",
     "text": [
      "Model: \"sequential_2\"\n",
      "_________________________________________________________________\n",
      " Layer (type)                Output Shape              Param #   \n",
      "=================================================================\n",
      " dense_6 (Dense)             (None, 10)                40        \n",
      "                                                                 \n",
      " dense_7 (Dense)             (None, 18)                198       \n",
      "                                                                 \n",
      " dense_8 (Dense)             (None, 26)                494       \n",
      "                                                                 \n",
      "=================================================================\n",
      "Total params: 732\n",
      "Trainable params: 732\n",
      "Non-trainable params: 0\n",
      "_________________________________________________________________\n"
     ]
    }
   ],
   "source": [
    "model = tf.keras.models.load_model('watch.h5')\n",
    "\n",
    "# Show the model architecture\n",
    "model.summary()"
   ]
  },
  {
   "cell_type": "code",
   "execution_count": 5,
   "id": "e608ea42-21ea-47fc-a03f-af569235ddaf",
   "metadata": {},
   "outputs": [],
   "source": [
    "import coremltools as ct\n"
   ]
  },
  {
   "cell_type": "code",
   "execution_count": 6,
   "id": "ba5690c3-c260-4e86-9a17-b832476ff757",
   "metadata": {},
   "outputs": [
    {
     "name": "stderr",
     "output_type": "stream",
     "text": [
      "Running TensorFlow Graph Passes: 100%|██████████████████████████████████████████████| 6/6 [00:00<00:00, 44.85 passes/s]\n",
      "Converting TF Frontend ==> MIL Ops: 100%|██████████████████████████████████████████| 17/17 [00:00<00:00, 2290.64 ops/s]\n",
      "Running MIL frontend_tensorflow2 pipeline: 100%|██████████████████████████████████| 7/7 [00:00<00:00, 6967.28 passes/s]\n",
      "Running MIL default pipeline: 100%|█████████████████████████████████████████████| 56/56 [00:00<00:00, 1280.65 passes/s]\n",
      "Running MIL backend_neuralnetwork pipeline: 100%|█████████████████████████████████| 8/8 [00:00<00:00, 4009.85 passes/s]\n",
      "Translating MIL ==> NeuralNetwork Ops: 100%|██████████████████████████████████████| 13/13 [00:00<00:00, 12636.37 ops/s]\n"
     ]
    }
   ],
   "source": [
    "coreml_model = ct.convert(model)\n",
    "\n",
    "# Save the Core ML model\n",
    "coreml_model.save('watch_model.mlmodel')"
   ]
  },
  {
   "cell_type": "code",
   "execution_count": null,
   "id": "19ca1d1b-3f98-45db-91d9-b04422568108",
   "metadata": {},
   "outputs": [],
   "source": []
  }
 ],
 "metadata": {
  "kernelspec": {
   "display_name": "Python 3 (ipykernel)",
   "language": "python",
   "name": "python3"
  },
  "language_info": {
   "codemirror_mode": {
    "name": "ipython",
    "version": 3
   },
   "file_extension": ".py",
   "mimetype": "text/x-python",
   "name": "python",
   "nbconvert_exporter": "python",
   "pygments_lexer": "ipython3",
   "version": "3.9.0"
  }
 },
 "nbformat": 4,
 "nbformat_minor": 5
}
